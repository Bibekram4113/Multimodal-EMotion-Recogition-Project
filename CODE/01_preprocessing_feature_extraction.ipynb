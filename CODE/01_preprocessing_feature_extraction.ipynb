{
 "cells": [
  {
   "cell_type": "code",
   "execution_count": 3,
   "id": "d5ac4fd2-2fba-4df5-bded-481447509747",
   "metadata": {},
   "outputs": [
    {
     "name": "stdout",
     "output_type": "stream",
     "text": [
      "Combined features saved to C:/Users/bibek/Downloads/eeg main data txt/featurerequired/combined_features.xlsx\n"
     ]
    }
   ],
   "source": [
    "import pandas as pd\n",
    "import os\n",
    "\n",
    "# Define the directory containing all emotion feature files\n",
    "feature_dir = \"C:/Users/bibek/Downloads/eeg main data txt/featurerequired\"  # Directory containing the files\n",
    "\n",
    "# List of all emotion files\n",
    "emotion_files = [\"fear_features.xlsx\", \"anger_features.xlsx\", \"normal_features.xlsx\", \n",
    "                 \"sad_features.xlsx\", \"happy_features.xlsx\", \"surprise_features.xlsx\"]\n",
    "\n",
    "# Initialize an empty list to store dataframes\n",
    "all_features = []\n",
    "\n",
    "# Loop through each file and read the data\n",
    "for file in emotion_files:\n",
    "    file_path = os.path.join(feature_dir, file)\n",
    "    emotion_df = pd.read_excel(file_path)\n",
    "    all_features.append(emotion_df)\n",
    "\n",
    "# Combine all dataframes into one\n",
    "combined_features = pd.concat(all_features, ignore_index=True)\n",
    "\n",
    "# Reorder columns for better readability if needed\n",
    "columns_order = [\"Subject\", \"Emotion\"] + [col for col in combined_features.columns if col not in [\"Subject\", \"Emotion\"]]\n",
    "combined_features = combined_features[columns_order]\n",
    "\n",
    "# Save the combined dataframe to a new Excel file\n",
    "output_file = \"C:/Users/bibek/Downloads/eeg main data txt/featurerequired/combined_features.xlsx\"  # Desired output path\n",
    "combined_features.to_excel(output_file, index=False)\n",
    "\n",
    "print(f\"Combined features saved to {output_file}\")\n"
   ]
  },
  {
   "cell_type": "code",
   "execution_count": 20,
   "id": "204bbcb0-0180-4b1d-a6ba-32ef9c0479a2",
   "metadata": {},
   "outputs": [
    {
     "name": "stdout",
     "output_type": "stream",
     "text": [
      "Combined file saved at: C:\\Users\\bibek\\Downloads\\eeg main data txt\\preprocessednew\\surprise_combined.csv\n"
     ]
    }
   ],
   "source": [
    "import os\n",
    "import pandas as pd\n",
    "\n",
    "# Define the folder path for the emotion\n",
    "emotion_folder = r'C:\\Users\\bibek\\Downloads\\eeg main data txt\\preprocessednew\\surprise'\n",
    "output_file = r'C:\\Users\\bibek\\Downloads\\eeg main data txt\\preprocessednew\\surprise_combined.csv'\n",
    "\n",
    "# Initialize an empty list to store dataframes\n",
    "dataframes = []\n",
    "\n",
    "# Loop through all files in the folder\n",
    "for file_name in os.listdir(emotion_folder):\n",
    "    if file_name.endswith('.csv'):\n",
    "        file_path = os.path.join(emotion_folder, file_name)\n",
    "        \n",
    "        # Read the CSV file\n",
    "        df = pd.read_csv(file_path)\n",
    "        \n",
    "        # Add a column to identify the subject (optional but helpful)\n",
    "        df['Subject'] = file_name.replace('.csv', '')\n",
    "        \n",
    "        # Append the dataframe to the list\n",
    "        dataframes.append(df)\n",
    "\n",
    "# Concatenate all dataframes into a single dataframe\n",
    "combined_df = pd.concat(dataframes, ignore_index=True)\n",
    "\n",
    "# Save the combined dataframe to a single CSV file\n",
    "combined_df.to_csv(output_file, index=False)\n",
    "\n",
    "print(f\"Combined file saved at: {output_file}\")\n"
   ]
  },
  {
   "cell_type": "code",
   "execution_count": 26,
   "id": "55402915-4447-4297-a2d0-9d37fa92bbcc",
   "metadata": {},
   "outputs": [
    {
     "ename": "FileNotFoundError",
     "evalue": "[Errno 2] No such file or directory: 'C:\\\\Users\\\\bibek\\\\Downloads\\\\eeg main data txt\\\\preprocessednew\\\\preprocessedcombine\\\\surprise_preprocessed'",
     "output_type": "error",
     "traceback": [
      "\u001b[1;31m---------------------------------------------------------------------------\u001b[0m",
      "\u001b[1;31mFileNotFoundError\u001b[0m                         Traceback (most recent call last)",
      "Cell \u001b[1;32mIn[26], line 85\u001b[0m\n\u001b[0;32m     83\u001b[0m \u001b[38;5;28;01mfor\u001b[39;00m emotion, filename \u001b[38;5;129;01min\u001b[39;00m file_emotions\u001b[38;5;241m.\u001b[39mitems():\n\u001b[0;32m     84\u001b[0m     file_path \u001b[38;5;241m=\u001b[39m os\u001b[38;5;241m.\u001b[39mpath\u001b[38;5;241m.\u001b[39mjoin(base_dir, filename)\n\u001b[1;32m---> 85\u001b[0m     emotion_features \u001b[38;5;241m=\u001b[39m process_dataset(file_path, emotion)\n\u001b[0;32m     86\u001b[0m     all_features\u001b[38;5;241m.\u001b[39mappend(emotion_features)\n\u001b[0;32m     88\u001b[0m \u001b[38;5;66;03m# Concatenate all features into a single DataFrame\u001b[39;00m\n",
      "Cell \u001b[1;32mIn[26], line 54\u001b[0m, in \u001b[0;36mprocess_dataset\u001b[1;34m(file_path, emotion_label)\u001b[0m\n\u001b[0;32m     52\u001b[0m \u001b[38;5;28;01mdef\u001b[39;00m \u001b[38;5;21mprocess_dataset\u001b[39m(file_path, emotion_label):\n\u001b[0;32m     53\u001b[0m     \u001b[38;5;66;03m# Load the dataset\u001b[39;00m\n\u001b[1;32m---> 54\u001b[0m     data \u001b[38;5;241m=\u001b[39m pd\u001b[38;5;241m.\u001b[39mread_csv(file_path)\n\u001b[0;32m     56\u001b[0m     \u001b[38;5;66;03m# Extract numerical EEG data and subject info\u001b[39;00m\n\u001b[0;32m     57\u001b[0m     eeg_data \u001b[38;5;241m=\u001b[39m data\u001b[38;5;241m.\u001b[39miloc[:, :\u001b[38;5;241m-\u001b[39m\u001b[38;5;241m1\u001b[39m]\u001b[38;5;241m.\u001b[39mvalues  \u001b[38;5;66;03m# All columns except 'Subject'\u001b[39;00m\n",
      "File \u001b[1;32m~\\anaconda3\\Lib\\site-packages\\pandas\\io\\parsers\\readers.py:1026\u001b[0m, in \u001b[0;36mread_csv\u001b[1;34m(filepath_or_buffer, sep, delimiter, header, names, index_col, usecols, dtype, engine, converters, true_values, false_values, skipinitialspace, skiprows, skipfooter, nrows, na_values, keep_default_na, na_filter, verbose, skip_blank_lines, parse_dates, infer_datetime_format, keep_date_col, date_parser, date_format, dayfirst, cache_dates, iterator, chunksize, compression, thousands, decimal, lineterminator, quotechar, quoting, doublequote, escapechar, comment, encoding, encoding_errors, dialect, on_bad_lines, delim_whitespace, low_memory, memory_map, float_precision, storage_options, dtype_backend)\u001b[0m\n\u001b[0;32m   1013\u001b[0m kwds_defaults \u001b[38;5;241m=\u001b[39m _refine_defaults_read(\n\u001b[0;32m   1014\u001b[0m     dialect,\n\u001b[0;32m   1015\u001b[0m     delimiter,\n\u001b[1;32m   (...)\u001b[0m\n\u001b[0;32m   1022\u001b[0m     dtype_backend\u001b[38;5;241m=\u001b[39mdtype_backend,\n\u001b[0;32m   1023\u001b[0m )\n\u001b[0;32m   1024\u001b[0m kwds\u001b[38;5;241m.\u001b[39mupdate(kwds_defaults)\n\u001b[1;32m-> 1026\u001b[0m \u001b[38;5;28;01mreturn\u001b[39;00m _read(filepath_or_buffer, kwds)\n",
      "File \u001b[1;32m~\\anaconda3\\Lib\\site-packages\\pandas\\io\\parsers\\readers.py:620\u001b[0m, in \u001b[0;36m_read\u001b[1;34m(filepath_or_buffer, kwds)\u001b[0m\n\u001b[0;32m    617\u001b[0m _validate_names(kwds\u001b[38;5;241m.\u001b[39mget(\u001b[38;5;124m\"\u001b[39m\u001b[38;5;124mnames\u001b[39m\u001b[38;5;124m\"\u001b[39m, \u001b[38;5;28;01mNone\u001b[39;00m))\n\u001b[0;32m    619\u001b[0m \u001b[38;5;66;03m# Create the parser.\u001b[39;00m\n\u001b[1;32m--> 620\u001b[0m parser \u001b[38;5;241m=\u001b[39m TextFileReader(filepath_or_buffer, \u001b[38;5;241m*\u001b[39m\u001b[38;5;241m*\u001b[39mkwds)\n\u001b[0;32m    622\u001b[0m \u001b[38;5;28;01mif\u001b[39;00m chunksize \u001b[38;5;129;01mor\u001b[39;00m iterator:\n\u001b[0;32m    623\u001b[0m     \u001b[38;5;28;01mreturn\u001b[39;00m parser\n",
      "File \u001b[1;32m~\\anaconda3\\Lib\\site-packages\\pandas\\io\\parsers\\readers.py:1620\u001b[0m, in \u001b[0;36mTextFileReader.__init__\u001b[1;34m(self, f, engine, **kwds)\u001b[0m\n\u001b[0;32m   1617\u001b[0m     \u001b[38;5;28mself\u001b[39m\u001b[38;5;241m.\u001b[39moptions[\u001b[38;5;124m\"\u001b[39m\u001b[38;5;124mhas_index_names\u001b[39m\u001b[38;5;124m\"\u001b[39m] \u001b[38;5;241m=\u001b[39m kwds[\u001b[38;5;124m\"\u001b[39m\u001b[38;5;124mhas_index_names\u001b[39m\u001b[38;5;124m\"\u001b[39m]\n\u001b[0;32m   1619\u001b[0m \u001b[38;5;28mself\u001b[39m\u001b[38;5;241m.\u001b[39mhandles: IOHandles \u001b[38;5;241m|\u001b[39m \u001b[38;5;28;01mNone\u001b[39;00m \u001b[38;5;241m=\u001b[39m \u001b[38;5;28;01mNone\u001b[39;00m\n\u001b[1;32m-> 1620\u001b[0m \u001b[38;5;28mself\u001b[39m\u001b[38;5;241m.\u001b[39m_engine \u001b[38;5;241m=\u001b[39m \u001b[38;5;28mself\u001b[39m\u001b[38;5;241m.\u001b[39m_make_engine(f, \u001b[38;5;28mself\u001b[39m\u001b[38;5;241m.\u001b[39mengine)\n",
      "File \u001b[1;32m~\\anaconda3\\Lib\\site-packages\\pandas\\io\\parsers\\readers.py:1880\u001b[0m, in \u001b[0;36mTextFileReader._make_engine\u001b[1;34m(self, f, engine)\u001b[0m\n\u001b[0;32m   1878\u001b[0m     \u001b[38;5;28;01mif\u001b[39;00m \u001b[38;5;124m\"\u001b[39m\u001b[38;5;124mb\u001b[39m\u001b[38;5;124m\"\u001b[39m \u001b[38;5;129;01mnot\u001b[39;00m \u001b[38;5;129;01min\u001b[39;00m mode:\n\u001b[0;32m   1879\u001b[0m         mode \u001b[38;5;241m+\u001b[39m\u001b[38;5;241m=\u001b[39m \u001b[38;5;124m\"\u001b[39m\u001b[38;5;124mb\u001b[39m\u001b[38;5;124m\"\u001b[39m\n\u001b[1;32m-> 1880\u001b[0m \u001b[38;5;28mself\u001b[39m\u001b[38;5;241m.\u001b[39mhandles \u001b[38;5;241m=\u001b[39m get_handle(\n\u001b[0;32m   1881\u001b[0m     f,\n\u001b[0;32m   1882\u001b[0m     mode,\n\u001b[0;32m   1883\u001b[0m     encoding\u001b[38;5;241m=\u001b[39m\u001b[38;5;28mself\u001b[39m\u001b[38;5;241m.\u001b[39moptions\u001b[38;5;241m.\u001b[39mget(\u001b[38;5;124m\"\u001b[39m\u001b[38;5;124mencoding\u001b[39m\u001b[38;5;124m\"\u001b[39m, \u001b[38;5;28;01mNone\u001b[39;00m),\n\u001b[0;32m   1884\u001b[0m     compression\u001b[38;5;241m=\u001b[39m\u001b[38;5;28mself\u001b[39m\u001b[38;5;241m.\u001b[39moptions\u001b[38;5;241m.\u001b[39mget(\u001b[38;5;124m\"\u001b[39m\u001b[38;5;124mcompression\u001b[39m\u001b[38;5;124m\"\u001b[39m, \u001b[38;5;28;01mNone\u001b[39;00m),\n\u001b[0;32m   1885\u001b[0m     memory_map\u001b[38;5;241m=\u001b[39m\u001b[38;5;28mself\u001b[39m\u001b[38;5;241m.\u001b[39moptions\u001b[38;5;241m.\u001b[39mget(\u001b[38;5;124m\"\u001b[39m\u001b[38;5;124mmemory_map\u001b[39m\u001b[38;5;124m\"\u001b[39m, \u001b[38;5;28;01mFalse\u001b[39;00m),\n\u001b[0;32m   1886\u001b[0m     is_text\u001b[38;5;241m=\u001b[39mis_text,\n\u001b[0;32m   1887\u001b[0m     errors\u001b[38;5;241m=\u001b[39m\u001b[38;5;28mself\u001b[39m\u001b[38;5;241m.\u001b[39moptions\u001b[38;5;241m.\u001b[39mget(\u001b[38;5;124m\"\u001b[39m\u001b[38;5;124mencoding_errors\u001b[39m\u001b[38;5;124m\"\u001b[39m, \u001b[38;5;124m\"\u001b[39m\u001b[38;5;124mstrict\u001b[39m\u001b[38;5;124m\"\u001b[39m),\n\u001b[0;32m   1888\u001b[0m     storage_options\u001b[38;5;241m=\u001b[39m\u001b[38;5;28mself\u001b[39m\u001b[38;5;241m.\u001b[39moptions\u001b[38;5;241m.\u001b[39mget(\u001b[38;5;124m\"\u001b[39m\u001b[38;5;124mstorage_options\u001b[39m\u001b[38;5;124m\"\u001b[39m, \u001b[38;5;28;01mNone\u001b[39;00m),\n\u001b[0;32m   1889\u001b[0m )\n\u001b[0;32m   1890\u001b[0m \u001b[38;5;28;01massert\u001b[39;00m \u001b[38;5;28mself\u001b[39m\u001b[38;5;241m.\u001b[39mhandles \u001b[38;5;129;01mis\u001b[39;00m \u001b[38;5;129;01mnot\u001b[39;00m \u001b[38;5;28;01mNone\u001b[39;00m\n\u001b[0;32m   1891\u001b[0m f \u001b[38;5;241m=\u001b[39m \u001b[38;5;28mself\u001b[39m\u001b[38;5;241m.\u001b[39mhandles\u001b[38;5;241m.\u001b[39mhandle\n",
      "File \u001b[1;32m~\\anaconda3\\Lib\\site-packages\\pandas\\io\\common.py:873\u001b[0m, in \u001b[0;36mget_handle\u001b[1;34m(path_or_buf, mode, encoding, compression, memory_map, is_text, errors, storage_options)\u001b[0m\n\u001b[0;32m    868\u001b[0m \u001b[38;5;28;01melif\u001b[39;00m \u001b[38;5;28misinstance\u001b[39m(handle, \u001b[38;5;28mstr\u001b[39m):\n\u001b[0;32m    869\u001b[0m     \u001b[38;5;66;03m# Check whether the filename is to be opened in binary mode.\u001b[39;00m\n\u001b[0;32m    870\u001b[0m     \u001b[38;5;66;03m# Binary mode does not support 'encoding' and 'newline'.\u001b[39;00m\n\u001b[0;32m    871\u001b[0m     \u001b[38;5;28;01mif\u001b[39;00m ioargs\u001b[38;5;241m.\u001b[39mencoding \u001b[38;5;129;01mand\u001b[39;00m \u001b[38;5;124m\"\u001b[39m\u001b[38;5;124mb\u001b[39m\u001b[38;5;124m\"\u001b[39m \u001b[38;5;129;01mnot\u001b[39;00m \u001b[38;5;129;01min\u001b[39;00m ioargs\u001b[38;5;241m.\u001b[39mmode:\n\u001b[0;32m    872\u001b[0m         \u001b[38;5;66;03m# Encoding\u001b[39;00m\n\u001b[1;32m--> 873\u001b[0m         handle \u001b[38;5;241m=\u001b[39m \u001b[38;5;28mopen\u001b[39m(\n\u001b[0;32m    874\u001b[0m             handle,\n\u001b[0;32m    875\u001b[0m             ioargs\u001b[38;5;241m.\u001b[39mmode,\n\u001b[0;32m    876\u001b[0m             encoding\u001b[38;5;241m=\u001b[39mioargs\u001b[38;5;241m.\u001b[39mencoding,\n\u001b[0;32m    877\u001b[0m             errors\u001b[38;5;241m=\u001b[39merrors,\n\u001b[0;32m    878\u001b[0m             newline\u001b[38;5;241m=\u001b[39m\u001b[38;5;124m\"\u001b[39m\u001b[38;5;124m\"\u001b[39m,\n\u001b[0;32m    879\u001b[0m         )\n\u001b[0;32m    880\u001b[0m     \u001b[38;5;28;01melse\u001b[39;00m:\n\u001b[0;32m    881\u001b[0m         \u001b[38;5;66;03m# Binary mode\u001b[39;00m\n\u001b[0;32m    882\u001b[0m         handle \u001b[38;5;241m=\u001b[39m \u001b[38;5;28mopen\u001b[39m(handle, ioargs\u001b[38;5;241m.\u001b[39mmode)\n",
      "\u001b[1;31mFileNotFoundError\u001b[0m: [Errno 2] No such file or directory: 'C:\\\\Users\\\\bibek\\\\Downloads\\\\eeg main data txt\\\\preprocessednew\\\\preprocessedcombine\\\\surprise_preprocessed'"
     ]
    }
   ],
   "source": [
    "import os\n",
    "import numpy as np\n",
    "import pandas as pd\n",
    "from scipy.signal import welch\n",
    "from scipy.stats import skew, kurtosis\n",
    "from scipy.integrate import simps\n",
    "import pywt\n",
    "\n",
    "# Function to calculate band power\n",
    "def bandpower(psd, freqs, band):\n",
    "    band_idx = np.logical_and(freqs >= band[0], freqs <= band[1])\n",
    "    return simps(psd[:, band_idx], freqs[band_idx], axis=1)\n",
    "\n",
    "# Feature extraction functions\n",
    "def extract_features(data, fs=256):\n",
    "    features = {}\n",
    "    \n",
    "    # Time-domain features\n",
    "    features['mean'] = np.mean(data, axis=1)\n",
    "    features['std'] = np.std(data, axis=1)\n",
    "    features['skewness'] = skew(data, axis=1)\n",
    "    features['kurtosis'] = kurtosis(data, axis=1)\n",
    "    features['peak_to_peak'] = np.ptp(data, axis=1)\n",
    "\n",
    "    # Frequency-domain features (using Welch's method)\n",
    "    freqs, psd = welch(data, fs, nperseg=256, axis=1)\n",
    "    \n",
    "    delta_band = (0.5, 4)\n",
    "    theta_band = (4, 8)\n",
    "    alpha_band = (8, 13)\n",
    "    beta_band = (13, 30)\n",
    "    gamma_band = (30, 50)\n",
    "\n",
    "    features['delta_power'] = bandpower(psd, freqs, delta_band)\n",
    "    features['theta_power'] = bandpower(psd, freqs, theta_band)\n",
    "    features['alpha_power'] = bandpower(psd, freqs, alpha_band)\n",
    "    features['beta_power'] = bandpower(psd, freqs, beta_band)\n",
    "    features['gamma_power'] = bandpower(psd, freqs, gamma_band)\n",
    "\n",
    "    # Nonlinear features\n",
    "    features['entropy'] = -np.sum(psd * np.log(psd + 1e-10), axis=1)  # Spectral entropy\n",
    "\n",
    "    # Time-frequency features using wavelet transform\n",
    "    coeffs = pywt.wavedec(data, 'db4', axis=1, level=5)\n",
    "    for i, c in enumerate(coeffs):\n",
    "        features[f'wavelet_level_{i+1}_mean'] = np.mean(c, axis=1)\n",
    "        features[f'wavelet_level_{i+1}_std'] = np.std(c, axis=1)\n",
    "\n",
    "    return features\n",
    "\n",
    "# Process a dataset and extract features\n",
    "def process_dataset(file_path, emotion_label):\n",
    "    # Load the dataset\n",
    "    data = pd.read_csv(file_path)\n",
    "    \n",
    "    # Extract numerical EEG data and subject info\n",
    "    eeg_data = data.iloc[:, :-1].values  # All columns except 'Subject'\n",
    "    subjects = data['Subject']\n",
    "\n",
    "    # Extract features\n",
    "    features = extract_features(eeg_data)\n",
    "\n",
    "    # Combine features into a DataFrame\n",
    "    features_df = pd.DataFrame(features)\n",
    "    features_df['Subject'] = subjects\n",
    "    features_df['Emotion'] = emotion_label\n",
    "\n",
    "    return features_df\n",
    "\n",
    "# Directory and filenames\n",
    "base_dir = r'C:\\Users\\bibek\\Downloads\\eeg main data txt\\preprocessednew\\preprocessedcombine'\n",
    "file_emotions = {\n",
    "    'surprise': 'surprise_preprocessed',\n",
    "    'fear': 'fear_preprocessed',\n",
    "    'normal': 'normal_preprocessed',\n",
    "    'anger': 'anger_preprocessed',\n",
    "    'sad': 'sad_preprocessed',\n",
    "    'happy': 'happy_preprocessed'\n",
    "}\n",
    "\n",
    "# Process all files and combine features\n",
    "all_features = []\n",
    "for emotion, filename in file_emotions.items():\n",
    "    file_path = os.path.join(base_dir, filename)\n",
    "    emotion_features = process_dataset(file_path, emotion)\n",
    "    all_features.append(emotion_features)\n",
    "\n",
    "# Concatenate all features into a single DataFrame\n",
    "all_features_df = pd.concat(all_features, ignore_index=True)\n",
    "\n",
    "# Save the features to a CSV file\n",
    "output_path = os.path.join(base_dir, 'extracted_eeg_features.csv')\n",
    "all_features_df.to_csv(output_path, index=False)\n",
    "\n",
    "print(f\"Feature extraction completed. Saved to '{output_path}'.\")\n",
    "import os\n",
    "import numpy as np\n",
    "import pandas as pd\n",
    "from scipy.signal import welch\n",
    "from scipy.stats import skew, kurtosis\n",
    "from scipy.integrate import simps\n",
    "import pywt\n",
    "\n",
    "# Function to calculate band power\n",
    "def bandpower(psd, freqs, band):\n",
    "    band_idx = np.logical_and(freqs >= band[0], freqs <= band[1])\n",
    "    return simps(psd[:, band_idx], freqs[band_idx], axis=1)\n",
    "\n",
    "# Feature extraction functions\n",
    "def extract_features(data, fs=256):\n",
    "    features = {}\n",
    "    \n",
    "    # Time-domain features\n",
    "    features['mean'] = np.mean(data, axis=1)\n",
    "    features['std'] = np.std(data, axis=1)\n",
    "    features['skewness'] = skew(data, axis=1)\n",
    "    features['kurtosis'] = kurtosis(data, axis=1)\n",
    "    features['peak_to_peak'] = np.ptp(data, axis=1)\n",
    "\n",
    "    # Frequency-domain features (using Welch's method)\n",
    "    freqs, psd = welch(data, fs, nperseg=256, axis=1)\n",
    "    \n",
    "    delta_band = (0.5, 4)\n",
    "    theta_band = (4, 8)\n",
    "    alpha_band = (8, 13)\n",
    "    beta_band = (13, 30)\n",
    "    gamma_band = (30, 50)\n",
    "\n",
    "    features['delta_power'] = bandpower(psd, freqs, delta_band)\n",
    "    features['theta_power'] = bandpower(psd, freqs, theta_band)\n",
    "    features['alpha_power'] = bandpower(psd, freqs, alpha_band)\n",
    "    features['beta_power'] = bandpower(psd, freqs, beta_band)\n",
    "    features['gamma_power'] = bandpower(psd, freqs, gamma_band)\n",
    "\n",
    "    # Nonlinear features\n",
    "    features['entropy'] = -np.sum(psd * np.log(psd + 1e-10), axis=1)  # Spectral entropy\n",
    "\n",
    "    # Time-frequency features using wavelet transform\n",
    "    coeffs = pywt.wavedec(data, 'db4', axis=1, level=5)\n",
    "    for i, c in enumerate(coeffs):\n",
    "        features[f'wavelet_level_{i+1}_mean'] = np.mean(c, axis=1)\n",
    "        features[f'wavelet_level_{i+1}_std'] = np.std(c, axis=1)\n",
    "\n",
    "    return features\n",
    "\n",
    "# Process a dataset and extract features\n",
    "def process_dataset(file_path, emotion_label):\n",
    "    # Load the dataset\n",
    "    data = pd.read_csv(file_path)\n",
    "    \n",
    "    # Extract numerical EEG data and subject info\n",
    "    eeg_data = data.iloc[:, :-1].values  # All columns except 'Subject'\n",
    "    subjects = data['Subject']\n",
    "\n",
    "    # Extract features\n",
    "    features = extract_features(eeg_data)\n",
    "\n",
    "    # Combine features into a DataFrame\n",
    "    features_df = pd.DataFrame(features)\n",
    "    features_df['Subject'] = subjects\n",
    "    features_df['Emotion'] = emotion_label\n",
    "\n",
    "    return features_df\n",
    "\n",
    "# Directory and filenames\n",
    "base_dir = r'C:\\Users\\bibek\\Downloads\\eeg main data txt\\preprocessednew\\preprocessedcombine'\n",
    "file_emotions = {\n",
    "    'surprise': 'surprise_preprocessed.csv',\n",
    "    'fear': 'fear_preprocessed.csv',\n",
    "    'normal': 'normal_preprocessed.csv',\n",
    "    'anger': 'anger_preprocessed.csv',\n",
    "    'sad': 'sad_preprocessed.csv',\n",
    "    'happy': 'happy_preprocessed.csv'\n",
    "}\n",
    "\n",
    "# Process all files and combine features\n",
    "all_features = []\n",
    "for emotion, filename in file_emotions.items():\n",
    "    file_path = os.path.join(base_dir, filename)\n",
    "    emotion_features = process_dataset(file_path, emotion)\n",
    "    all_features.append(emotion_features)\n",
    "\n",
    "# Concatenate all features into a single DataFrame\n",
    "all_features_df = pd.concat(all_features, ignore_index=True)\n",
    "\n",
    "# Save the features to a CSV file\n",
    "output_path = os.path.join(base_dir, 'extracted_eeg_features.csv')\n",
    "all_features_df.to_csv(output_path, index=False)\n",
    "\n",
    "print(f\"Feature extraction completed. Saved to '{output_path}'.\")\n"
   ]
  },
  {
   "cell_type": "code",
   "execution_count": 28,
   "id": "32a08d9b-b069-4603-8ad2-35913e2371ea",
   "metadata": {},
   "outputs": [
    {
     "name": "stdout",
     "output_type": "stream",
     "text": [
      "Processing file: C:\\Users\\bibek\\Downloads\\eeg main data txt\\preprocessednew\\preprocessedcombine\\surprise_preprocessed.csv\n"
     ]
    },
    {
     "name": "stderr",
     "output_type": "stream",
     "text": [
      "C:\\Users\\bibek\\AppData\\Local\\Temp\\ipykernel_4052\\3174670781.py:12: DeprecationWarning: 'scipy.integrate.simps' is deprecated in favour of 'scipy.integrate.simpson' and will be removed in SciPy 1.14.0\n",
      "  return simps(psd[:, band_idx], freqs[band_idx], axis=1)\n"
     ]
    },
    {
     "name": "stdout",
     "output_type": "stream",
     "text": [
      "Processing file: C:\\Users\\bibek\\Downloads\\eeg main data txt\\preprocessednew\\preprocessedcombine\\fear_preprocessed.csv\n"
     ]
    },
    {
     "name": "stderr",
     "output_type": "stream",
     "text": [
      "C:\\Users\\bibek\\AppData\\Local\\Temp\\ipykernel_4052\\3174670781.py:12: DeprecationWarning: 'scipy.integrate.simps' is deprecated in favour of 'scipy.integrate.simpson' and will be removed in SciPy 1.14.0\n",
      "  return simps(psd[:, band_idx], freqs[band_idx], axis=1)\n"
     ]
    },
    {
     "name": "stdout",
     "output_type": "stream",
     "text": [
      "Processing file: C:\\Users\\bibek\\Downloads\\eeg main data txt\\preprocessednew\\preprocessedcombine\\normal_preprocessed.csv\n"
     ]
    },
    {
     "name": "stderr",
     "output_type": "stream",
     "text": [
      "C:\\Users\\bibek\\AppData\\Local\\Temp\\ipykernel_4052\\3174670781.py:12: DeprecationWarning: 'scipy.integrate.simps' is deprecated in favour of 'scipy.integrate.simpson' and will be removed in SciPy 1.14.0\n",
      "  return simps(psd[:, band_idx], freqs[band_idx], axis=1)\n"
     ]
    },
    {
     "name": "stdout",
     "output_type": "stream",
     "text": [
      "Processing file: C:\\Users\\bibek\\Downloads\\eeg main data txt\\preprocessednew\\preprocessedcombine\\anger_preprocessed.csv\n"
     ]
    },
    {
     "name": "stderr",
     "output_type": "stream",
     "text": [
      "C:\\Users\\bibek\\AppData\\Local\\Temp\\ipykernel_4052\\3174670781.py:12: DeprecationWarning: 'scipy.integrate.simps' is deprecated in favour of 'scipy.integrate.simpson' and will be removed in SciPy 1.14.0\n",
      "  return simps(psd[:, band_idx], freqs[band_idx], axis=1)\n"
     ]
    },
    {
     "name": "stdout",
     "output_type": "stream",
     "text": [
      "Processing file: C:\\Users\\bibek\\Downloads\\eeg main data txt\\preprocessednew\\preprocessedcombine\\sad_preprocessed.csv\n"
     ]
    },
    {
     "name": "stderr",
     "output_type": "stream",
     "text": [
      "C:\\Users\\bibek\\AppData\\Local\\Temp\\ipykernel_4052\\3174670781.py:12: DeprecationWarning: 'scipy.integrate.simps' is deprecated in favour of 'scipy.integrate.simpson' and will be removed in SciPy 1.14.0\n",
      "  return simps(psd[:, band_idx], freqs[band_idx], axis=1)\n"
     ]
    },
    {
     "name": "stdout",
     "output_type": "stream",
     "text": [
      "Processing file: C:\\Users\\bibek\\Downloads\\eeg main data txt\\preprocessednew\\preprocessedcombine\\happy_preprocessed.csv\n"
     ]
    },
    {
     "name": "stderr",
     "output_type": "stream",
     "text": [
      "C:\\Users\\bibek\\AppData\\Local\\Temp\\ipykernel_4052\\3174670781.py:12: DeprecationWarning: 'scipy.integrate.simps' is deprecated in favour of 'scipy.integrate.simpson' and will be removed in SciPy 1.14.0\n",
      "  return simps(psd[:, band_idx], freqs[band_idx], axis=1)\n"
     ]
    },
    {
     "name": "stdout",
     "output_type": "stream",
     "text": [
      "Feature extraction completed. Saved to 'C:\\Users\\bibek\\Downloads\\eeg main data txt\\preprocessednew\\preprocessedcombine\\extracted_eeg_features.csv'.\n"
     ]
    }
   ],
   "source": [
    "import os\n",
    "import numpy as np\n",
    "import pandas as pd\n",
    "from scipy.signal import welch\n",
    "from scipy.stats import skew, kurtosis\n",
    "from scipy.integrate import simps\n",
    "import pywt\n",
    "\n",
    "# Function to calculate band power\n",
    "def bandpower(psd, freqs, band):\n",
    "    band_idx = np.logical_and(freqs >= band[0], freqs <= band[1])\n",
    "    return simps(psd[:, band_idx], freqs[band_idx], axis=1)\n",
    "\n",
    "# Feature extraction functions\n",
    "def extract_features(data, fs=256):\n",
    "    features = {}\n",
    "    \n",
    "    # Time-domain features\n",
    "    features['mean'] = np.mean(data, axis=1)\n",
    "    features['std'] = np.std(data, axis=1)\n",
    "    features['skewness'] = skew(data, axis=1)\n",
    "    features['kurtosis'] = kurtosis(data, axis=1)\n",
    "    features['peak_to_peak'] = np.ptp(data, axis=1)\n",
    "\n",
    "    # Frequency-domain features (using Welch's method)\n",
    "    freqs, psd = welch(data, fs, nperseg=256, axis=1)\n",
    "    \n",
    "    delta_band = (0.5, 4)\n",
    "    theta_band = (4, 8)\n",
    "    alpha_band = (8, 13)\n",
    "    beta_band = (13, 30)\n",
    "    gamma_band = (30, 50)\n",
    "\n",
    "    features['delta_power'] = bandpower(psd, freqs, delta_band)\n",
    "    features['theta_power'] = bandpower(psd, freqs, theta_band)\n",
    "    features['alpha_power'] = bandpower(psd, freqs, alpha_band)\n",
    "    features['beta_power'] = bandpower(psd, freqs, beta_band)\n",
    "    features['gamma_power'] = bandpower(psd, freqs, gamma_band)\n",
    "\n",
    "    # Nonlinear features\n",
    "    features['entropy'] = -np.sum(psd * np.log(psd + 1e-10), axis=1)  # Spectral entropy\n",
    "\n",
    "    # Time-frequency features using wavelet transform\n",
    "    coeffs = pywt.wavedec(data, 'db4', axis=1, level=5)\n",
    "    for i, c in enumerate(coeffs):\n",
    "        features[f'wavelet_level_{i+1}_mean'] = np.mean(c, axis=1)\n",
    "        features[f'wavelet_level_{i+1}_std'] = np.std(c, axis=1)\n",
    "\n",
    "    return features\n",
    "\n",
    "# Process a dataset and extract features\n",
    "def process_dataset(file_path, emotion_label):\n",
    "    # Log the file being processed\n",
    "    print(f\"Processing file: {file_path}\")\n",
    "\n",
    "    # Load the dataset\n",
    "    data = pd.read_csv(file_path)\n",
    "    \n",
    "    # Extract numerical EEG data and subject info\n",
    "    eeg_data = data.iloc[:, :-1].values  # All columns except 'Subject'\n",
    "    subjects = data['Subject']\n",
    "\n",
    "    # Extract features\n",
    "    features = extract_features(eeg_data)\n",
    "\n",
    "    # Combine features into a DataFrame\n",
    "    features_df = pd.DataFrame(features)\n",
    "    features_df['Subject'] = subjects\n",
    "    features_df['Emotion'] = emotion_label\n",
    "\n",
    "    return features_df\n",
    "\n",
    "# Directory and filenames\n",
    "base_dir = r'C:\\Users\\bibek\\Downloads\\eeg main data txt\\preprocessednew\\preprocessedcombine'\n",
    "file_emotions = {\n",
    "    'surprise': 'surprise_preprocessed.csv',\n",
    "    'fear': 'fear_preprocessed.csv',\n",
    "    'normal': 'normal_preprocessed.csv',\n",
    "    'anger': 'anger_preprocessed.csv',\n",
    "    'sad': 'sad_preprocessed.csv',\n",
    "    'happy': 'happy_preprocessed.csv'\n",
    "}\n",
    "\n",
    "# Process all files and combine features\n",
    "all_features = []\n",
    "for emotion, filename in file_emotions.items():\n",
    "    file_path = os.path.join(base_dir, filename)\n",
    "    if not os.path.exists(file_path):\n",
    "        print(f\"File not found: {file_path}\")\n",
    "        continue\n",
    "    emotion_features = process_dataset(file_path, emotion)\n",
    "    all_features.append(emotion_features)\n",
    "\n",
    "# Concatenate all features into a single DataFrame\n",
    "if all_features:\n",
    "    all_features_df = pd.concat(all_features, ignore_index=True)\n",
    "\n",
    "    # Save the features to a CSV file\n",
    "    output_path = os.path.join(base_dir, 'extracted_eeg_features.csv')\n",
    "    all_features_df.to_csv(output_path, index=False)\n",
    "\n",
    "    print(f\"Feature extraction completed. Saved to '{output_path}'.\")\n",
    "else:\n",
    "    print(\"No files were processed. Please check the file paths.\")"
   ]
  },
  {
   "cell_type": "code",
   "execution_count": 30,
   "id": "73bb6823-8c71-489e-911b-0504008242ea",
   "metadata": {},
   "outputs": [
    {
     "name": "stdout",
     "output_type": "stream",
     "text": [
      "Processing file: C:\\Users\\bibek\\Downloads\\eeg main data txt\\preprocessednew\\preprocessedcombine\\surprise_preprocessed.csv\n"
     ]
    },
    {
     "name": "stderr",
     "output_type": "stream",
     "text": [
      "C:\\Users\\bibek\\AppData\\Local\\Temp\\ipykernel_4052\\249776699.py:12: DeprecationWarning: You are passing x=[1. 2. 3. 4.] as a positional argument. Please change your invocation to use keyword arguments. From SciPy 1.14, passing these as positional arguments will result in an error.\n",
      "  return simpson(psd[:, band_idx], freqs[band_idx], axis=1)\n",
      "C:\\Users\\bibek\\AppData\\Local\\Temp\\ipykernel_4052\\249776699.py:12: DeprecationWarning: You are passing x=[4. 5. 6. 7. 8.] as a positional argument. Please change your invocation to use keyword arguments. From SciPy 1.14, passing these as positional arguments will result in an error.\n",
      "  return simpson(psd[:, band_idx], freqs[band_idx], axis=1)\n",
      "C:\\Users\\bibek\\AppData\\Local\\Temp\\ipykernel_4052\\249776699.py:12: DeprecationWarning: You are passing x=[ 8.  9. 10. 11. 12. 13.] as a positional argument. Please change your invocation to use keyword arguments. From SciPy 1.14, passing these as positional arguments will result in an error.\n",
      "  return simpson(psd[:, band_idx], freqs[band_idx], axis=1)\n",
      "C:\\Users\\bibek\\AppData\\Local\\Temp\\ipykernel_4052\\249776699.py:12: DeprecationWarning: You are passing x=[13. 14. 15. 16. 17. 18. 19. 20. 21. 22. 23. 24. 25. 26. 27. 28. 29. 30.] as a positional argument. Please change your invocation to use keyword arguments. From SciPy 1.14, passing these as positional arguments will result in an error.\n",
      "  return simpson(psd[:, band_idx], freqs[band_idx], axis=1)\n",
      "C:\\Users\\bibek\\AppData\\Local\\Temp\\ipykernel_4052\\249776699.py:12: DeprecationWarning: You are passing x=[30. 31. 32. 33. 34. 35. 36. 37. 38. 39. 40. 41. 42. 43. 44. 45. 46. 47.\n",
      " 48. 49. 50.] as a positional argument. Please change your invocation to use keyword arguments. From SciPy 1.14, passing these as positional arguments will result in an error.\n",
      "  return simpson(psd[:, band_idx], freqs[band_idx], axis=1)\n"
     ]
    },
    {
     "name": "stdout",
     "output_type": "stream",
     "text": [
      "Processing file: C:\\Users\\bibek\\Downloads\\eeg main data txt\\preprocessednew\\preprocessedcombine\\fear_preprocessed.csv\n"
     ]
    },
    {
     "name": "stderr",
     "output_type": "stream",
     "text": [
      "C:\\Users\\bibek\\AppData\\Local\\Temp\\ipykernel_4052\\249776699.py:12: DeprecationWarning: You are passing x=[1. 2. 3. 4.] as a positional argument. Please change your invocation to use keyword arguments. From SciPy 1.14, passing these as positional arguments will result in an error.\n",
      "  return simpson(psd[:, band_idx], freqs[band_idx], axis=1)\n",
      "C:\\Users\\bibek\\AppData\\Local\\Temp\\ipykernel_4052\\249776699.py:12: DeprecationWarning: You are passing x=[4. 5. 6. 7. 8.] as a positional argument. Please change your invocation to use keyword arguments. From SciPy 1.14, passing these as positional arguments will result in an error.\n",
      "  return simpson(psd[:, band_idx], freqs[band_idx], axis=1)\n",
      "C:\\Users\\bibek\\AppData\\Local\\Temp\\ipykernel_4052\\249776699.py:12: DeprecationWarning: You are passing x=[ 8.  9. 10. 11. 12. 13.] as a positional argument. Please change your invocation to use keyword arguments. From SciPy 1.14, passing these as positional arguments will result in an error.\n",
      "  return simpson(psd[:, band_idx], freqs[band_idx], axis=1)\n",
      "C:\\Users\\bibek\\AppData\\Local\\Temp\\ipykernel_4052\\249776699.py:12: DeprecationWarning: You are passing x=[13. 14. 15. 16. 17. 18. 19. 20. 21. 22. 23. 24. 25. 26. 27. 28. 29. 30.] as a positional argument. Please change your invocation to use keyword arguments. From SciPy 1.14, passing these as positional arguments will result in an error.\n",
      "  return simpson(psd[:, band_idx], freqs[band_idx], axis=1)\n",
      "C:\\Users\\bibek\\AppData\\Local\\Temp\\ipykernel_4052\\249776699.py:12: DeprecationWarning: You are passing x=[30. 31. 32. 33. 34. 35. 36. 37. 38. 39. 40. 41. 42. 43. 44. 45. 46. 47.\n",
      " 48. 49. 50.] as a positional argument. Please change your invocation to use keyword arguments. From SciPy 1.14, passing these as positional arguments will result in an error.\n",
      "  return simpson(psd[:, band_idx], freqs[band_idx], axis=1)\n"
     ]
    },
    {
     "name": "stdout",
     "output_type": "stream",
     "text": [
      "Processing file: C:\\Users\\bibek\\Downloads\\eeg main data txt\\preprocessednew\\preprocessedcombine\\normal_preprocessed.csv\n"
     ]
    },
    {
     "name": "stderr",
     "output_type": "stream",
     "text": [
      "C:\\Users\\bibek\\AppData\\Local\\Temp\\ipykernel_4052\\249776699.py:12: DeprecationWarning: You are passing x=[1. 2. 3. 4.] as a positional argument. Please change your invocation to use keyword arguments. From SciPy 1.14, passing these as positional arguments will result in an error.\n",
      "  return simpson(psd[:, band_idx], freqs[band_idx], axis=1)\n",
      "C:\\Users\\bibek\\AppData\\Local\\Temp\\ipykernel_4052\\249776699.py:12: DeprecationWarning: You are passing x=[4. 5. 6. 7. 8.] as a positional argument. Please change your invocation to use keyword arguments. From SciPy 1.14, passing these as positional arguments will result in an error.\n",
      "  return simpson(psd[:, band_idx], freqs[band_idx], axis=1)\n",
      "C:\\Users\\bibek\\AppData\\Local\\Temp\\ipykernel_4052\\249776699.py:12: DeprecationWarning: You are passing x=[ 8.  9. 10. 11. 12. 13.] as a positional argument. Please change your invocation to use keyword arguments. From SciPy 1.14, passing these as positional arguments will result in an error.\n",
      "  return simpson(psd[:, band_idx], freqs[band_idx], axis=1)\n",
      "C:\\Users\\bibek\\AppData\\Local\\Temp\\ipykernel_4052\\249776699.py:12: DeprecationWarning: You are passing x=[13. 14. 15. 16. 17. 18. 19. 20. 21. 22. 23. 24. 25. 26. 27. 28. 29. 30.] as a positional argument. Please change your invocation to use keyword arguments. From SciPy 1.14, passing these as positional arguments will result in an error.\n",
      "  return simpson(psd[:, band_idx], freqs[band_idx], axis=1)\n",
      "C:\\Users\\bibek\\AppData\\Local\\Temp\\ipykernel_4052\\249776699.py:12: DeprecationWarning: You are passing x=[30. 31. 32. 33. 34. 35. 36. 37. 38. 39. 40. 41. 42. 43. 44. 45. 46. 47.\n",
      " 48. 49. 50.] as a positional argument. Please change your invocation to use keyword arguments. From SciPy 1.14, passing these as positional arguments will result in an error.\n",
      "  return simpson(psd[:, band_idx], freqs[band_idx], axis=1)\n"
     ]
    },
    {
     "name": "stdout",
     "output_type": "stream",
     "text": [
      "Processing file: C:\\Users\\bibek\\Downloads\\eeg main data txt\\preprocessednew\\preprocessedcombine\\anger_preprocessed.csv\n"
     ]
    },
    {
     "name": "stderr",
     "output_type": "stream",
     "text": [
      "C:\\Users\\bibek\\AppData\\Local\\Temp\\ipykernel_4052\\249776699.py:12: DeprecationWarning: You are passing x=[1. 2. 3. 4.] as a positional argument. Please change your invocation to use keyword arguments. From SciPy 1.14, passing these as positional arguments will result in an error.\n",
      "  return simpson(psd[:, band_idx], freqs[band_idx], axis=1)\n",
      "C:\\Users\\bibek\\AppData\\Local\\Temp\\ipykernel_4052\\249776699.py:12: DeprecationWarning: You are passing x=[4. 5. 6. 7. 8.] as a positional argument. Please change your invocation to use keyword arguments. From SciPy 1.14, passing these as positional arguments will result in an error.\n",
      "  return simpson(psd[:, band_idx], freqs[band_idx], axis=1)\n",
      "C:\\Users\\bibek\\AppData\\Local\\Temp\\ipykernel_4052\\249776699.py:12: DeprecationWarning: You are passing x=[ 8.  9. 10. 11. 12. 13.] as a positional argument. Please change your invocation to use keyword arguments. From SciPy 1.14, passing these as positional arguments will result in an error.\n",
      "  return simpson(psd[:, band_idx], freqs[band_idx], axis=1)\n",
      "C:\\Users\\bibek\\AppData\\Local\\Temp\\ipykernel_4052\\249776699.py:12: DeprecationWarning: You are passing x=[13. 14. 15. 16. 17. 18. 19. 20. 21. 22. 23. 24. 25. 26. 27. 28. 29. 30.] as a positional argument. Please change your invocation to use keyword arguments. From SciPy 1.14, passing these as positional arguments will result in an error.\n",
      "  return simpson(psd[:, band_idx], freqs[band_idx], axis=1)\n",
      "C:\\Users\\bibek\\AppData\\Local\\Temp\\ipykernel_4052\\249776699.py:12: DeprecationWarning: You are passing x=[30. 31. 32. 33. 34. 35. 36. 37. 38. 39. 40. 41. 42. 43. 44. 45. 46. 47.\n",
      " 48. 49. 50.] as a positional argument. Please change your invocation to use keyword arguments. From SciPy 1.14, passing these as positional arguments will result in an error.\n",
      "  return simpson(psd[:, band_idx], freqs[band_idx], axis=1)\n"
     ]
    },
    {
     "name": "stdout",
     "output_type": "stream",
     "text": [
      "Processing file: C:\\Users\\bibek\\Downloads\\eeg main data txt\\preprocessednew\\preprocessedcombine\\sad_preprocessed.csv\n"
     ]
    },
    {
     "name": "stderr",
     "output_type": "stream",
     "text": [
      "C:\\Users\\bibek\\AppData\\Local\\Temp\\ipykernel_4052\\249776699.py:12: DeprecationWarning: You are passing x=[1. 2. 3. 4.] as a positional argument. Please change your invocation to use keyword arguments. From SciPy 1.14, passing these as positional arguments will result in an error.\n",
      "  return simpson(psd[:, band_idx], freqs[band_idx], axis=1)\n",
      "C:\\Users\\bibek\\AppData\\Local\\Temp\\ipykernel_4052\\249776699.py:12: DeprecationWarning: You are passing x=[4. 5. 6. 7. 8.] as a positional argument. Please change your invocation to use keyword arguments. From SciPy 1.14, passing these as positional arguments will result in an error.\n",
      "  return simpson(psd[:, band_idx], freqs[band_idx], axis=1)\n",
      "C:\\Users\\bibek\\AppData\\Local\\Temp\\ipykernel_4052\\249776699.py:12: DeprecationWarning: You are passing x=[ 8.  9. 10. 11. 12. 13.] as a positional argument. Please change your invocation to use keyword arguments. From SciPy 1.14, passing these as positional arguments will result in an error.\n",
      "  return simpson(psd[:, band_idx], freqs[band_idx], axis=1)\n",
      "C:\\Users\\bibek\\AppData\\Local\\Temp\\ipykernel_4052\\249776699.py:12: DeprecationWarning: You are passing x=[13. 14. 15. 16. 17. 18. 19. 20. 21. 22. 23. 24. 25. 26. 27. 28. 29. 30.] as a positional argument. Please change your invocation to use keyword arguments. From SciPy 1.14, passing these as positional arguments will result in an error.\n",
      "  return simpson(psd[:, band_idx], freqs[band_idx], axis=1)\n",
      "C:\\Users\\bibek\\AppData\\Local\\Temp\\ipykernel_4052\\249776699.py:12: DeprecationWarning: You are passing x=[30. 31. 32. 33. 34. 35. 36. 37. 38. 39. 40. 41. 42. 43. 44. 45. 46. 47.\n",
      " 48. 49. 50.] as a positional argument. Please change your invocation to use keyword arguments. From SciPy 1.14, passing these as positional arguments will result in an error.\n",
      "  return simpson(psd[:, band_idx], freqs[band_idx], axis=1)\n"
     ]
    },
    {
     "name": "stdout",
     "output_type": "stream",
     "text": [
      "Processing file: C:\\Users\\bibek\\Downloads\\eeg main data txt\\preprocessednew\\preprocessedcombine\\happy_preprocessed.csv\n"
     ]
    },
    {
     "name": "stderr",
     "output_type": "stream",
     "text": [
      "C:\\Users\\bibek\\AppData\\Local\\Temp\\ipykernel_4052\\249776699.py:12: DeprecationWarning: You are passing x=[1. 2. 3. 4.] as a positional argument. Please change your invocation to use keyword arguments. From SciPy 1.14, passing these as positional arguments will result in an error.\n",
      "  return simpson(psd[:, band_idx], freqs[band_idx], axis=1)\n",
      "C:\\Users\\bibek\\AppData\\Local\\Temp\\ipykernel_4052\\249776699.py:12: DeprecationWarning: You are passing x=[4. 5. 6. 7. 8.] as a positional argument. Please change your invocation to use keyword arguments. From SciPy 1.14, passing these as positional arguments will result in an error.\n",
      "  return simpson(psd[:, band_idx], freqs[band_idx], axis=1)\n",
      "C:\\Users\\bibek\\AppData\\Local\\Temp\\ipykernel_4052\\249776699.py:12: DeprecationWarning: You are passing x=[ 8.  9. 10. 11. 12. 13.] as a positional argument. Please change your invocation to use keyword arguments. From SciPy 1.14, passing these as positional arguments will result in an error.\n",
      "  return simpson(psd[:, band_idx], freqs[band_idx], axis=1)\n",
      "C:\\Users\\bibek\\AppData\\Local\\Temp\\ipykernel_4052\\249776699.py:12: DeprecationWarning: You are passing x=[13. 14. 15. 16. 17. 18. 19. 20. 21. 22. 23. 24. 25. 26. 27. 28. 29. 30.] as a positional argument. Please change your invocation to use keyword arguments. From SciPy 1.14, passing these as positional arguments will result in an error.\n",
      "  return simpson(psd[:, band_idx], freqs[band_idx], axis=1)\n",
      "C:\\Users\\bibek\\AppData\\Local\\Temp\\ipykernel_4052\\249776699.py:12: DeprecationWarning: You are passing x=[30. 31. 32. 33. 34. 35. 36. 37. 38. 39. 40. 41. 42. 43. 44. 45. 46. 47.\n",
      " 48. 49. 50.] as a positional argument. Please change your invocation to use keyword arguments. From SciPy 1.14, passing these as positional arguments will result in an error.\n",
      "  return simpson(psd[:, band_idx], freqs[band_idx], axis=1)\n"
     ]
    },
    {
     "name": "stdout",
     "output_type": "stream",
     "text": [
      "Feature extraction completed. Saved to 'C:\\Users\\bibek\\Downloads\\eeg main data txt\\preprocessednew\\preprocessedcombine\\extracted_eeg_features.csv'.\n"
     ]
    }
   ],
   "source": [
    "import os\n",
    "import numpy as np\n",
    "import pandas as pd\n",
    "from scipy.signal import welch\n",
    "from scipy.stats import skew, kurtosis\n",
    "from scipy.integrate import simpson\n",
    "import pywt\n",
    "\n",
    "# Function to calculate band power\n",
    "def bandpower(psd, freqs, band):\n",
    "    band_idx = np.logical_and(freqs >= band[0], freqs <= band[1])\n",
    "    return simpson(psd[:, band_idx], freqs[band_idx], axis=1)\n",
    "\n",
    "# Feature extraction functions\n",
    "def extract_features(data, fs=256):\n",
    "    features = {}\n",
    "    \n",
    "    # Time-domain features\n",
    "    features['mean'] = np.mean(data, axis=1)\n",
    "    features['std'] = np.std(data, axis=1)\n",
    "    features['skewness'] = skew(data, axis=1)\n",
    "    features['kurtosis'] = kurtosis(data, axis=1)\n",
    "    features['peak_to_peak'] = np.ptp(data, axis=1)\n",
    "\n",
    "    # Frequency-domain features (using Welch's method)\n",
    "    freqs, psd = welch(data, fs, nperseg=256, axis=1)\n",
    "    \n",
    "    delta_band = (0.5, 4)\n",
    "    theta_band = (4, 8)\n",
    "    alpha_band = (8, 13)\n",
    "    beta_band = (13, 30)\n",
    "    gamma_band = (30, 50)\n",
    "\n",
    "    features['delta_power'] = bandpower(psd, freqs, delta_band)\n",
    "    features['theta_power'] = bandpower(psd, freqs, theta_band)\n",
    "    features['alpha_power'] = bandpower(psd, freqs, alpha_band)\n",
    "    features['beta_power'] = bandpower(psd, freqs, beta_band)\n",
    "    features['gamma_power'] = bandpower(psd, freqs, gamma_band)\n",
    "\n",
    "    # Nonlinear features\n",
    "    features['entropy'] = -np.sum(psd * np.log(psd + 1e-10), axis=1)  # Spectral entropy\n",
    "\n",
    "    # Time-frequency features using wavelet transform\n",
    "    coeffs = pywt.wavedec(data, 'db4', axis=1, level=5)\n",
    "    for i, c in enumerate(coeffs):\n",
    "        features[f'wavelet_level_{i+1}_mean'] = np.mean(c, axis=1)\n",
    "        features[f'wavelet_level_{i+1}_std'] = np.std(c, axis=1)\n",
    "\n",
    "    return features\n",
    "\n",
    "# Process a dataset and extract features\n",
    "def process_dataset(file_path, emotion_label):\n",
    "    # Log the file being processed\n",
    "    print(f\"Processing file: {file_path}\")\n",
    "\n",
    "    # Load the dataset\n",
    "    data = pd.read_csv(file_path)\n",
    "    \n",
    "    # Extract numerical EEG data and subject info\n",
    "    eeg_data = data.iloc[:, :-1].values  # All columns except 'Subject'\n",
    "    subjects = data['Subject']\n",
    "\n",
    "    # Extract features\n",
    "    features = extract_features(eeg_data)\n",
    "\n",
    "    # Combine features into a DataFrame\n",
    "    features_df = pd.DataFrame(features)\n",
    "    features_df['Subject'] = subjects\n",
    "    features_df['Emotion'] = emotion_label\n",
    "\n",
    "    return features_df\n",
    "\n",
    "# Directory and filenames\n",
    "base_dir = r'C:\\Users\\bibek\\Downloads\\eeg main data txt\\preprocessednew\\preprocessedcombine'\n",
    "file_emotions = {\n",
    "    'surprise': 'surprise_preprocessed.csv',\n",
    "    'fear': 'fear_preprocessed.csv',\n",
    "    'normal': 'normal_preprocessed.csv',\n",
    "    'anger': 'anger_preprocessed.csv',\n",
    "    'sad': 'sad_preprocessed.csv',\n",
    "    'happy': 'happy_preprocessed.csv'\n",
    "}\n",
    "\n",
    "# Process all files and combine features\n",
    "all_features = []\n",
    "for emotion, filename in file_emotions.items():\n",
    "    file_path = os.path.join(base_dir, filename)\n",
    "    if not os.path.exists(file_path):\n",
    "        print(f\"File not found: {file_path}\")\n",
    "        continue\n",
    "    emotion_features = process_dataset(file_path, emotion)\n",
    "    all_features.append(emotion_features)\n",
    "\n",
    "# Concatenate all features into a single DataFrame\n",
    "if all_features:\n",
    "    all_features_df = pd.concat(all_features, ignore_index=True)\n",
    "\n",
    "    # Save the features to a CSV file\n",
    "    output_path = os.path.join(base_dir, 'extracted_eeg_features.csv')\n",
    "    all_features_df.to_csv(output_path, index=False)\n",
    "\n",
    "    print(f\"Feature extraction completed. Saved to '{output_path}'.\")\n",
    "else:\n",
    "    print(\"No files were processed. Please check the file paths.\")\n"
   ]
  },
  {
   "cell_type": "code",
   "execution_count": 32,
   "id": "90cc086a-745d-448c-826f-ca7811465519",
   "metadata": {},
   "outputs": [
    {
     "ename": "FileNotFoundError",
     "evalue": "[Errno 2] No such file or directory: 'C:/Users/bibek/Downloads/PROJECT/EEG/features/featurescombined/extracted_eeg_features.csv'",
     "output_type": "error",
     "traceback": [
      "\u001b[1;31m---------------------------------------------------------------------------\u001b[0m",
      "\u001b[1;31mFileNotFoundError\u001b[0m                         Traceback (most recent call last)",
      "Cell \u001b[1;32mIn[32], line 5\u001b[0m\n\u001b[0;32m      3\u001b[0m \u001b[38;5;66;03m# Load the dataset\u001b[39;00m\n\u001b[0;32m      4\u001b[0m file_path \u001b[38;5;241m=\u001b[39m \u001b[38;5;124m'\u001b[39m\u001b[38;5;124mC:/Users/bibek/Downloads/PROJECT/EEG/features/featurescombined/extracted_eeg_features.csv\u001b[39m\u001b[38;5;124m'\u001b[39m\n\u001b[1;32m----> 5\u001b[0m eeg_features_df \u001b[38;5;241m=\u001b[39m pd\u001b[38;5;241m.\u001b[39mread_csv(file_path)\n\u001b[0;32m      7\u001b[0m \u001b[38;5;66;03m# Group by 'Emotion' and calculate the mean for each feature\u001b[39;00m\n\u001b[0;32m      8\u001b[0m emotion_feature_means \u001b[38;5;241m=\u001b[39m eeg_features_df\u001b[38;5;241m.\u001b[39mgroupby(\u001b[38;5;124m'\u001b[39m\u001b[38;5;124mEmotion\u001b[39m\u001b[38;5;124m'\u001b[39m)\u001b[38;5;241m.\u001b[39mmean()\n",
      "File \u001b[1;32m~\\anaconda3\\Lib\\site-packages\\pandas\\io\\parsers\\readers.py:1026\u001b[0m, in \u001b[0;36mread_csv\u001b[1;34m(filepath_or_buffer, sep, delimiter, header, names, index_col, usecols, dtype, engine, converters, true_values, false_values, skipinitialspace, skiprows, skipfooter, nrows, na_values, keep_default_na, na_filter, verbose, skip_blank_lines, parse_dates, infer_datetime_format, keep_date_col, date_parser, date_format, dayfirst, cache_dates, iterator, chunksize, compression, thousands, decimal, lineterminator, quotechar, quoting, doublequote, escapechar, comment, encoding, encoding_errors, dialect, on_bad_lines, delim_whitespace, low_memory, memory_map, float_precision, storage_options, dtype_backend)\u001b[0m\n\u001b[0;32m   1013\u001b[0m kwds_defaults \u001b[38;5;241m=\u001b[39m _refine_defaults_read(\n\u001b[0;32m   1014\u001b[0m     dialect,\n\u001b[0;32m   1015\u001b[0m     delimiter,\n\u001b[1;32m   (...)\u001b[0m\n\u001b[0;32m   1022\u001b[0m     dtype_backend\u001b[38;5;241m=\u001b[39mdtype_backend,\n\u001b[0;32m   1023\u001b[0m )\n\u001b[0;32m   1024\u001b[0m kwds\u001b[38;5;241m.\u001b[39mupdate(kwds_defaults)\n\u001b[1;32m-> 1026\u001b[0m \u001b[38;5;28;01mreturn\u001b[39;00m _read(filepath_or_buffer, kwds)\n",
      "File \u001b[1;32m~\\anaconda3\\Lib\\site-packages\\pandas\\io\\parsers\\readers.py:620\u001b[0m, in \u001b[0;36m_read\u001b[1;34m(filepath_or_buffer, kwds)\u001b[0m\n\u001b[0;32m    617\u001b[0m _validate_names(kwds\u001b[38;5;241m.\u001b[39mget(\u001b[38;5;124m\"\u001b[39m\u001b[38;5;124mnames\u001b[39m\u001b[38;5;124m\"\u001b[39m, \u001b[38;5;28;01mNone\u001b[39;00m))\n\u001b[0;32m    619\u001b[0m \u001b[38;5;66;03m# Create the parser.\u001b[39;00m\n\u001b[1;32m--> 620\u001b[0m parser \u001b[38;5;241m=\u001b[39m TextFileReader(filepath_or_buffer, \u001b[38;5;241m*\u001b[39m\u001b[38;5;241m*\u001b[39mkwds)\n\u001b[0;32m    622\u001b[0m \u001b[38;5;28;01mif\u001b[39;00m chunksize \u001b[38;5;129;01mor\u001b[39;00m iterator:\n\u001b[0;32m    623\u001b[0m     \u001b[38;5;28;01mreturn\u001b[39;00m parser\n",
      "File \u001b[1;32m~\\anaconda3\\Lib\\site-packages\\pandas\\io\\parsers\\readers.py:1620\u001b[0m, in \u001b[0;36mTextFileReader.__init__\u001b[1;34m(self, f, engine, **kwds)\u001b[0m\n\u001b[0;32m   1617\u001b[0m     \u001b[38;5;28mself\u001b[39m\u001b[38;5;241m.\u001b[39moptions[\u001b[38;5;124m\"\u001b[39m\u001b[38;5;124mhas_index_names\u001b[39m\u001b[38;5;124m\"\u001b[39m] \u001b[38;5;241m=\u001b[39m kwds[\u001b[38;5;124m\"\u001b[39m\u001b[38;5;124mhas_index_names\u001b[39m\u001b[38;5;124m\"\u001b[39m]\n\u001b[0;32m   1619\u001b[0m \u001b[38;5;28mself\u001b[39m\u001b[38;5;241m.\u001b[39mhandles: IOHandles \u001b[38;5;241m|\u001b[39m \u001b[38;5;28;01mNone\u001b[39;00m \u001b[38;5;241m=\u001b[39m \u001b[38;5;28;01mNone\u001b[39;00m\n\u001b[1;32m-> 1620\u001b[0m \u001b[38;5;28mself\u001b[39m\u001b[38;5;241m.\u001b[39m_engine \u001b[38;5;241m=\u001b[39m \u001b[38;5;28mself\u001b[39m\u001b[38;5;241m.\u001b[39m_make_engine(f, \u001b[38;5;28mself\u001b[39m\u001b[38;5;241m.\u001b[39mengine)\n",
      "File \u001b[1;32m~\\anaconda3\\Lib\\site-packages\\pandas\\io\\parsers\\readers.py:1880\u001b[0m, in \u001b[0;36mTextFileReader._make_engine\u001b[1;34m(self, f, engine)\u001b[0m\n\u001b[0;32m   1878\u001b[0m     \u001b[38;5;28;01mif\u001b[39;00m \u001b[38;5;124m\"\u001b[39m\u001b[38;5;124mb\u001b[39m\u001b[38;5;124m\"\u001b[39m \u001b[38;5;129;01mnot\u001b[39;00m \u001b[38;5;129;01min\u001b[39;00m mode:\n\u001b[0;32m   1879\u001b[0m         mode \u001b[38;5;241m+\u001b[39m\u001b[38;5;241m=\u001b[39m \u001b[38;5;124m\"\u001b[39m\u001b[38;5;124mb\u001b[39m\u001b[38;5;124m\"\u001b[39m\n\u001b[1;32m-> 1880\u001b[0m \u001b[38;5;28mself\u001b[39m\u001b[38;5;241m.\u001b[39mhandles \u001b[38;5;241m=\u001b[39m get_handle(\n\u001b[0;32m   1881\u001b[0m     f,\n\u001b[0;32m   1882\u001b[0m     mode,\n\u001b[0;32m   1883\u001b[0m     encoding\u001b[38;5;241m=\u001b[39m\u001b[38;5;28mself\u001b[39m\u001b[38;5;241m.\u001b[39moptions\u001b[38;5;241m.\u001b[39mget(\u001b[38;5;124m\"\u001b[39m\u001b[38;5;124mencoding\u001b[39m\u001b[38;5;124m\"\u001b[39m, \u001b[38;5;28;01mNone\u001b[39;00m),\n\u001b[0;32m   1884\u001b[0m     compression\u001b[38;5;241m=\u001b[39m\u001b[38;5;28mself\u001b[39m\u001b[38;5;241m.\u001b[39moptions\u001b[38;5;241m.\u001b[39mget(\u001b[38;5;124m\"\u001b[39m\u001b[38;5;124mcompression\u001b[39m\u001b[38;5;124m\"\u001b[39m, \u001b[38;5;28;01mNone\u001b[39;00m),\n\u001b[0;32m   1885\u001b[0m     memory_map\u001b[38;5;241m=\u001b[39m\u001b[38;5;28mself\u001b[39m\u001b[38;5;241m.\u001b[39moptions\u001b[38;5;241m.\u001b[39mget(\u001b[38;5;124m\"\u001b[39m\u001b[38;5;124mmemory_map\u001b[39m\u001b[38;5;124m\"\u001b[39m, \u001b[38;5;28;01mFalse\u001b[39;00m),\n\u001b[0;32m   1886\u001b[0m     is_text\u001b[38;5;241m=\u001b[39mis_text,\n\u001b[0;32m   1887\u001b[0m     errors\u001b[38;5;241m=\u001b[39m\u001b[38;5;28mself\u001b[39m\u001b[38;5;241m.\u001b[39moptions\u001b[38;5;241m.\u001b[39mget(\u001b[38;5;124m\"\u001b[39m\u001b[38;5;124mencoding_errors\u001b[39m\u001b[38;5;124m\"\u001b[39m, \u001b[38;5;124m\"\u001b[39m\u001b[38;5;124mstrict\u001b[39m\u001b[38;5;124m\"\u001b[39m),\n\u001b[0;32m   1888\u001b[0m     storage_options\u001b[38;5;241m=\u001b[39m\u001b[38;5;28mself\u001b[39m\u001b[38;5;241m.\u001b[39moptions\u001b[38;5;241m.\u001b[39mget(\u001b[38;5;124m\"\u001b[39m\u001b[38;5;124mstorage_options\u001b[39m\u001b[38;5;124m\"\u001b[39m, \u001b[38;5;28;01mNone\u001b[39;00m),\n\u001b[0;32m   1889\u001b[0m )\n\u001b[0;32m   1890\u001b[0m \u001b[38;5;28;01massert\u001b[39;00m \u001b[38;5;28mself\u001b[39m\u001b[38;5;241m.\u001b[39mhandles \u001b[38;5;129;01mis\u001b[39;00m \u001b[38;5;129;01mnot\u001b[39;00m \u001b[38;5;28;01mNone\u001b[39;00m\n\u001b[0;32m   1891\u001b[0m f \u001b[38;5;241m=\u001b[39m \u001b[38;5;28mself\u001b[39m\u001b[38;5;241m.\u001b[39mhandles\u001b[38;5;241m.\u001b[39mhandle\n",
      "File \u001b[1;32m~\\anaconda3\\Lib\\site-packages\\pandas\\io\\common.py:873\u001b[0m, in \u001b[0;36mget_handle\u001b[1;34m(path_or_buf, mode, encoding, compression, memory_map, is_text, errors, storage_options)\u001b[0m\n\u001b[0;32m    868\u001b[0m \u001b[38;5;28;01melif\u001b[39;00m \u001b[38;5;28misinstance\u001b[39m(handle, \u001b[38;5;28mstr\u001b[39m):\n\u001b[0;32m    869\u001b[0m     \u001b[38;5;66;03m# Check whether the filename is to be opened in binary mode.\u001b[39;00m\n\u001b[0;32m    870\u001b[0m     \u001b[38;5;66;03m# Binary mode does not support 'encoding' and 'newline'.\u001b[39;00m\n\u001b[0;32m    871\u001b[0m     \u001b[38;5;28;01mif\u001b[39;00m ioargs\u001b[38;5;241m.\u001b[39mencoding \u001b[38;5;129;01mand\u001b[39;00m \u001b[38;5;124m\"\u001b[39m\u001b[38;5;124mb\u001b[39m\u001b[38;5;124m\"\u001b[39m \u001b[38;5;129;01mnot\u001b[39;00m \u001b[38;5;129;01min\u001b[39;00m ioargs\u001b[38;5;241m.\u001b[39mmode:\n\u001b[0;32m    872\u001b[0m         \u001b[38;5;66;03m# Encoding\u001b[39;00m\n\u001b[1;32m--> 873\u001b[0m         handle \u001b[38;5;241m=\u001b[39m \u001b[38;5;28mopen\u001b[39m(\n\u001b[0;32m    874\u001b[0m             handle,\n\u001b[0;32m    875\u001b[0m             ioargs\u001b[38;5;241m.\u001b[39mmode,\n\u001b[0;32m    876\u001b[0m             encoding\u001b[38;5;241m=\u001b[39mioargs\u001b[38;5;241m.\u001b[39mencoding,\n\u001b[0;32m    877\u001b[0m             errors\u001b[38;5;241m=\u001b[39merrors,\n\u001b[0;32m    878\u001b[0m             newline\u001b[38;5;241m=\u001b[39m\u001b[38;5;124m\"\u001b[39m\u001b[38;5;124m\"\u001b[39m,\n\u001b[0;32m    879\u001b[0m         )\n\u001b[0;32m    880\u001b[0m     \u001b[38;5;28;01melse\u001b[39;00m:\n\u001b[0;32m    881\u001b[0m         \u001b[38;5;66;03m# Binary mode\u001b[39;00m\n\u001b[0;32m    882\u001b[0m         handle \u001b[38;5;241m=\u001b[39m \u001b[38;5;28mopen\u001b[39m(handle, ioargs\u001b[38;5;241m.\u001b[39mmode)\n",
      "\u001b[1;31mFileNotFoundError\u001b[0m: [Errno 2] No such file or directory: 'C:/Users/bibek/Downloads/PROJECT/EEG/features/featurescombined/extracted_eeg_features.csv'"
     ]
    }
   ],
   "source": [
    "import pandas as pd\n",
    "\n",
    "# Load the dataset\n",
    "file_path = 'C:/Users/bibek/Downloads/PROJECT/EEG/features/featurescombined/extracted_eeg_features.csv'\n",
    "eeg_features_df = pd.read_csv(file_path)\n",
    "\n",
    "# Group by 'Emotion' and calculate the mean for each feature\n",
    "emotion_feature_means = eeg_features_df.groupby('Emotion').mean()\n",
    "\n",
    "# Reset the index to make 'Emotion' a column\n",
    "emotion_feature_means.reset_index(inplace=True)\n",
    "\n",
    "# Save the result to a new CSV file\n",
    "output_file_path = 'C:/Users/bibek/Downloads/PROJECT/EEG/features/featurescombined/emotion_feature_means.csv'\n",
    "emotion_feature_means.to_csv(output_file_path, index=False)\n",
    "\n",
    "print(f\"Combined feature means for each emotion saved to: {output_file_path}\")\n"
   ]
  },
  {
   "cell_type": "code",
   "execution_count": 36,
   "id": "e317241a-1723-4ac4-ab86-b729a2da5f4b",
   "metadata": {},
   "outputs": [
    {
     "ename": "FileNotFoundError",
     "evalue": "[Errno 2] No such file or directory: 'C:/Users/bibek/Downloads/PROJECT/features'",
     "output_type": "error",
     "traceback": [
      "\u001b[1;31m---------------------------------------------------------------------------\u001b[0m",
      "\u001b[1;31mFileNotFoundError\u001b[0m                         Traceback (most recent call last)",
      "Cell \u001b[1;32mIn[36], line 5\u001b[0m\n\u001b[0;32m      3\u001b[0m \u001b[38;5;66;03m# Load the dataset\u001b[39;00m\n\u001b[0;32m      4\u001b[0m file_path \u001b[38;5;241m=\u001b[39m \u001b[38;5;124m'\u001b[39m\u001b[38;5;124mC:/Users/bibek/Downloads/PROJECT/features\u001b[39m\u001b[38;5;124m'\u001b[39m\n\u001b[1;32m----> 5\u001b[0m eeg_features_df \u001b[38;5;241m=\u001b[39m pd\u001b[38;5;241m.\u001b[39mread_csv(file_path)\n\u001b[0;32m      7\u001b[0m \u001b[38;5;66;03m# Group by 'Emotion' and calculate the mean for each feature\u001b[39;00m\n\u001b[0;32m      8\u001b[0m emotion_feature_means \u001b[38;5;241m=\u001b[39m eeg_features_df\u001b[38;5;241m.\u001b[39mgroupby(\u001b[38;5;124m'\u001b[39m\u001b[38;5;124mEmotion\u001b[39m\u001b[38;5;124m'\u001b[39m)\u001b[38;5;241m.\u001b[39mmean()\n",
      "File \u001b[1;32m~\\anaconda3\\Lib\\site-packages\\pandas\\io\\parsers\\readers.py:1026\u001b[0m, in \u001b[0;36mread_csv\u001b[1;34m(filepath_or_buffer, sep, delimiter, header, names, index_col, usecols, dtype, engine, converters, true_values, false_values, skipinitialspace, skiprows, skipfooter, nrows, na_values, keep_default_na, na_filter, verbose, skip_blank_lines, parse_dates, infer_datetime_format, keep_date_col, date_parser, date_format, dayfirst, cache_dates, iterator, chunksize, compression, thousands, decimal, lineterminator, quotechar, quoting, doublequote, escapechar, comment, encoding, encoding_errors, dialect, on_bad_lines, delim_whitespace, low_memory, memory_map, float_precision, storage_options, dtype_backend)\u001b[0m\n\u001b[0;32m   1013\u001b[0m kwds_defaults \u001b[38;5;241m=\u001b[39m _refine_defaults_read(\n\u001b[0;32m   1014\u001b[0m     dialect,\n\u001b[0;32m   1015\u001b[0m     delimiter,\n\u001b[1;32m   (...)\u001b[0m\n\u001b[0;32m   1022\u001b[0m     dtype_backend\u001b[38;5;241m=\u001b[39mdtype_backend,\n\u001b[0;32m   1023\u001b[0m )\n\u001b[0;32m   1024\u001b[0m kwds\u001b[38;5;241m.\u001b[39mupdate(kwds_defaults)\n\u001b[1;32m-> 1026\u001b[0m \u001b[38;5;28;01mreturn\u001b[39;00m _read(filepath_or_buffer, kwds)\n",
      "File \u001b[1;32m~\\anaconda3\\Lib\\site-packages\\pandas\\io\\parsers\\readers.py:620\u001b[0m, in \u001b[0;36m_read\u001b[1;34m(filepath_or_buffer, kwds)\u001b[0m\n\u001b[0;32m    617\u001b[0m _validate_names(kwds\u001b[38;5;241m.\u001b[39mget(\u001b[38;5;124m\"\u001b[39m\u001b[38;5;124mnames\u001b[39m\u001b[38;5;124m\"\u001b[39m, \u001b[38;5;28;01mNone\u001b[39;00m))\n\u001b[0;32m    619\u001b[0m \u001b[38;5;66;03m# Create the parser.\u001b[39;00m\n\u001b[1;32m--> 620\u001b[0m parser \u001b[38;5;241m=\u001b[39m TextFileReader(filepath_or_buffer, \u001b[38;5;241m*\u001b[39m\u001b[38;5;241m*\u001b[39mkwds)\n\u001b[0;32m    622\u001b[0m \u001b[38;5;28;01mif\u001b[39;00m chunksize \u001b[38;5;129;01mor\u001b[39;00m iterator:\n\u001b[0;32m    623\u001b[0m     \u001b[38;5;28;01mreturn\u001b[39;00m parser\n",
      "File \u001b[1;32m~\\anaconda3\\Lib\\site-packages\\pandas\\io\\parsers\\readers.py:1620\u001b[0m, in \u001b[0;36mTextFileReader.__init__\u001b[1;34m(self, f, engine, **kwds)\u001b[0m\n\u001b[0;32m   1617\u001b[0m     \u001b[38;5;28mself\u001b[39m\u001b[38;5;241m.\u001b[39moptions[\u001b[38;5;124m\"\u001b[39m\u001b[38;5;124mhas_index_names\u001b[39m\u001b[38;5;124m\"\u001b[39m] \u001b[38;5;241m=\u001b[39m kwds[\u001b[38;5;124m\"\u001b[39m\u001b[38;5;124mhas_index_names\u001b[39m\u001b[38;5;124m\"\u001b[39m]\n\u001b[0;32m   1619\u001b[0m \u001b[38;5;28mself\u001b[39m\u001b[38;5;241m.\u001b[39mhandles: IOHandles \u001b[38;5;241m|\u001b[39m \u001b[38;5;28;01mNone\u001b[39;00m \u001b[38;5;241m=\u001b[39m \u001b[38;5;28;01mNone\u001b[39;00m\n\u001b[1;32m-> 1620\u001b[0m \u001b[38;5;28mself\u001b[39m\u001b[38;5;241m.\u001b[39m_engine \u001b[38;5;241m=\u001b[39m \u001b[38;5;28mself\u001b[39m\u001b[38;5;241m.\u001b[39m_make_engine(f, \u001b[38;5;28mself\u001b[39m\u001b[38;5;241m.\u001b[39mengine)\n",
      "File \u001b[1;32m~\\anaconda3\\Lib\\site-packages\\pandas\\io\\parsers\\readers.py:1880\u001b[0m, in \u001b[0;36mTextFileReader._make_engine\u001b[1;34m(self, f, engine)\u001b[0m\n\u001b[0;32m   1878\u001b[0m     \u001b[38;5;28;01mif\u001b[39;00m \u001b[38;5;124m\"\u001b[39m\u001b[38;5;124mb\u001b[39m\u001b[38;5;124m\"\u001b[39m \u001b[38;5;129;01mnot\u001b[39;00m \u001b[38;5;129;01min\u001b[39;00m mode:\n\u001b[0;32m   1879\u001b[0m         mode \u001b[38;5;241m+\u001b[39m\u001b[38;5;241m=\u001b[39m \u001b[38;5;124m\"\u001b[39m\u001b[38;5;124mb\u001b[39m\u001b[38;5;124m\"\u001b[39m\n\u001b[1;32m-> 1880\u001b[0m \u001b[38;5;28mself\u001b[39m\u001b[38;5;241m.\u001b[39mhandles \u001b[38;5;241m=\u001b[39m get_handle(\n\u001b[0;32m   1881\u001b[0m     f,\n\u001b[0;32m   1882\u001b[0m     mode,\n\u001b[0;32m   1883\u001b[0m     encoding\u001b[38;5;241m=\u001b[39m\u001b[38;5;28mself\u001b[39m\u001b[38;5;241m.\u001b[39moptions\u001b[38;5;241m.\u001b[39mget(\u001b[38;5;124m\"\u001b[39m\u001b[38;5;124mencoding\u001b[39m\u001b[38;5;124m\"\u001b[39m, \u001b[38;5;28;01mNone\u001b[39;00m),\n\u001b[0;32m   1884\u001b[0m     compression\u001b[38;5;241m=\u001b[39m\u001b[38;5;28mself\u001b[39m\u001b[38;5;241m.\u001b[39moptions\u001b[38;5;241m.\u001b[39mget(\u001b[38;5;124m\"\u001b[39m\u001b[38;5;124mcompression\u001b[39m\u001b[38;5;124m\"\u001b[39m, \u001b[38;5;28;01mNone\u001b[39;00m),\n\u001b[0;32m   1885\u001b[0m     memory_map\u001b[38;5;241m=\u001b[39m\u001b[38;5;28mself\u001b[39m\u001b[38;5;241m.\u001b[39moptions\u001b[38;5;241m.\u001b[39mget(\u001b[38;5;124m\"\u001b[39m\u001b[38;5;124mmemory_map\u001b[39m\u001b[38;5;124m\"\u001b[39m, \u001b[38;5;28;01mFalse\u001b[39;00m),\n\u001b[0;32m   1886\u001b[0m     is_text\u001b[38;5;241m=\u001b[39mis_text,\n\u001b[0;32m   1887\u001b[0m     errors\u001b[38;5;241m=\u001b[39m\u001b[38;5;28mself\u001b[39m\u001b[38;5;241m.\u001b[39moptions\u001b[38;5;241m.\u001b[39mget(\u001b[38;5;124m\"\u001b[39m\u001b[38;5;124mencoding_errors\u001b[39m\u001b[38;5;124m\"\u001b[39m, \u001b[38;5;124m\"\u001b[39m\u001b[38;5;124mstrict\u001b[39m\u001b[38;5;124m\"\u001b[39m),\n\u001b[0;32m   1888\u001b[0m     storage_options\u001b[38;5;241m=\u001b[39m\u001b[38;5;28mself\u001b[39m\u001b[38;5;241m.\u001b[39moptions\u001b[38;5;241m.\u001b[39mget(\u001b[38;5;124m\"\u001b[39m\u001b[38;5;124mstorage_options\u001b[39m\u001b[38;5;124m\"\u001b[39m, \u001b[38;5;28;01mNone\u001b[39;00m),\n\u001b[0;32m   1889\u001b[0m )\n\u001b[0;32m   1890\u001b[0m \u001b[38;5;28;01massert\u001b[39;00m \u001b[38;5;28mself\u001b[39m\u001b[38;5;241m.\u001b[39mhandles \u001b[38;5;129;01mis\u001b[39;00m \u001b[38;5;129;01mnot\u001b[39;00m \u001b[38;5;28;01mNone\u001b[39;00m\n\u001b[0;32m   1891\u001b[0m f \u001b[38;5;241m=\u001b[39m \u001b[38;5;28mself\u001b[39m\u001b[38;5;241m.\u001b[39mhandles\u001b[38;5;241m.\u001b[39mhandle\n",
      "File \u001b[1;32m~\\anaconda3\\Lib\\site-packages\\pandas\\io\\common.py:873\u001b[0m, in \u001b[0;36mget_handle\u001b[1;34m(path_or_buf, mode, encoding, compression, memory_map, is_text, errors, storage_options)\u001b[0m\n\u001b[0;32m    868\u001b[0m \u001b[38;5;28;01melif\u001b[39;00m \u001b[38;5;28misinstance\u001b[39m(handle, \u001b[38;5;28mstr\u001b[39m):\n\u001b[0;32m    869\u001b[0m     \u001b[38;5;66;03m# Check whether the filename is to be opened in binary mode.\u001b[39;00m\n\u001b[0;32m    870\u001b[0m     \u001b[38;5;66;03m# Binary mode does not support 'encoding' and 'newline'.\u001b[39;00m\n\u001b[0;32m    871\u001b[0m     \u001b[38;5;28;01mif\u001b[39;00m ioargs\u001b[38;5;241m.\u001b[39mencoding \u001b[38;5;129;01mand\u001b[39;00m \u001b[38;5;124m\"\u001b[39m\u001b[38;5;124mb\u001b[39m\u001b[38;5;124m\"\u001b[39m \u001b[38;5;129;01mnot\u001b[39;00m \u001b[38;5;129;01min\u001b[39;00m ioargs\u001b[38;5;241m.\u001b[39mmode:\n\u001b[0;32m    872\u001b[0m         \u001b[38;5;66;03m# Encoding\u001b[39;00m\n\u001b[1;32m--> 873\u001b[0m         handle \u001b[38;5;241m=\u001b[39m \u001b[38;5;28mopen\u001b[39m(\n\u001b[0;32m    874\u001b[0m             handle,\n\u001b[0;32m    875\u001b[0m             ioargs\u001b[38;5;241m.\u001b[39mmode,\n\u001b[0;32m    876\u001b[0m             encoding\u001b[38;5;241m=\u001b[39mioargs\u001b[38;5;241m.\u001b[39mencoding,\n\u001b[0;32m    877\u001b[0m             errors\u001b[38;5;241m=\u001b[39merrors,\n\u001b[0;32m    878\u001b[0m             newline\u001b[38;5;241m=\u001b[39m\u001b[38;5;124m\"\u001b[39m\u001b[38;5;124m\"\u001b[39m,\n\u001b[0;32m    879\u001b[0m         )\n\u001b[0;32m    880\u001b[0m     \u001b[38;5;28;01melse\u001b[39;00m:\n\u001b[0;32m    881\u001b[0m         \u001b[38;5;66;03m# Binary mode\u001b[39;00m\n\u001b[0;32m    882\u001b[0m         handle \u001b[38;5;241m=\u001b[39m \u001b[38;5;28mopen\u001b[39m(handle, ioargs\u001b[38;5;241m.\u001b[39mmode)\n",
      "\u001b[1;31mFileNotFoundError\u001b[0m: [Errno 2] No such file or directory: 'C:/Users/bibek/Downloads/PROJECT/features'"
     ]
    }
   ],
   "source": [
    "import pandas as pd\n",
    "\n",
    "# Load the dataset\n",
    "file_path = 'C:/Users/bibek/Downloads/PROJECT/features'\n",
    "eeg_features_df = pd.read_csv(file_path)\n",
    "\n",
    "# Group by 'Emotion' and calculate the mean for each feature\n",
    "emotion_feature_means = eeg_features_df.groupby('Emotion').mean()\n",
    "\n",
    "# Reset the index to make 'Emotion' a column\n",
    "emotion_feature_means.reset_index(inplace=True)\n",
    "\n",
    "# Save the result to a new CSV file\n",
    "output_file_path = 'C:/Users/bibek/Downloads/PROJECT/emotion_feature_means.csv'\n",
    "emotion_feature_means.to_csv(output_file_path, index=False)\n",
    "\n",
    "print(f\"Combined feature means for each emotion saved to: {output_file_path}\")\n",
    "import pandas as pd\n",
    "\n",
    "# Load the dataset\n",
    "file_path = 'C:/Users/bibek/Downloads/PROJECT/features.csv'\n",
    "eeg_features_df = pd.read_csv(file_path)\n",
    "\n",
    "# Group by 'Emotion' and calculate the mean for each feature\n",
    "emotion_feature_means = eeg_features_df.groupby('Emotion').mean()\n",
    "\n",
    "# Reset the index to make 'Emotion' a column\n",
    "emotion_feature_means.reset_index(inplace=True)\n",
    "\n",
    "# Save the result to a new CSV file\n",
    "output_file_path = 'C:/Users/bibek/Downloads/PROJECT/emotion_feature_means.csv'\n",
    "emotion_feature_means.to_csv(output_file_path, index=False)\n",
    "\n",
    "print(f\"Combined feature means for each emotion saved to: {output_file_path}\")\n"
   ]
  },
  {
   "cell_type": "code",
   "execution_count": 38,
   "id": "a8c6b091-9b81-4496-b642-193cd20e4b9e",
   "metadata": {},
   "outputs": [
    {
     "ename": "TypeError",
     "evalue": "agg function failed [how->mean,dtype->object]",
     "output_type": "error",
     "traceback": [
      "\u001b[1;31m---------------------------------------------------------------------------\u001b[0m",
      "\u001b[1;31mTypeError\u001b[0m                                 Traceback (most recent call last)",
      "File \u001b[1;32m~\\anaconda3\\Lib\\site-packages\\pandas\\core\\groupby\\groupby.py:1942\u001b[0m, in \u001b[0;36mGroupBy._agg_py_fallback\u001b[1;34m(self, how, values, ndim, alt)\u001b[0m\n\u001b[0;32m   1941\u001b[0m \u001b[38;5;28;01mtry\u001b[39;00m:\n\u001b[1;32m-> 1942\u001b[0m     res_values \u001b[38;5;241m=\u001b[39m \u001b[38;5;28mself\u001b[39m\u001b[38;5;241m.\u001b[39m_grouper\u001b[38;5;241m.\u001b[39magg_series(ser, alt, preserve_dtype\u001b[38;5;241m=\u001b[39m\u001b[38;5;28;01mTrue\u001b[39;00m)\n\u001b[0;32m   1943\u001b[0m \u001b[38;5;28;01mexcept\u001b[39;00m \u001b[38;5;167;01mException\u001b[39;00m \u001b[38;5;28;01mas\u001b[39;00m err:\n",
      "File \u001b[1;32m~\\anaconda3\\Lib\\site-packages\\pandas\\core\\groupby\\ops.py:864\u001b[0m, in \u001b[0;36mBaseGrouper.agg_series\u001b[1;34m(self, obj, func, preserve_dtype)\u001b[0m\n\u001b[0;32m    862\u001b[0m     preserve_dtype \u001b[38;5;241m=\u001b[39m \u001b[38;5;28;01mTrue\u001b[39;00m\n\u001b[1;32m--> 864\u001b[0m result \u001b[38;5;241m=\u001b[39m \u001b[38;5;28mself\u001b[39m\u001b[38;5;241m.\u001b[39m_aggregate_series_pure_python(obj, func)\n\u001b[0;32m    866\u001b[0m npvalues \u001b[38;5;241m=\u001b[39m lib\u001b[38;5;241m.\u001b[39mmaybe_convert_objects(result, try_float\u001b[38;5;241m=\u001b[39m\u001b[38;5;28;01mFalse\u001b[39;00m)\n",
      "File \u001b[1;32m~\\anaconda3\\Lib\\site-packages\\pandas\\core\\groupby\\ops.py:885\u001b[0m, in \u001b[0;36mBaseGrouper._aggregate_series_pure_python\u001b[1;34m(self, obj, func)\u001b[0m\n\u001b[0;32m    884\u001b[0m \u001b[38;5;28;01mfor\u001b[39;00m i, group \u001b[38;5;129;01min\u001b[39;00m \u001b[38;5;28menumerate\u001b[39m(splitter):\n\u001b[1;32m--> 885\u001b[0m     res \u001b[38;5;241m=\u001b[39m func(group)\n\u001b[0;32m    886\u001b[0m     res \u001b[38;5;241m=\u001b[39m extract_result(res)\n",
      "File \u001b[1;32m~\\anaconda3\\Lib\\site-packages\\pandas\\core\\groupby\\groupby.py:2454\u001b[0m, in \u001b[0;36mGroupBy.mean.<locals>.<lambda>\u001b[1;34m(x)\u001b[0m\n\u001b[0;32m   2451\u001b[0m \u001b[38;5;28;01melse\u001b[39;00m:\n\u001b[0;32m   2452\u001b[0m     result \u001b[38;5;241m=\u001b[39m \u001b[38;5;28mself\u001b[39m\u001b[38;5;241m.\u001b[39m_cython_agg_general(\n\u001b[0;32m   2453\u001b[0m         \u001b[38;5;124m\"\u001b[39m\u001b[38;5;124mmean\u001b[39m\u001b[38;5;124m\"\u001b[39m,\n\u001b[1;32m-> 2454\u001b[0m         alt\u001b[38;5;241m=\u001b[39m\u001b[38;5;28;01mlambda\u001b[39;00m x: Series(x, copy\u001b[38;5;241m=\u001b[39m\u001b[38;5;28;01mFalse\u001b[39;00m)\u001b[38;5;241m.\u001b[39mmean(numeric_only\u001b[38;5;241m=\u001b[39mnumeric_only),\n\u001b[0;32m   2455\u001b[0m         numeric_only\u001b[38;5;241m=\u001b[39mnumeric_only,\n\u001b[0;32m   2456\u001b[0m     )\n\u001b[0;32m   2457\u001b[0m     \u001b[38;5;28;01mreturn\u001b[39;00m result\u001b[38;5;241m.\u001b[39m__finalize__(\u001b[38;5;28mself\u001b[39m\u001b[38;5;241m.\u001b[39mobj, method\u001b[38;5;241m=\u001b[39m\u001b[38;5;124m\"\u001b[39m\u001b[38;5;124mgroupby\u001b[39m\u001b[38;5;124m\"\u001b[39m)\n",
      "File \u001b[1;32m~\\anaconda3\\Lib\\site-packages\\pandas\\core\\series.py:6549\u001b[0m, in \u001b[0;36mSeries.mean\u001b[1;34m(self, axis, skipna, numeric_only, **kwargs)\u001b[0m\n\u001b[0;32m   6541\u001b[0m \u001b[38;5;129m@doc\u001b[39m(make_doc(\u001b[38;5;124m\"\u001b[39m\u001b[38;5;124mmean\u001b[39m\u001b[38;5;124m\"\u001b[39m, ndim\u001b[38;5;241m=\u001b[39m\u001b[38;5;241m1\u001b[39m))\n\u001b[0;32m   6542\u001b[0m \u001b[38;5;28;01mdef\u001b[39;00m \u001b[38;5;21mmean\u001b[39m(\n\u001b[0;32m   6543\u001b[0m     \u001b[38;5;28mself\u001b[39m,\n\u001b[1;32m   (...)\u001b[0m\n\u001b[0;32m   6547\u001b[0m     \u001b[38;5;241m*\u001b[39m\u001b[38;5;241m*\u001b[39mkwargs,\n\u001b[0;32m   6548\u001b[0m ):\n\u001b[1;32m-> 6549\u001b[0m     \u001b[38;5;28;01mreturn\u001b[39;00m NDFrame\u001b[38;5;241m.\u001b[39mmean(\u001b[38;5;28mself\u001b[39m, axis, skipna, numeric_only, \u001b[38;5;241m*\u001b[39m\u001b[38;5;241m*\u001b[39mkwargs)\n",
      "File \u001b[1;32m~\\anaconda3\\Lib\\site-packages\\pandas\\core\\generic.py:12420\u001b[0m, in \u001b[0;36mNDFrame.mean\u001b[1;34m(self, axis, skipna, numeric_only, **kwargs)\u001b[0m\n\u001b[0;32m  12413\u001b[0m \u001b[38;5;28;01mdef\u001b[39;00m \u001b[38;5;21mmean\u001b[39m(\n\u001b[0;32m  12414\u001b[0m     \u001b[38;5;28mself\u001b[39m,\n\u001b[0;32m  12415\u001b[0m     axis: Axis \u001b[38;5;241m|\u001b[39m \u001b[38;5;28;01mNone\u001b[39;00m \u001b[38;5;241m=\u001b[39m \u001b[38;5;241m0\u001b[39m,\n\u001b[1;32m   (...)\u001b[0m\n\u001b[0;32m  12418\u001b[0m     \u001b[38;5;241m*\u001b[39m\u001b[38;5;241m*\u001b[39mkwargs,\n\u001b[0;32m  12419\u001b[0m ) \u001b[38;5;241m-\u001b[39m\u001b[38;5;241m>\u001b[39m Series \u001b[38;5;241m|\u001b[39m \u001b[38;5;28mfloat\u001b[39m:\n\u001b[1;32m> 12420\u001b[0m     \u001b[38;5;28;01mreturn\u001b[39;00m \u001b[38;5;28mself\u001b[39m\u001b[38;5;241m.\u001b[39m_stat_function(\n\u001b[0;32m  12421\u001b[0m         \u001b[38;5;124m\"\u001b[39m\u001b[38;5;124mmean\u001b[39m\u001b[38;5;124m\"\u001b[39m, nanops\u001b[38;5;241m.\u001b[39mnanmean, axis, skipna, numeric_only, \u001b[38;5;241m*\u001b[39m\u001b[38;5;241m*\u001b[39mkwargs\n\u001b[0;32m  12422\u001b[0m     )\n",
      "File \u001b[1;32m~\\anaconda3\\Lib\\site-packages\\pandas\\core\\generic.py:12377\u001b[0m, in \u001b[0;36mNDFrame._stat_function\u001b[1;34m(self, name, func, axis, skipna, numeric_only, **kwargs)\u001b[0m\n\u001b[0;32m  12375\u001b[0m validate_bool_kwarg(skipna, \u001b[38;5;124m\"\u001b[39m\u001b[38;5;124mskipna\u001b[39m\u001b[38;5;124m\"\u001b[39m, none_allowed\u001b[38;5;241m=\u001b[39m\u001b[38;5;28;01mFalse\u001b[39;00m)\n\u001b[1;32m> 12377\u001b[0m \u001b[38;5;28;01mreturn\u001b[39;00m \u001b[38;5;28mself\u001b[39m\u001b[38;5;241m.\u001b[39m_reduce(\n\u001b[0;32m  12378\u001b[0m     func, name\u001b[38;5;241m=\u001b[39mname, axis\u001b[38;5;241m=\u001b[39maxis, skipna\u001b[38;5;241m=\u001b[39mskipna, numeric_only\u001b[38;5;241m=\u001b[39mnumeric_only\n\u001b[0;32m  12379\u001b[0m )\n",
      "File \u001b[1;32m~\\anaconda3\\Lib\\site-packages\\pandas\\core\\series.py:6457\u001b[0m, in \u001b[0;36mSeries._reduce\u001b[1;34m(self, op, name, axis, skipna, numeric_only, filter_type, **kwds)\u001b[0m\n\u001b[0;32m   6453\u001b[0m     \u001b[38;5;28;01mraise\u001b[39;00m \u001b[38;5;167;01mTypeError\u001b[39;00m(\n\u001b[0;32m   6454\u001b[0m         \u001b[38;5;124mf\u001b[39m\u001b[38;5;124m\"\u001b[39m\u001b[38;5;124mSeries.\u001b[39m\u001b[38;5;132;01m{\u001b[39;00mname\u001b[38;5;132;01m}\u001b[39;00m\u001b[38;5;124m does not allow \u001b[39m\u001b[38;5;132;01m{\u001b[39;00mkwd_name\u001b[38;5;132;01m}\u001b[39;00m\u001b[38;5;124m=\u001b[39m\u001b[38;5;132;01m{\u001b[39;00mnumeric_only\u001b[38;5;132;01m}\u001b[39;00m\u001b[38;5;124m \u001b[39m\u001b[38;5;124m\"\u001b[39m\n\u001b[0;32m   6455\u001b[0m         \u001b[38;5;124m\"\u001b[39m\u001b[38;5;124mwith non-numeric dtypes.\u001b[39m\u001b[38;5;124m\"\u001b[39m\n\u001b[0;32m   6456\u001b[0m     )\n\u001b[1;32m-> 6457\u001b[0m \u001b[38;5;28;01mreturn\u001b[39;00m op(delegate, skipna\u001b[38;5;241m=\u001b[39mskipna, \u001b[38;5;241m*\u001b[39m\u001b[38;5;241m*\u001b[39mkwds)\n",
      "File \u001b[1;32m~\\anaconda3\\Lib\\site-packages\\pandas\\core\\nanops.py:147\u001b[0m, in \u001b[0;36mbottleneck_switch.__call__.<locals>.f\u001b[1;34m(values, axis, skipna, **kwds)\u001b[0m\n\u001b[0;32m    146\u001b[0m \u001b[38;5;28;01melse\u001b[39;00m:\n\u001b[1;32m--> 147\u001b[0m     result \u001b[38;5;241m=\u001b[39m alt(values, axis\u001b[38;5;241m=\u001b[39maxis, skipna\u001b[38;5;241m=\u001b[39mskipna, \u001b[38;5;241m*\u001b[39m\u001b[38;5;241m*\u001b[39mkwds)\n\u001b[0;32m    149\u001b[0m \u001b[38;5;28;01mreturn\u001b[39;00m result\n",
      "File \u001b[1;32m~\\anaconda3\\Lib\\site-packages\\pandas\\core\\nanops.py:404\u001b[0m, in \u001b[0;36m_datetimelike_compat.<locals>.new_func\u001b[1;34m(values, axis, skipna, mask, **kwargs)\u001b[0m\n\u001b[0;32m    402\u001b[0m     mask \u001b[38;5;241m=\u001b[39m isna(values)\n\u001b[1;32m--> 404\u001b[0m result \u001b[38;5;241m=\u001b[39m func(values, axis\u001b[38;5;241m=\u001b[39maxis, skipna\u001b[38;5;241m=\u001b[39mskipna, mask\u001b[38;5;241m=\u001b[39mmask, \u001b[38;5;241m*\u001b[39m\u001b[38;5;241m*\u001b[39mkwargs)\n\u001b[0;32m    406\u001b[0m \u001b[38;5;28;01mif\u001b[39;00m datetimelike:\n",
      "File \u001b[1;32m~\\anaconda3\\Lib\\site-packages\\pandas\\core\\nanops.py:720\u001b[0m, in \u001b[0;36mnanmean\u001b[1;34m(values, axis, skipna, mask)\u001b[0m\n\u001b[0;32m    719\u001b[0m the_sum \u001b[38;5;241m=\u001b[39m values\u001b[38;5;241m.\u001b[39msum(axis, dtype\u001b[38;5;241m=\u001b[39mdtype_sum)\n\u001b[1;32m--> 720\u001b[0m the_sum \u001b[38;5;241m=\u001b[39m _ensure_numeric(the_sum)\n\u001b[0;32m    722\u001b[0m \u001b[38;5;28;01mif\u001b[39;00m axis \u001b[38;5;129;01mis\u001b[39;00m \u001b[38;5;129;01mnot\u001b[39;00m \u001b[38;5;28;01mNone\u001b[39;00m \u001b[38;5;129;01mand\u001b[39;00m \u001b[38;5;28mgetattr\u001b[39m(the_sum, \u001b[38;5;124m\"\u001b[39m\u001b[38;5;124mndim\u001b[39m\u001b[38;5;124m\"\u001b[39m, \u001b[38;5;28;01mFalse\u001b[39;00m):\n",
      "File \u001b[1;32m~\\anaconda3\\Lib\\site-packages\\pandas\\core\\nanops.py:1701\u001b[0m, in \u001b[0;36m_ensure_numeric\u001b[1;34m(x)\u001b[0m\n\u001b[0;32m   1699\u001b[0m \u001b[38;5;28;01mif\u001b[39;00m \u001b[38;5;28misinstance\u001b[39m(x, \u001b[38;5;28mstr\u001b[39m):\n\u001b[0;32m   1700\u001b[0m     \u001b[38;5;66;03m# GH#44008, GH#36703 avoid casting e.g. strings to numeric\u001b[39;00m\n\u001b[1;32m-> 1701\u001b[0m     \u001b[38;5;28;01mraise\u001b[39;00m \u001b[38;5;167;01mTypeError\u001b[39;00m(\u001b[38;5;124mf\u001b[39m\u001b[38;5;124m\"\u001b[39m\u001b[38;5;124mCould not convert string \u001b[39m\u001b[38;5;124m'\u001b[39m\u001b[38;5;132;01m{\u001b[39;00mx\u001b[38;5;132;01m}\u001b[39;00m\u001b[38;5;124m'\u001b[39m\u001b[38;5;124m to numeric\u001b[39m\u001b[38;5;124m\"\u001b[39m)\n\u001b[0;32m   1702\u001b[0m \u001b[38;5;28;01mtry\u001b[39;00m:\n",
      "\u001b[1;31mTypeError\u001b[0m: Could not convert string 'subject10_preprocessedsubject10_preprocessedsubject10_preprocessedsubject10_preprocessedsubject10_preprocessedsubject10_preprocessedsubject10_preprocessedsubject10_preprocessedsubject10_preprocessedsubject10_preprocessedsubject10_preprocessedsubject10_preprocessedsubject10_preprocessedsubject10_preprocessedsubject10_preprocessedsubject10_preprocessedsubject10_preprocessedsubject10_preprocessedsubject10_preprocessedsubject10_preprocessedsubject10_preprocessedsubject10_preprocessedsubject10_preprocessedsubject10_preprocessedsubject10_preprocessedsubject10_preprocessedsubject10_preprocessedsubject10_preprocessedsubject10_preprocessedsubject10_preprocessedsubject10_preprocessedsubject10_preprocessedsubject10_preprocessedsubject10_preprocessedsubject10_preprocessedsubject10_preprocessedsubject10_preprocessedsubject10_preprocessedsubject10_preprocessedsubject10_preprocessedsubject10_preprocessedsubject10_preprocessedsubject10_preprocessedsubject10_preprocessedsubject10_preprocessedsubject10_preprocessedsubject10_preprocessedsubject10_preprocessedsubject10_preprocessedsubject10_preprocessedsubject10_preprocessedsubject10_preprocessedsubject10_preprocessedsubject10_preprocessedsubject10_preprocessedsubject10_preprocessedsubject10_preprocessedsubject10_preprocessedsubject10_preprocessedsubject10_preprocessedsubject10_preprocessedsubject10_preprocessedsubject10_preprocessedsubject10_preprocessedsubject10_preprocessedsubject10_preprocessedsubject10_preprocessedsubject10_preprocessedsubject10_preprocessedsubject10_preprocessedsubject10_preprocessedsubject10_preprocessedsubject10_preprocessedsubject10_preprocessedsubject10_preprocessedsubject10_preprocessedsubject10_preprocessedsubject10_preprocessedsubject10_preprocessedsubject10_preprocessedsubject10_preprocessedsubject10_preprocessedsubject10_preprocessedsubject10_preprocessedsubject10_preprocessedsubject10_preprocessedsubject10_preprocessedsubject10_preprocessedsubject10_preprocessedsubject10_preprocessedsubject10_preprocessedsubject10_preprocessedsubject10_preprocessedsubject10_preprocessedsubject10_preprocessedsubject10_preprocessedsubject10_preprocessedsubject10_preprocessedsubject10_preprocessedsubject10_preprocessedsubject10_preprocessedsubject10_preprocessedsubject10_preprocessedsubject10_preprocessedsubject10_preprocessedsubject10_preprocessedsubject10_preprocessedsubject10_preprocessedsubject10_preprocessedsubject10_preprocessedsubject10_preprocessedsubject10_preprocessedsubject10_preprocessedsubject10_preprocessedsubject10_preprocessedsubject10_preprocessedsubject10_preprocessedsubject10_preprocessedsubject10_preprocessedsubject10_preprocessedsubject10_preprocessedsubject10_preprocessedsubject10_preprocessedsubject10_preprocessedsubject10_preprocessedsubject11_preprocessedsubject11_preprocessedsubject11_preprocessedsubject11_preprocessedsubject11_preprocessedsubject11_preprocessedsubject11_preprocessedsubject11_preprocessedsubject11_preprocessedsubject11_preprocessedsubject11_preprocessedsubject11_preprocessedsubject11_preprocessedsubject11_preprocessedsubject11_preprocessedsubject11_preprocessedsubject11_preprocessedsubject11_preprocessedsubject11_preprocessedsubject11_preprocessedsubject11_preprocessedsubject11_preprocessedsubject11_preprocessedsubject11_preprocessedsubject11_preprocessedsubject11_preprocessedsubject11_preprocessedsubject11_preprocessedsubject11_preprocessedsubject11_preprocessedsubject11_preprocessedsubject11_preprocessedsubject11_preprocessedsubject11_preprocessedsubject11_preprocessedsubject11_preprocessedsubject11_preprocessedsubject11_preprocessedsubject11_preprocessedsubject11_preprocessedsubject11_preprocessedsubject11_preprocessedsubject11_preprocessedsubject11_preprocessedsubject12_preprocessedsubject12_preprocessedsubject12_preprocessedsubject12_preprocessedsubject12_preprocessedsubject12_preprocessedsubject12_preprocessedsubject12_preprocessedsubject12_preprocessedsubject12_preprocessedsubject12_preprocessedsubject12_preprocessedsubject12_preprocessedsubject12_preprocessedsubject12_preprocessedsubject12_preprocessedsubject12_preprocessedsubject12_preprocessedsubject12_preprocessedsubject12_preprocessedsubject12_preprocessedsubject12_preprocessedsubject12_preprocessedsubject12_preprocessedsubject12_preprocessedsubject12_preprocessedsubject12_preprocessedsubject12_preprocessedsubject12_preprocessedsubject12_preprocessedsubject12_preprocessedsubject12_preprocessedsubject12_preprocessedsubject12_preprocessedsubject12_preprocessedsubject12_preprocessedsubject12_preprocessedsubject12_preprocessedsubject12_preprocessedsubject12_preprocessedsubject12_preprocessedsubject12_preprocessedsubject12_preprocessedsubject12_preprocessedsubject12_preprocessedsubject12_preprocessedsubject12_preprocessedsubject12_preprocessedsubject12_preprocessedsubject12_preprocessedsubject12_preprocessedsubject12_preprocessedsubject12_preprocessedsubject12_preprocessedsubject13_preprocessedsubject13_preprocessedsubject13_preprocessedsubject13_preprocessedsubject13_preprocessedsubject13_preprocessedsubject13_preprocessedsubject13_preprocessedsubject13_preprocessedsubject13_preprocessedsubject13_preprocessedsubject13_preprocessedsubject13_preprocessedsubject13_preprocessedsubject13_preprocessedsubject13_preprocessedsubject13_preprocessedsubject13_preprocessedsubject13_preprocessedsubject13_preprocessedsubject13_preprocessedsubject13_preprocessedsubject13_preprocessedsubject13_preprocessedsubject13_preprocessedsubject13_preprocessedsubject13_preprocessedsubject13_preprocessedsubject13_preprocessedsubject13_preprocessedsubject13_preprocessedsubject13_preprocessedsubject13_preprocessedsubject13_preprocessedsubject13_preprocessedsubject13_preprocessedsubject13_preprocessedsubject13_preprocessedsubject13_preprocessedsubject13_preprocessedsubject13_preprocessedsubject13_preprocessedsubject13_preprocessedsubject13_preprocessedsubject13_preprocessedsubject13_preprocessedsubject13_preprocessedsubject13_preprocessedsubject13_preprocessedsubject13_preprocessedsubject13_preprocessedsubject13_preprocessedsubject13_preprocessedsubject13_preprocessedsubject13_preprocessedsubject13_preprocessedsubject13_preprocessedsubject13_preprocessedsubject13_preprocessedsubject13_preprocessedsubject13_preprocessedsubject13_preprocessedsubject13_preprocessedsubject13_preprocessedsubject13_preprocessedsubject13_preprocessedsubject13_preprocessedsubject13_preprocessedsubject13_preprocessedsubject13_preprocessedsubject13_preprocessedsubject13_preprocessedsubject13_preprocessedsubject13_preprocessedsubject13_preprocessedsubject13_preprocessedsubject13_preprocessedsubject13_preprocessedsubject13_preprocessedsubject13_preprocessedsubject13_preprocessedsubject13_preprocessedsubject13_preprocessedsubject13_preprocessedsubject13_preprocessedsubject13_preprocessedsubject13_preprocessedsubject13_preprocessedsubject13_preprocessedsubject13_preprocessedsubject13_preprocessedsubject13_preprocessedsubject13_preprocessedsubject13_preprocessedsubject13_preprocessedsubject13_preprocessedsubject13_preprocessedsubject13_preprocessedsubject13_preprocessedsubject13_preprocessedsubject13_preprocessedsubject13_preprocessedsubject13_preprocessedsubject13_preprocessedsubject13_preprocessedsubject13_preprocessedsubject13_preprocessedsubject13_preprocessedsubject13_preprocessedsubject13_preprocessedsubject13_preprocessedsubject13_preprocessedsubject13_preprocessedsubject13_preprocessedsubject13_preprocessedsubject13_preprocessedsubject13_preprocessedsubject13_preprocessedsubject13_preprocessedsubject13_preprocessedsubject13_preprocessedsubject13_preprocessedsubject13_preprocessedsubject13_preprocessedsubject13_preprocessedsubject13_preprocessedsubject13_preprocessedsubject13_preprocessedsubject13_preprocessedsubject13_preprocessedsubject13_preprocessedsubject13_preprocessedsubject13_preprocessedsubject13_preprocessedsubject13_preprocessedsubject13_preprocessedsubject13_preprocessedsubject13_preprocessedsubject13_preprocessedsubject13_preprocessedsubject13_preprocessedsubject13_preprocessedsubject13_preprocessedsubject13_preprocessedsubject13_preprocessedsubject13_preprocessedsubject13_preprocessedsubject13_preprocessedsubject13_preprocessedsubject13_preprocessedsubject13_preprocessedsubject13_preprocessedsubject13_preprocessedsubject13_preprocessedsubject13_preprocessedsubject13_preprocessedsubject13_preprocessedsubject13_preprocessedsubject13_preprocessedsubject13_preprocessedsubject13_preprocessedsubject13_preprocessedsubject13_preprocessedsubject13_preprocessedsubject13_preprocessedsubject13_preprocessedsubject13_preprocessedsubject13_preprocessedsubject13_preprocessedsubject13_preprocessedsubject13_preprocessedsubject13_preprocessedsubject13_preprocessedsubject13_preprocessedsubject13_preprocessedsubject13_preprocessedsubject14_preprocessedsubject14_preprocessedsubject14_preprocessedsubject14_preprocessedsubject14_preprocessedsubject14_preprocessedsubject14_preprocessedsubject14_preprocessedsubject14_preprocessedsubject14_preprocessedsubject14_preprocessedsubject14_preprocessedsubject14_preprocessedsubject14_preprocessedsubject14_preprocessedsubject14_preprocessedsubject14_preprocessedsubject14_preprocessedsubject14_preprocessedsubject14_preprocessedsubject14_preprocessedsubject14_preprocessedsubject14_preprocessedsubject14_preprocessedsubject14_preprocessedsubject14_preprocessedsubject14_preprocessedsubject14_preprocessedsubject14_preprocessedsubject14_preprocessedsubject14_preprocessedsubject14_preprocessedsubject14_preprocessedsubject14_preprocessedsubject14_preprocessedsubject14_preprocessedsubject14_preprocessedsubject14_preprocessedsubject14_preprocessedsubject14_preprocessedsubject14_preprocessedsubject14_preprocessedsubject14_preprocessedsubject14_preprocessedsubject14_preprocessedsubject14_preprocessedsubject14_preprocessedsubject14_preprocessedsubject14_preprocessedsubject14_preprocessedsubject14_preprocessedsubject14_preprocessedsubject14_preprocessedsubject14_preprocessedsubject14_preprocessedsubject14_preprocessedsubject14_preprocessedsubject14_preprocessedsubject14_preprocessedsubject14_preprocessedsubject14_preprocessedsubject14_preprocessedsubject14_preprocessedsubject14_preprocessedsubject14_preprocessedsubject14_preprocessedsubject14_preprocessedsubject14_preprocessedsubject14_preprocessedsubject14_preprocessedsubject14_preprocessedsubject14_preprocessedsubject14_preprocessedsubject14_preprocessedsubject14_preprocessedsubject14_preprocessedsubject14_preprocessedsubject14_preprocessedsubject14_preprocessedsubject14_preprocessedsubject14_preprocessedsubject14_preprocessedsubject14_preprocessedsubject14_preprocessedsubject14_preprocessedsubject14_preprocessedsubject14_preprocessedsubject14_preprocessedsubject14_preprocessedsubject14_preprocessedsubject14_preprocessedsubject14_preprocessedsubject14_preprocessedsubject14_preprocessedsubject14_preprocessedsubject14_preprocessedsubject14_preprocessedsubject14_preprocessedsubject14_preprocessedsubject14_preprocessedsubject14_preprocessedsubject14_preprocessedsubject14_preprocessedsubject14_preprocessedsubject14_preprocessedsubject14_preprocessedsubject14_preprocessedsubject14_preprocessedsubject14_preprocessedsubject14_preprocessedsubject14_preprocessedsubject14_preprocessedsubject14_preprocessedsubject14_preprocessedsubject14_preprocessedsubject14_preprocessedsubject14_preprocessedsubject14_preprocessedsubject15_preprocessedsubject15_preprocessedsubject15_preprocessedsubject15_preprocessedsubject15_preprocessedsubject15_preprocessedsubject15_preprocessedsubject15_preprocessedsubject15_preprocessedsubject15_preprocessedsubject15_preprocessedsubject15_preprocessedsubject15_preprocessedsubject15_preprocessedsubject15_preprocessedsubject15_preprocessedsubject15_preprocessedsubject15_preprocessedsubject15_preprocessedsubject15_preprocessedsubject15_preprocessedsubject15_preprocessedsubject15_preprocessedsubject15_preprocessedsubject15_preprocessedsubject15_preprocessedsubject15_preprocessedsubject15_preprocessedsubject15_preprocessedsubject15_preprocessedsubject15_preprocessedsubject15_preprocessedsubject15_preprocessedsubject15_preprocessedsubject15_preprocessedsubject15_preprocessedsubject16_preprocessedsubject16_preprocessedsubject16_preprocessedsubject16_preprocessedsubject16_preprocessedsubject16_preprocessedsubject16_preprocessedsubject16_preprocessedsubject16_preprocessedsubject16_preprocessedsubject16_preprocessedsubject16_preprocessedsubject16_preprocessedsubject16_preprocessedsubject16_preprocessedsubject16_preprocessedsubject16_preprocessedsubject16_preprocessedsubject16_preprocessedsubject16_preprocessedsubject16_preprocessedsubject16_preprocessedsubject16_preprocessedsubject16_preprocessedsubject16_preprocessedsubject16_preprocessedsubject16_preprocessedsubject16_preprocessedsubject16_preprocessedsubject16_preprocessedsubject16_preprocessedsubject16_preprocessedsubject16_preprocessedsubject16_preprocessedsubject16_preprocessedsubject16_preprocessedsubject16_preprocessedsubject16_preprocessedsubject16_preprocessedsubject16_preprocessedsubject16_preprocessedsubject16_preprocessedsubject16_preprocessedsubject16_preprocessedsubject16_preprocessedsubject16_preprocessedsubject16_preprocessedsubject16_preprocessedsubject16_preprocessedsubject16_preprocessedsubject16_preprocessedsubject16_preprocessedsubject16_preprocessedsubject16_preprocessedsubject16_preprocessedsubject16_preprocessedsubject16_preprocessedsubject16_preprocessedsubject16_preprocessedsubject16_preprocessedsubject16_preprocessedsubject16_preprocessedsubject16_preprocessedsubject16_preprocessedsubject16_preprocessedsubject16_preprocessedsubject16_preprocessedsubject16_preprocessedsubject16_preprocessedsubject16_preprocessedsubject16_preprocessedsubject16_preprocessedsubject16_preprocessedsubject16_preprocessedsubject16_preprocessedsubject16_preprocessedsubject16_preprocessedsubject16_preprocessedsubject16_preprocessedsubject16_preprocessedsubject16_preprocessedsubject16_preprocessedsubject16_preprocessedsubject16_preprocessedsubject16_preprocessedsubject16_preprocessedsubject16_preprocessedsubject16_preprocessedsubject16_preprocessedsubject16_preprocessedsubject16_preprocessedsubject16_preprocessedsubject16_preprocessedsubject16_preprocessedsubject16_preprocessedsubject16_preprocessedsubject16_preprocessedsubject16_preprocessedsubject16_preprocessedsubject16_preprocessedsubject16_preprocessedsubject16_preprocessedsubject16_preprocessedsubject16_preprocessedsubject16_preprocessedsubject17_preprocessedsubject17_preprocessedsubject17_preprocessedsubject17_preprocessedsubject17_preprocessedsubject17_preprocessedsubject17_preprocessedsubject17_preprocessedsubject17_preprocessedsubject17_preprocessedsubject17_preprocessedsubject17_preprocessedsubject17_preprocessedsubject17_preprocessedsubject17_preprocessedsubject17_preprocessedsubject17_preprocessedsubject17_preprocessedsubject17_preprocessedsubject17_preprocessedsubject17_preprocessedsubject17_preprocessedsubject17_preprocessedsubject17_preprocessedsubject17_preprocessedsubject17_preprocessedsubject17_preprocessedsubject17_preprocessedsubject17_preprocessedsubject18_preprocessedsubject18_preprocessedsubject18_preprocessedsubject18_preprocessedsubject18_preprocessedsubject18_preprocessedsubject18_preprocessedsubject18_preprocessedsubject18_preprocessedsubject19_preprocessedsubject19_preprocessedsubject19_preprocessedsubject19_preprocessedsubject19_preprocessedsubject19_preprocessedsubject19_preprocessedsubject19_preprocessedsubject19_preprocessedsubject19_preprocessedsubject19_preprocessedsubject19_preprocessedsubject19_preprocessedsubject19_preprocessedsubject19_preprocessedsubject19_preprocessedsubject19_preprocessedsubject19_preprocessedsubject19_preprocessedsubject19_preprocessedsubject19_preprocessedsubject19_preprocessedsubject19_preprocessedsubject19_preprocessedsubject19_preprocessedsubject19_preprocessedsubject19_preprocessedsubject19_preprocessedsubject19_preprocessedsubject19_preprocessedsubject19_preprocessedsubject19_preprocessedsubject19_preprocessedsubject19_preprocessedsubject19_preprocessedsubject19_preprocessedsubject19_preprocessedsubject19_preprocessedsubject19_preprocessedsubject19_preprocessedsubject19_preprocessedsubject19_preprocessedsubject19_preprocessedsubject19_preprocessedsubject19_preprocessedsubject19_preprocessedsubject19_preprocessedsubject19_preprocessedsubject19_preprocessedsubject19_preprocessedsubject19_preprocessedsubject19_preprocessedsubject19_preprocessedsubject19_preprocessedsubject1_preprocessedsubject1_preprocessedsubject1_preprocessedsubject1_preprocessedsubject1_preprocessedsubject1_preprocessedsubject1_preprocessedsubject1_preprocessedsubject1_preprocessedsubject1_preprocessedsubject1_preprocessedsubject1_preprocessedsubject1_preprocessedsubject1_preprocessedsubject1_preprocessedsubject1_preprocessedsubject1_preprocessedsubject1_preprocessedsubject1_preprocessedsubject1_preprocessedsubject1_preprocessedsubject1_preprocessedsubject1_preprocessedsubject1_preprocessedsubject1_preprocessedsubject1_preprocessedsubject1_preprocessedsubject1_preprocessedsubject20_preprocessedsubject20_preprocessedsubject20_preprocessedsubject20_preprocessedsubject20_preprocessedsubject20_preprocessedsubject20_preprocessedsubject20_preprocessedsubject20_preprocessedsubject20_preprocessedsubject20_preprocessedsubject20_preprocessedsubject20_preprocessedsubject20_preprocessedsubject20_preprocessedsubject20_preprocessedsubject20_preprocessedsubject20_preprocessedsubject20_preprocessedsubject20_preprocessedsubject20_preprocessedsubject20_preprocessedsubject20_preprocessedsubject20_preprocessedsubject20_preprocessedsubject20_preprocessedsubject20_preprocessedsubject20_preprocessedsubject20_preprocessedsubject20_preprocessedsubject20_preprocessedsubject20_preprocessedsubject20_preprocessedsubject20_preprocessedsubject20_preprocessedsubject20_preprocessedsubject20_preprocessedsubject20_preprocessedsubject20_preprocessedsubject20_preprocessedsubject20_preprocessedsubject20_preprocessedsubject20_preprocessedsubject20_preprocessedsubject20_preprocessedsubject20_preprocessedsubject20_preprocessedsubject20_preprocessedsubject20_preprocessedsubject20_preprocessedsubject20_preprocessedsubject20_preprocessedsubject20_preprocessedsubject20_preprocessedsubject20_preprocessedsubject20_preprocessedsubject20_preprocessedsubject20_preprocessedsubject20_preprocessedsubject20_preprocessedsubject20_preprocessedsubject20_preprocessedsubject20_preprocessedsubject20_preprocessedsubject20_preprocessedsubject20_preprocessedsubject20_preprocessedsubject20_preprocessedsubject20_preprocessedsubject20_preprocessedsubject20_preprocessedsubject20_preprocessedsubject20_preprocessedsubject20_preprocessedsubject20_preprocessedsubject20_preprocessedsubject20_preprocessedsubject20_preprocessedsubject20_preprocessedsubject20_preprocessedsubject20_preprocessedsubject20_preprocessedsubject20_preprocessedsubject20_preprocessedsubject20_preprocessedsubject20_preprocessedsubject20_preprocessedsubject20_preprocessedsubject20_preprocessedsubject20_preprocessedsubject20_preprocessedsubject21_preprocessedsubject21_preprocessedsubject21_preprocessedsubject21_preprocessedsubject21_preprocessedsubject21_preprocessedsubject21_preprocessedsubject21_preprocessedsubject21_preprocessedsubject21_preprocessedsubject21_preprocessedsubject21_preprocessedsubject21_preprocessedsubject21_preprocessedsubject21_preprocessedsubject21_preprocessedsubject21_preprocessedsubject21_preprocessedsubject21_preprocessedsubject21_preprocessedsubject21_preprocessedsubject21_preprocessedsubject21_preprocessedsubject21_preprocessedsubject22_preprocessedsubject22_preprocessedsubject22_preprocessedsubject22_preprocessedsubject22_preprocessedsubject22_preprocessedsubject22_preprocessedsubject22_preprocessedsubject22_preprocessedsubject22_preprocessedsubject22_preprocessedsubject22_preprocessedsubject22_preprocessedsubject22_preprocessedsubject22_preprocessedsubject22_preprocessedsubject22_preprocessedsubject22_preprocessedsubject22_preprocessedsubject22_preprocessedsubject22_preprocessedsubject22_preprocessedsubject22_preprocessedsubject22_preprocessedsubject22_preprocessedsubject22_preprocessedsubject22_preprocessedsubject22_preprocessedsubject22_preprocessedsubject22_preprocessedsubject22_preprocessedsubject22_preprocessedsubject22_preprocessedsubject22_preprocessedsubject22_preprocessedsubject22_preprocessedsubject22_preprocessedsubject22_preprocessedsubject22_preprocessedsubject22_preprocessedsubject22_preprocessedsubject22_preprocessedsubject22_preprocessedsubject22_preprocessedsubject22_preprocessedsubject22_preprocessedsubject22_preprocessedsubject22_preprocessedsubject22_preprocessedsubject22_preprocessedsubject22_preprocessedsubject22_preprocessedsubject22_preprocessedsubject22_preprocessedsubject22_preprocessedsubject22_preprocessedsubject22_preprocessedsubject22_preprocessedsubject22_preprocessedsubject22_preprocessedsubject22_preprocessedsubject22_preprocessedsubject22_preprocessedsubject22_preprocessedsubject22_preprocessedsubject22_preprocessedsubject22_preprocessedsubject22_preprocessedsubject22_preprocessedsubject23_preprocessedsubject23_preprocessedsubject23_preprocessedsubject23_preprocessedsubject23_preprocessedsubject23_preprocessedsubject23_preprocessedsubject23_preprocessedsubject23_preprocessedsubject23_preprocessedsubject23_preprocessedsubject23_preprocessedsubject23_preprocessedsubject23_preprocessedsubject23_preprocessedsubject23_preprocessedsubject23_preprocessedsubject23_preprocessedsubject23_preprocessedsubject23_preprocessedsubject23_preprocessedsubject23_preprocessedsubject23_preprocessedsubject23_preprocessedsubject24_preprocessedsubject24_preprocessedsubject24_preprocessedsubject24_preprocessedsubject24_preprocessedsubject24_preprocessedsubject24_preprocessedsubject24_preprocessedsubject24_preprocessedsubject24_preprocessedsubject24_preprocessedsubject24_preprocessedsubject24_preprocessedsubject24_preprocessedsubject24_preprocessedsubject24_preprocessedsubject24_preprocessedsubject24_preprocessedsubject24_preprocessedsubject24_preprocessedsubject24_preprocessedsubject24_preprocessedsubject24_preprocessedsubject24_preprocessedsubject24_preprocessedsubject24_preprocessedsubject24_preprocessedsubject24_preprocessedsubject24_preprocessedsubject24_preprocessedsubject24_preprocessedsubject24_preprocessedsubject24_preprocessedsubject24_preprocessedsubject24_preprocessedsubject24_preprocessedsubject24_preprocessedsubject24_preprocessedsubject24_preprocessedsubject24_preprocessedsubject24_preprocessedsubject24_preprocessedsubject24_preprocessedsubject24_preprocessedsubject24_preprocessedsubject24_preprocessedsubject24_preprocessedsubject24_preprocessedsubject24_preprocessedsubject24_preprocessedsubject24_preprocessedsubject24_preprocessedsubject24_preprocessedsubject24_preprocessedsubject24_preprocessedsubject24_preprocessedsubject24_preprocessedsubject24_preprocessedsubject24_preprocessedsubject24_preprocessedsubject24_preprocessedsubject24_preprocessedsubject24_preprocessedsubject24_preprocessedsubject24_preprocessedsubject24_preprocessedsubject24_preprocessedsubject24_preprocessedsubject24_preprocessedsubject24_preprocessedsubject24_preprocessedsubject24_preprocessedsubject24_preprocessedsubject24_preprocessedsubject24_preprocessedsubject24_preprocessedsubject24_preprocessedsubject24_preprocessedsubject24_preprocessedsubject24_preprocessedsubject24_preprocessedsubject24_preprocessedsubject24_preprocessedsubject24_preprocessedsubject24_preprocessedsubject24_preprocessedsubject24_preprocessedsubject24_preprocessedsubject24_preprocessedsubject24_preprocessedsubject24_preprocessedsubject24_preprocessedsubject24_preprocessedsubject24_preprocessedsubject24_preprocessedsubject24_preprocessedsubject24_preprocessedsubject24_preprocessedsubject24_preprocessedsubject24_preprocessedsubject24_preprocessedsubject24_preprocessedsubject24_preprocessedsubject24_preprocessedsubject24_preprocessedsubject24_preprocessedsubject24_preprocessedsubject24_preprocessedsubject24_preprocessedsubject24_preprocessedsubject24_preprocessedsubject24_preprocessedsubject24_preprocessedsubject24_preprocessedsubject24_preprocessedsubject24_preprocessedsubject24_preprocessedsubject24_preprocessedsubject24_preprocessedsubject24_preprocessedsubject24_preprocessedsubject24_preprocessedsubject24_preprocessedsubject24_preprocessedsubject24_preprocessedsubject24_preprocessedsubject24_preprocessedsubject24_preprocessedsubject24_preprocessedsubject24_preprocessedsubject24_preprocessedsubject24_preprocessedsubject24_preprocessedsubject24_preprocessedsubject24_preprocessedsubject24_preprocessedsubject24_preprocessedsubject24_preprocessedsubject24_preprocessedsubject24_preprocessedsubject24_preprocessedsubject24_preprocessedsubject24_preprocessedsubject26_preprocessedsubject26_preprocessedsubject26_preprocessedsubject26_preprocessedsubject26_preprocessedsubject26_preprocessedsubject26_preprocessedsubject26_preprocessedsubject26_preprocessedsubject27_preprocessedsubject27_preprocessedsubject27_preprocessedsubject27_preprocessedsubject27_preprocessedsubject27_preprocessedsubject27_preprocessedsubject27_preprocessedsubject27_preprocessedsubject27_preprocessedsubject27_preprocessedsubject27_preprocessedsubject27_preprocessedsubject27_preprocessedsubject27_preprocessedsubject27_preprocessedsubject27_preprocessedsubject27_preprocessedsubject27_preprocessedsubject27_preprocessedsubject27_preprocessedsubject27_preprocessedsubject27_preprocessedsubject27_preprocessedsubject27_preprocessedsubject28_preprocessedsubject28_preprocessedsubject28_preprocessedsubject28_preprocessedsubject28_preprocessedsubject28_preprocessedsubject28_preprocessedsubject28_preprocessedsubject28_preprocessedsubject28_preprocessedsubject28_preprocessedsubject28_preprocessedsubject28_preprocessedsubject28_preprocessedsubject28_preprocessedsubject28_preprocessedsubject28_preprocessedsubject28_preprocessedsubject28_preprocessedsubject28_preprocessedsubject28_preprocessedsubject28_preprocessedsubject28_preprocessedsubject28_preprocessedsubject28_preprocessedsubject28_preprocessedsubject28_preprocessedsubject28_preprocessedsubject28_preprocessedsubject28_preprocessedsubject28_preprocessedsubject28_preprocessedsubject28_preprocessedsubject28_preprocessedsubject28_preprocessedsubject28_preprocessedsubject28_preprocessedsubject28_preprocessedsubject28_preprocessedsubject28_preprocessedsubject28_preprocessedsubject28_preprocessedsubject28_preprocessedsubject28_preprocessedsubject28_preprocessedsubject28_preprocessedsubject28_preprocessedsubject28_preprocessedsubject28_preprocessedsubject28_preprocessedsubject28_preprocessedsubject28_preprocessedsubject28_preprocessedsubject28_preprocessedsubject28_preprocessedsubject28_preprocessedsubject28_preprocessedsubject28_preprocessedsubject28_preprocessedsubject28_preprocessedsubject28_preprocessedsubject28_preprocessedsubject28_preprocessedsubject28_preprocessedsubject28_preprocessedsubject28_preprocessedsubject28_preprocessedsubject28_preprocessedsubject28_preprocessedsubject28_preprocessedsubject28_preprocessedsubject28_preprocessedsubject28_preprocessedsubject28_preprocessedsubject28_preprocessedsubject28_preprocessedsubject28_preprocessedsubject28_preprocessedsubject28_preprocessedsubject28_preprocessedsubject28_preprocessedsubject28_preprocessedsubject28_preprocessedsubject28_preprocessedsubject28_preprocessedsubject28_preprocessedsubject28_preprocessedsubject28_preprocessedsubject28_preprocessedsubject28_preprocessedsubject28_preprocessedsubject28_preprocessedsubject28_preprocessedsubject28_preprocessedsubject28_preprocessedsubject28_preprocessedsubject28_preprocessedsubject28_preprocessedsubject28_preprocessedsubject28_preprocessedsubject28_preprocessedsubject28_preprocessedsubject28_preprocessedsubject28_preprocessedsubject29_preprocessedsubject29_preprocessedsubject29_preprocessedsubject29_preprocessedsubject29_preprocessedsubject29_preprocessedsubject29_preprocessedsubject29_preprocessedsubject29_preprocessedsubject29_preprocessedsubject29_preprocessedsubject29_preprocessedsubject29_preprocessedsubject29_preprocessedsubject29_preprocessedsubject29_preprocessedsubject29_preprocessedsubject29_preprocessedsubject29_preprocessedsubject29_preprocessedsubject29_preprocessedsubject29_preprocessedsubject29_preprocessedsubject29_preprocessedsubject29_preprocessedsubject29_preprocessedsubject29_preprocessedsubject29_preprocessedsubject29_preprocessedsubject29_preprocessedsubject29_preprocessedsubject29_preprocessedsubject29_preprocessedsubject29_preprocessedsubject29_preprocessedsubject29_preprocessedsubject29_preprocessedsubject29_preprocessedsubject29_preprocessedsubject29_preprocessedsubject29_preprocessedsubject29_preprocessedsubject29_preprocessedsubject29_preprocessedsubject29_preprocessedsubject29_preprocessedsubject29_preprocessedsubject29_preprocessedsubject29_preprocessedsubject29_preprocessedsubject29_preprocessedsubject29_preprocessedsubject29_preprocessedsubject29_preprocessedsubject29_preprocessedsubject29_preprocessedsubject29_preprocessedsubject29_preprocessedsubject29_preprocessedsubject29_preprocessedsubject29_preprocessedsubject29_preprocessedsubject29_preprocessedsubject29_preprocessedsubject29_preprocessedsubject29_preprocessedsubject29_preprocessedsubject29_preprocessedsubject29_preprocessedsubject29_preprocessedsubject29_preprocessedsubject29_preprocessedsubject29_preprocessedsubject29_preprocessedsubject29_preprocessedsubject29_preprocessedsubject29_preprocessedsubject29_preprocessedsubject29_preprocessedsubject29_preprocessedsubject29_preprocessedsubject29_preprocessedsubject29_preprocessedsubject29_preprocessedsubject29_preprocessedsubject29_preprocessedsubject29_preprocessedsubject29_preprocessedsubject29_preprocessedsubject29_preprocessedsubject29_preprocessedsubject29_preprocessedsubject29_preprocessedsubject29_preprocessedsubject29_preprocessedsubject29_preprocessedsubject29_preprocessedsubject29_preprocessedsubject29_preprocessedsubject29_preprocessedsubject29_preprocessedsubject29_preprocessedsubject29_preprocessedsubject29_preprocessedsubject29_preprocessedsubject29_preprocessedsubject29_preprocessedsubject29_preprocessedsubject29_preprocessedsubject29_preprocessedsubject29_preprocessedsubject29_preprocessedsubject29_preprocessedsubject29_preprocessedsubject29_preprocessedsubject29_preprocessedsubject29_preprocessedsubject29_preprocessedsubject29_preprocessedsubject29_preprocessedsubject29_preprocessedsubject29_preprocessedsubject29_preprocessedsubject29_preprocessedsubject29_preprocessedsubject29_preprocessedsubject29_preprocessedsubject29_preprocessedsubject29_preprocessedsubject29_preprocessedsubject29_preprocessedsubject29_preprocessedsubject29_preprocessedsubject29_preprocessedsubject29_preprocessedsubject29_preprocessedsubject29_preprocessedsubject29_preprocessedsubject29_preprocessedsubject29_preprocessedsubject29_preprocessedsubject29_preprocessedsubject29_preprocessedsubject29_preprocessedsubject29_preprocessedsubject29_preprocessedsubject29_preprocessedsubject29_preprocessedsubject29_preprocessedsubject29_preprocessedsubject29_preprocessedsubject29_preprocessedsubject29_preprocessedsubject29_preprocessedsubject29_preprocessedsubject29_preprocessedsubject29_preprocessedsubject29_preprocessedsubject2_preprocessedsubject2_preprocessedsubject2_preprocessedsubject2_preprocessedsubject2_preprocessedsubject2_preprocessedsubject2_preprocessedsubject2_preprocessedsubject2_preprocessedsubject2_preprocessedsubject2_preprocessedsubject2_preprocessedsubject2_preprocessedsubject2_preprocessedsubject2_preprocessedsubject2_preprocessedsubject2_preprocessedsubject2_preprocessedsubject2_preprocessedsubject2_preprocessedsubject2_preprocessedsubject2_preprocessedsubject2_preprocessedsubject2_preprocessedsubject2_preprocessedsubject2_preprocessedsubject2_preprocessedsubject2_preprocessedsubject2_preprocessedsubject2_preprocessedsubject2_preprocessedsubject2_preprocessedsubject2_preprocessedsubject2_preprocessedsubject2_preprocessedsubject2_preprocessedsubject2_preprocessedsubject2_preprocessedsubject2_preprocessedsubject2_preprocessedsubject2_preprocessedsubject2_preprocessedsubject2_preprocessedsubject2_preprocessedsubject2_preprocessedsubject2_preprocessedsubject2_preprocessedsubject2_preprocessedsubject2_preprocessedsubject2_preprocessedsubject2_preprocessedsubject2_preprocessedsubject2_preprocessedsubject2_preprocessedsubject2_preprocessedsubject2_preprocessedsubject2_preprocessedsubject2_preprocessedsubject2_preprocessedsubject2_preprocessedsubject2_preprocessedsubject2_preprocessedsubject2_preprocessedsubject2_preprocessedsubject2_preprocessedsubject2_preprocessedsubject2_preprocessedsubject2_preprocessedsubject2_preprocessedsubject2_preprocessedsubject2_preprocessedsubject2_preprocessedsubject2_preprocessedsubject2_preprocessedsubject2_preprocessedsubject2_preprocessedsubject2_preprocessedsubject2_preprocessedsubject2_preprocessedsubject30_preprocessedsubject30_preprocessedsubject30_preprocessedsubject30_preprocessedsubject30_preprocessedsubject30_preprocessedsubject30_preprocessedsubject30_preprocessedsubject30_preprocessedsubject30_preprocessedsubject30_preprocessedsubject30_preprocessedsubject30_preprocessedsubject30_preprocessedsubject30_preprocessedsubject30_preprocessedsubject30_preprocessedsubject30_preprocessedsubject30_preprocessedsubject30_preprocessedsubject30_preprocessedsubject30_preprocessedsubject30_preprocessedsubject30_preprocessedsubject30_preprocessedsubject30_preprocessedsubject30_preprocessedsubject30_preprocessedsubject30_preprocessedsubject30_preprocessedsubject30_preprocessedsubject30_preprocessedsubject30_preprocessedsubject30_preprocessedsubject30_preprocessedsubject30_preprocessedsubject30_preprocessedsubject30_preprocessedsubject30_preprocessedsubject30_preprocessedsubject30_preprocessedsubject30_preprocessedsubject30_preprocessedsubject30_preprocessedsubject30_preprocessedsubject30_preprocessedsubject30_preprocessedsubject30_preprocessedsubject30_preprocessedsubject30_preprocessedsubject30_preprocessedsubject30_preprocessedsubject30_preprocessedsubject30_preprocessedsubject30_preprocessedsubject30_preprocessedsubject30_preprocessedsubject30_preprocessedsubject30_preprocessedsubject30_preprocessedsubject30_preprocessedsubject30_preprocessedsubject31_preprocessedsubject31_preprocessedsubject31_preprocessedsubject31_preprocessedsubject31_preprocessedsubject31_preprocessedsubject31_preprocessedsubject31_preprocessedsubject31_preprocessedsubject31_preprocessedsubject31_preprocessedsubject31_preprocessedsubject31_preprocessedsubject31_preprocessedsubject31_preprocessedsubject31_preprocessedsubject31_preprocessedsubject31_preprocessedsubject31_preprocessedsubject31_preprocessedsubject31_preprocessedsubject31_preprocessedsubject31_preprocessedsubject31_preprocessedsubject31_preprocessedsubject31_preprocessedsubject31_preprocessedsubject31_preprocessedsubject31_preprocessedsubject31_preprocessedsubject31_preprocessedsubject31_preprocessedsubject31_preprocessedsubject31_preprocessedsubject31_preprocessedsubject31_preprocessedsubject31_preprocessedsubject31_preprocessedsubject31_preprocessedsubject31_preprocessedsubject31_preprocessedsubject31_preprocessedsubject31_preprocessedsubject31_preprocessedsubject31_preprocessedsubject31_preprocessedsubject31_preprocessedsubject31_preprocessedsubject31_preprocessedsubject31_preprocessedsubject31_preprocessedsubject31_preprocessedsubject31_preprocessedsubject31_preprocessedsubject31_preprocessedsubject31_preprocessedsubject31_preprocessedsubject31_preprocessedsubject31_preprocessedsubject31_preprocessedsubject31_preprocessedsubject31_preprocessedsubject31_preprocessedsubject31_preprocessedsubject31_preprocessedsubject31_preprocessedsubject31_preprocessedsubject31_preprocessedsubject31_preprocessedsubject31_preprocessedsubject31_preprocessedsubject31_preprocessedsubject31_preprocessedsubject31_preprocessedsubject31_preprocessedsubject31_preprocessedsubject31_preprocessedsubject31_preprocessedsubject31_preprocessedsubject31_preprocessedsubject31_preprocessedsubject31_preprocessedsubject31_preprocessedsubject31_preprocessedsubject31_preprocessedsubject31_preprocessedsubject31_preprocessedsubject31_preprocessedsubject31_preprocessedsubject31_preprocessedsubject31_preprocessedsubject31_preprocessedsubject31_preprocessedsubject31_preprocessedsubject31_preprocessedsubject31_preprocessedsubject31_preprocessedsubject31_preprocessedsubject31_preprocessedsubject31_preprocessedsubject31_preprocessedsubject31_preprocessedsubject31_preprocessedsubject31_preprocessedsubject31_preprocessedsubject31_preprocessedsubject31_preprocessedsubject31_preprocessedsubject31_preprocessedsubject31_preprocessedsubject31_preprocessedsubject31_preprocessedsubject31_preprocessedsubject31_preprocessedsubject31_preprocessedsubject31_preprocessedsubject31_preprocessedsubject31_preprocessedsubject31_preprocessedsubject31_preprocessedsubject31_preprocessedsubject31_preprocessedsubject31_preprocessedsubject31_preprocessedsubject31_preprocessedsubject31_preprocessedsubject31_preprocessedsubject31_preprocessedsubject31_preprocessedsubject31_preprocessedsubject31_preprocessedsubject31_preprocessedsubject31_preprocessedsubject31_preprocessedsubject31_preprocessedsubject31_preprocessedsubject31_preprocessedsubject31_preprocessedsubject31_preprocessedsubject31_preprocessedsubject31_preprocessedsubject31_preprocessedsubject31_preprocessedsubject31_preprocessedsubject31_preprocessedsubject31_preprocessedsubject31_preprocessedsubject31_preprocessedsubject32_preprocessedsubject32_preprocessedsubject32_preprocessedsubject32_preprocessedsubject32_preprocessedsubject32_preprocessedsubject32_preprocessedsubject32_preprocessedsubject32_preprocessedsubject32_preprocessedsubject32_preprocessedsubject32_preprocessedsubject32_preprocessedsubject32_preprocessedsubject32_preprocessedsubject32_preprocessedsubject32_preprocessedsubject32_preprocessedsubject32_preprocessedsubject32_preprocessedsubject32_preprocessedsubject32_preprocessedsubject32_preprocessedsubject32_preprocessedsubject32_preprocessedsubject32_preprocessedsubject32_preprocessedsubject32_preprocessedsubject32_preprocessedsubject32_preprocessedsubject32_preprocessedsubject32_preprocessedsubject32_preprocessedsubject32_preprocessedsubject32_preprocessedsubject32_preprocessedsubject32_preprocessedsubject32_preprocessedsubject32_preprocessedsubject32_preprocessedsubject32_preprocessedsubject32_preprocessedsubject32_preprocessedsubject32_preprocessedsubject32_preprocessedsubject32_preprocessedsubject32_preprocessedsubject32_preprocessedsubject32_preprocessedsubject32_preprocessedsubject32_preprocessedsubject32_preprocessedsubject32_preprocessedsubject32_preprocessedsubject32_preprocessedsubject32_preprocessedsubject32_preprocessedsubject32_preprocessedsubject32_preprocessedsubject32_preprocessedsubject32_preprocessedsubject32_preprocessedsubject32_preprocessedsubject32_preprocessedsubject32_preprocessedsubject32_preprocessedsubject32_preprocessedsubject32_preprocessedsubject32_preprocessedsubject32_preprocessedsubject32_preprocessedsubject32_preprocessedsubject32_preprocessedsubject32_preprocessedsubject32_preprocessedsubject32_preprocessedsubject32_preprocessedsubject32_preprocessedsubject32_preprocessedsubject32_preprocessedsubject32_preprocessedsubject32_preprocessedsubject32_preprocessedsubject32_preprocessedsubject32_preprocessedsubject32_preprocessedsubject32_preprocessedsubject32_preprocessedsubject32_preprocessedsubject32_preprocessedsubject32_preprocessedsubject32_preprocessedsubject32_preprocessedsubject32_preprocessedsubject32_preprocessedsubject32_preprocessedsubject32_preprocessedsubject32_preprocessedsubject32_preprocessedsubject32_preprocessedsubject32_preprocessedsubject32_preprocessedsubject32_preprocessedsubject32_preprocessedsubject32_preprocessedsubject32_preprocessedsubject32_preprocessedsubject32_preprocessedsubject32_preprocessedsubject32_preprocessedsubject32_preprocessedsubject32_preprocessedsubject32_preprocessedsubject32_preprocessedsubject32_preprocessedsubject32_preprocessedsubject32_preprocessedsubject32_preprocessedsubject33_preprocessedsubject33_preprocessedsubject33_preprocessedsubject33_preprocessedsubject33_preprocessedsubject33_preprocessedsubject33_preprocessedsubject33_preprocessedsubject33_preprocessedsubject33_preprocessedsubject33_preprocessedsubject33_preprocessedsubject33_preprocessedsubject33_preprocessedsubject33_preprocessedsubject33_preprocessedsubject33_preprocessedsubject33_preprocessedsubject33_preprocessedsubject33_preprocessedsubject33_preprocessedsubject33_preprocessedsubject33_preprocessedsubject33_preprocessedsubject33_preprocessedsubject33_preprocessedsubject33_preprocessedsubject33_preprocessedsubject33_preprocessedsubject33_preprocessedsubject33_preprocessedsubject33_preprocessedsubject33_preprocessedsubject33_preprocessedsubject33_preprocessedsubject33_preprocessedsubject33_preprocessedsubject33_preprocessedsubject33_preprocessedsubject33_preprocessedsubject33_preprocessedsubject33_preprocessedsubject33_preprocessedsubject33_preprocessedsubject33_preprocessedsubject33_preprocessedsubject33_preprocessedsubject33_preprocessedsubject33_preprocessedsubject33_preprocessedsubject33_preprocessedsubject33_preprocessedsubject33_preprocessedsubject33_preprocessedsubject33_preprocessedsubject33_preprocessedsubject33_preprocessedsubject33_preprocessedsubject33_preprocessedsubject33_preprocessedsubject33_preprocessedsubject33_preprocessedsubject33_preprocessedsubject34_preprocessedsubject34_preprocessedsubject34_preprocessedsubject34_preprocessedsubject34_preprocessedsubject34_preprocessedsubject34_preprocessedsubject34_preprocessedsubject34_preprocessedsubject34_preprocessedsubject34_preprocessedsubject34_preprocessedsubject34_preprocessedsubject34_preprocessedsubject34_preprocessedsubject34_preprocessedsubject34_preprocessedsubject34_preprocessedsubject34_preprocessedsubject34_preprocessedsubject34_preprocessedsubject34_preprocessedsubject34_preprocessedsubject34_preprocessedsubject34_preprocessedsubject34_preprocessedsubject34_preprocessedsubject34_preprocessedsubject34_preprocessedsubject34_preprocessedsubject34_preprocessedsubject34_preprocessedsubject34_preprocessedsubject34_preprocessedsubject34_preprocessedsubject34_preprocessedsubject34_preprocessedsubject34_preprocessedsubject34_preprocessedsubject34_preprocessedsubject34_preprocessedsubject34_preprocessedsubject34_preprocessedsubject34_preprocessedsubject34_preprocessedsubject34_preprocessedsubject34_preprocessedsubject34_preprocessedsubject34_preprocessedsubject34_preprocessedsubject34_preprocessedsubject34_preprocessedsubject34_preprocessedsubject34_preprocessedsubject34_preprocessedsubject34_preprocessedsubject34_preprocessedsubject34_preprocessedsubject34_preprocessedsubject34_preprocessedsubject34_preprocessedsubject34_preprocessedsubject34_preprocessedsubject34_preprocessedsubject34_preprocessedsubject34_preprocessedsubject34_preprocessedsubject34_preprocessedsubject34_preprocessedsubject34_preprocessedsubject34_preprocessedsubject34_preprocessedsubject34_preprocessedsubject34_preprocessedsubject34_preprocessedsubject34_preprocessedsubject34_preprocessedsubject34_preprocessedsubject34_preprocessedsubject34_preprocessedsubject34_preprocessedsubject34_preprocessedsubject34_preprocessedsubject34_preprocessedsubject34_preprocessedsubject34_preprocessedsubject34_preprocessedsubject34_preprocessedsubject34_preprocessedsubject34_preprocessedsubject34_preprocessedsubject34_preprocessedsubject34_preprocessedsubject34_preprocessedsubject34_preprocessedsubject34_preprocessedsubject35_preprocessedsubject35_preprocessedsubject35_preprocessedsubject35_preprocessedsubject35_preprocessedsubject35_preprocessedsubject35_preprocessedsubject35_preprocessedsubject35_preprocessedsubject35_preprocessedsubject35_preprocessedsubject35_preprocessedsubject35_preprocessedsubject35_preprocessedsubject35_preprocessedsubject35_preprocessedsubject35_preprocessedsubject35_preprocessedsubject35_preprocessedsubject35_preprocessedsubject35_preprocessedsubject35_preprocessedsubject35_preprocessedsubject35_preprocessedsubject35_preprocessedsubject35_preprocessedsubject35_preprocessedsubject35_preprocessedsubject35_preprocessedsubject35_preprocessedsubject35_preprocessedsubject35_preprocessedsubject35_preprocessedsubject35_preprocessedsubject35_preprocessedsubject35_preprocessedsubject35_preprocessedsubject35_preprocessedsubject35_preprocessedsubject35_preprocessedsubject35_preprocessedsubject35_preprocessedsubject35_preprocessedsubject35_preprocessedsubject35_preprocessedsubject35_preprocessedsubject35_preprocessedsubject35_preprocessedsubject35_preprocessedsubject35_preprocessedsubject35_preprocessedsubject35_preprocessedsubject36_preprocessedsubject36_preprocessedsubject36_preprocessedsubject36_preprocessedsubject36_preprocessedsubject36_preprocessedsubject36_preprocessedsubject36_preprocessedsubject36_preprocessedsubject36_preprocessedsubject36_preprocessedsubject36_preprocessedsubject36_preprocessedsubject36_preprocessedsubject36_preprocessedsubject36_preprocessedsubject36_preprocessedsubject36_preprocessedsubject36_preprocessedsubject36_preprocessedsubject36_preprocessedsubject36_preprocessedsubject36_preprocessedsubject36_preprocessedsubject36_preprocessedsubject36_preprocessedsubject36_preprocessedsubject36_preprocessedsubject36_preprocessedsubject36_preprocessedsubject36_preprocessedsubject36_preprocessedsubject36_preprocessedsubject36_preprocessedsubject36_preprocessedsubject36_preprocessedsubject36_preprocessedsubject36_preprocessedsubject36_preprocessedsubject36_preprocessedsubject36_preprocessedsubject36_preprocessedsubject36_preprocessedsubject36_preprocessedsubject36_preprocessedsubject36_preprocessedsubject36_preprocessedsubject36_preprocessedsubject36_preprocessedsubject36_preprocessedsubject36_preprocessedsubject36_preprocessedsubject36_preprocessedsubject36_preprocessedsubject36_preprocessedsubject36_preprocessedsubject36_preprocessedsubject36_preprocessedsubject36_preprocessedsubject36_preprocessedsubject36_preprocessedsubject36_preprocessedsubject36_preprocessedsubject36_preprocessedsubject36_preprocessedsubject36_preprocessedsubject36_preprocessedsubject36_preprocessedsubject37_preprocessedsubject37_preprocessedsubject37_preprocessedsubject37_preprocessedsubject37_preprocessedsubject37_preprocessedsubject37_preprocessedsubject37_preprocessedsubject37_preprocessedsubject37_preprocessedsubject37_preprocessedsubject38_preprocessedsubject38_preprocessedsubject38_preprocessedsubject38_preprocessedsubject38_preprocessedsubject38_preprocessedsubject38_preprocessedsubject38_preprocessedsubject38_preprocessedsubject38_preprocessedsubject38_preprocessedsubject38_preprocessedsubject38_preprocessedsubject38_preprocessedsubject38_preprocessedsubject38_preprocessedsubject38_preprocessedsubject38_preprocessedsubject38_preprocessedsubject38_preprocessedsubject38_preprocessedsubject38_preprocessedsubject38_preprocessedsubject38_preprocessedsubject38_preprocessedsubject38_preprocessedsubject38_preprocessedsubject38_preprocessedsubject38_preprocessedsubject38_preprocessedsubject38_preprocessedsubject38_preprocessedsubject38_preprocessedsubject38_preprocessedsubject38_preprocessedsubject38_preprocessedsubject38_preprocessedsubject38_preprocessedsubject38_preprocessedsubject38_preprocessedsubject38_preprocessedsubject38_preprocessedsubject38_preprocessedsubject38_preprocessedsubject38_preprocessedsubject38_preprocessedsubject38_preprocessedsubject38_preprocessedsubject38_preprocessedsubject38_preprocessedsubject38_preprocessedsubject38_preprocessedsubject38_preprocessedsubject38_preprocessedsubject38_preprocessedsubject38_preprocessedsubject38_preprocessedsubject38_preprocessedsubject38_preprocessedsubject38_preprocessedsubject38_preprocessedsubject38_preprocessedsubject38_preprocessedsubject38_preprocessedsubject38_preprocessedsubject38_preprocessedsubject38_preprocessedsubject38_preprocessedsubject38_preprocessedsubject38_preprocessedsubject38_preprocessedsubject38_preprocessedsubject38_preprocessedsubject38_preprocessedsubject38_preprocessedsubject38_preprocessedsubject38_preprocessedsubject38_preprocessedsubject38_preprocessedsubject38_preprocessedsubject38_preprocessedsubject38_preprocessedsubject38_preprocessedsubject38_preprocessedsubject38_preprocessedsubject38_preprocessedsubject38_preprocessedsubject38_preprocessedsubject38_preprocessedsubject38_preprocessedsubject38_preprocessedsubject38_preprocessedsubject38_preprocessedsubject38_preprocessedsubject38_preprocessedsubject38_preprocessedsubject39_preprocessedsubject39_preprocessedsubject39_preprocessedsubject39_preprocessedsubject39_preprocessedsubject39_preprocessedsubject39_preprocessedsubject39_preprocessedsubject39_preprocessedsubject39_preprocessedsubject39_preprocessedsubject39_preprocessedsubject39_preprocessedsubject39_preprocessedsubject39_preprocessedsubject39_preprocessedsubject39_preprocessedsubject39_preprocessedsubject39_preprocessedsubject39_preprocessedsubject39_preprocessedsubject39_preprocessedsubject39_preprocessedsubject39_preprocessedsubject39_preprocessedsubject39_preprocessedsubject39_preprocessedsubject39_preprocessedsubject39_preprocessedsubject39_preprocessedsubject39_preprocessedsubject39_preprocessedsubject39_preprocessedsubject39_preprocessedsubject39_preprocessedsubject39_preprocessedsubject39_preprocessedsubject39_preprocessedsubject39_preprocessedsubject39_preprocessedsubject39_preprocessedsubject39_preprocessedsubject39_preprocessedsubject39_preprocessedsubject39_preprocessedsubject39_preprocessedsubject39_preprocessedsubject39_preprocessedsubject39_preprocessedsubject39_preprocessedsubject39_preprocessedsubject39_preprocessedsubject39_preprocessedsubject39_preprocessedsubject39_preprocessedsubject39_preprocessedsubject39_preprocessedsubject39_preprocessedsubject39_preprocessedsubject39_preprocessedsubject39_preprocessedsubject39_preprocessedsubject39_preprocessedsubject39_preprocessedsubject39_preprocessedsubject39_preprocessedsubject39_preprocessedsubject39_preprocessedsubject39_preprocessedsubject39_preprocessedsubject39_preprocessedsubject39_preprocessedsubject39_preprocessedsubject39_preprocessedsubject39_preprocessedsubject39_preprocessedsubject39_preprocessedsubject39_preprocessedsubject39_preprocessedsubject39_preprocessedsubject39_preprocessedsubject39_preprocessedsubject39_preprocessedsubject39_preprocessedsubject39_preprocessedsubject39_preprocessedsubject39_preprocessedsubject39_preprocessedsubject39_preprocessedsubject39_preprocessedsubject39_preprocessedsubject39_preprocessedsubject39_preprocessedsubject39_preprocessedsubject39_preprocessedsubject39_preprocessedsubject39_preprocessedsubject39_preprocessedsubject39_preprocessedsubject3_preprocessedsubject3_preprocessedsubject3_preprocessedsubject3_preprocessedsubject3_preprocessedsubject3_preprocessedsubject3_preprocessedsubject3_preprocessedsubject3_preprocessedsubject3_preprocessedsubject3_preprocessedsubject3_preprocessedsubject3_preprocessedsubject3_preprocessedsubject3_preprocessedsubject3_preprocessedsubject3_preprocessedsubject3_preprocessedsubject3_preprocessedsubject3_preprocessedsubject3_preprocessedsubject3_preprocessedsubject3_preprocessedsubject3_preprocessedsubject3_preprocessedsubject3_preprocessedsubject3_preprocessedsubject3_preprocessedsubject3_preprocessedsubject3_preprocessedsubject3_preprocessedsubject3_preprocessedsubject3_preprocessedsubject3_preprocessedsubject3_preprocessedsubject3_preprocessedsubject3_preprocessedsubject3_preprocessedsubject3_preprocessedsubject3_preprocessedsubject3_preprocessedsubject3_preprocessedsubject3_preprocessedsubject3_preprocessedsubject3_preprocessedsubject3_preprocessedsubject3_preprocessedsubject3_preprocessedsubject3_preprocessedsubject3_preprocessedsubject3_preprocessedsubject3_preprocessedsubject3_preprocessedsubject3_preprocessedsubject3_preprocessedsubject3_preprocessedsubject3_preprocessedsubject3_preprocessedsubject3_preprocessedsubject3_preprocessedsubject3_preprocessedsubject3_preprocessedsubject3_preprocessedsubject3_preprocessedsubject3_preprocessedsubject3_preprocessedsubject3_preprocessedsubject3_preprocessedsubject3_preprocessedsubject3_preprocessedsubject3_preprocessedsubject3_preprocessedsubject3_preprocessedsubject3_preprocessedsubject3_preprocessedsubject3_preprocessedsubject3_preprocessedsubject3_preprocessedsubject3_preprocessedsubject3_preprocessedsubject3_preprocessedsubject3_preprocessedsubject3_preprocessedsubject3_preprocessedsubject3_preprocessedsubject3_preprocessedsubject3_preprocessedsubject3_preprocessedsubject3_preprocessedsubject3_preprocessedsubject3_preprocessedsubject3_preprocessedsubject3_preprocessedsubject3_preprocessedsubject3_preprocessedsubject3_preprocessedsubject3_preprocessedsubject3_preprocessedsubject3_preprocessedsubject3_preprocessedsubject3_preprocessedsubject3_preprocessedsubject3_preprocessedsubject3_preprocessedsubject3_preprocessedsubject3_preprocessedsubject3_preprocessedsubject3_preprocessedsubject3_preprocessedsubject3_preprocessedsubject3_preprocessedsubject40_preprocessedsubject40_preprocessedsubject40_preprocessedsubject40_preprocessedsubject40_preprocessedsubject40_preprocessedsubject40_preprocessedsubject40_preprocessedsubject40_preprocessedsubject40_preprocessedsubject40_preprocessedsubject40_preprocessedsubject40_preprocessedsubject40_preprocessedsubject40_preprocessedsubject40_preprocessedsubject40_preprocessedsubject40_preprocessedsubject40_preprocessedsubject40_preprocessedsubject40_preprocessedsubject40_preprocessedsubject40_preprocessedsubject40_preprocessedsubject40_preprocessedsubject40_preprocessedsubject40_preprocessedsubject40_preprocessedsubject40_preprocessedsubject40_preprocessedsubject40_preprocessedsubject40_preprocessedsubject40_preprocessedsubject40_preprocessedsubject40_preprocessedsubject40_preprocessedsubject40_preprocessedsubject40_preprocessedsubject41_preprocessedsubject41_preprocessedsubject41_preprocessedsubject41_preprocessedsubject41_preprocessedsubject41_preprocessedsubject41_preprocessedsubject41_preprocessedsubject41_preprocessedsubject41_preprocessedsubject41_preprocessedsubject41_preprocessedsubject41_preprocessedsubject41_preprocessedsubject41_preprocessedsubject41_preprocessedsubject41_preprocessedsubject41_preprocessedsubject41_preprocessedsubject41_preprocessedsubject41_preprocessedsubject41_preprocessedsubject41_preprocessedsubject41_preprocessedsubject41_preprocessedsubject41_preprocessedsubject41_preprocessedsubject41_preprocessedsubject41_preprocessedsubject41_preprocessedsubject41_preprocessedsubject41_preprocessedsubject41_preprocessedsubject41_preprocessedsubject41_preprocessedsubject41_preprocessedsubject42_preprocessedsubject42_preprocessedsubject42_preprocessedsubject42_preprocessedsubject42_preprocessedsubject42_preprocessedsubject42_preprocessedsubject42_preprocessedsubject42_preprocessedsubject42_preprocessedsubject42_preprocessedsubject42_preprocessedsubject42_preprocessedsubject42_preprocessedsubject42_preprocessedsubject42_preprocessedsubject42_preprocessedsubject42_preprocessedsubject42_preprocessedsubject42_preprocessedsubject43_preprocessedsubject43_preprocessedsubject43_preprocessedsubject43_preprocessedsubject43_preprocessedsubject43_preprocessedsubject43_preprocessedsubject43_preprocessedsubject43_preprocessedsubject43_preprocessedsubject43_preprocessedsubject43_preprocessedsubject43_preprocessedsubject43_preprocessedsubject43_preprocessedsubject43_preprocessedsubject43_preprocessedsubject43_preprocessedsubject43_preprocessedsubject43_preprocessedsubject44_preprocessedsubject44_preprocessedsubject44_preprocessedsubject44_preprocessedsubject44_preprocessedsubject44_preprocessedsubject44_preprocessedsubject44_preprocessedsubject44_preprocessedsubject44_preprocessedsubject44_preprocessedsubject44_preprocessedsubject44_preprocessedsubject44_preprocessedsubject44_preprocessedsubject44_preprocessedsubject44_preprocessedsubject44_preprocessedsubject45_preprocessedsubject45_preprocessedsubject45_preprocessedsubject45_preprocessedsubject45_preprocessedsubject45_preprocessedsubject45_preprocessedsubject45_preprocessedsubject45_preprocessedsubject45_preprocessedsubject45_preprocessedsubject45_preprocessedsubject45_preprocessedsubject45_preprocessedsubject45_preprocessedsubject45_preprocessedsubject45_preprocessedsubject45_preprocessedsubject45_preprocessedsubject45_preprocessedsubject45_preprocessedsubject45_preprocessedsubject45_preprocessedsubject45_preprocessedsubject45_preprocessedsubject45_preprocessedsubject45_preprocessedsubject45_preprocessedsubject45_preprocessedsubject45_preprocessedsubject45_preprocessedsubject45_preprocessedsubject45_preprocessedsubject45_preprocessedsubject45_preprocessedsubject45_preprocessedsubject45_preprocessedsubject45_preprocessedsubject45_preprocessedsubject45_preprocessedsubject45_preprocessedsubject45_preprocessedsubject45_preprocessedsubject45_preprocessedsubject45_preprocessedsubject45_preprocessedsubject45_preprocessedsubject45_preprocessedsubject45_preprocessedsubject45_preprocessedsubject45_preprocessedsubject45_preprocessedsubject45_preprocessedsubject45_preprocessedsubject45_preprocessedsubject45_preprocessedsubject45_preprocessedsubject45_preprocessedsubject45_preprocessedsubject45_preprocessedsubject45_preprocessedsubject45_preprocessedsubject45_preprocessedsubject45_preprocessedsubject45_preprocessedsubject45_preprocessedsubject45_preprocessedsubject45_preprocessedsubject45_preprocessedsubject45_preprocessedsubject45_preprocessedsubject45_preprocessedsubject45_preprocessedsubject45_preprocessedsubject45_preprocessedsubject45_preprocessedsubject45_preprocessedsubject45_preprocessedsubject45_preprocessedsubject46_preprocessedsubject46_preprocessedsubject46_preprocessedsubject46_preprocessedsubject46_preprocessedsubject46_preprocessedsubject46_preprocessedsubject46_preprocessedsubject46_preprocessedsubject46_preprocessedsubject46_preprocessedsubject46_preprocessedsubject46_preprocessedsubject46_preprocessedsubject46_preprocessedsubject46_preprocessedsubject46_preprocessedsubject46_preprocessedsubject47_preprocessedsubject47_preprocessedsubject47_preprocessedsubject47_preprocessedsubject47_preprocessedsubject47_preprocessedsubject47_preprocessedsubject47_preprocessedsubject47_preprocessedsubject47_preprocessedsubject47_preprocessedsubject47_preprocessedsubject47_preprocessedsubject47_preprocessedsubject47_preprocessedsubject47_preprocessedsubject47_preprocessedsubject48_preprocessedsubject48_preprocessedsubject48_preprocessedsubject48_preprocessedsubject48_preprocessedsubject48_preprocessedsubject48_preprocessedsubject48_preprocessedsubject48_preprocessedsubject48_preprocessedsubject48_preprocessedsubject48_preprocessedsubject48_preprocessedsubject48_preprocessedsubject48_preprocessedsubject48_preprocessedsubject48_preprocessedsubject48_preprocessedsubject48_preprocessedsubject48_preprocessedsubject48_preprocessedsubject48_preprocessedsubject48_preprocessedsubject48_preprocessedsubject48_preprocessedsubject48_preprocessedsubject48_preprocessedsubject48_preprocessedsubject48_preprocessedsubject48_preprocessedsubject48_preprocessedsubject48_preprocessedsubject48_preprocessedsubject48_preprocessedsubject48_preprocessedsubject49_preprocessedsubject49_preprocessedsubject49_preprocessedsubject49_preprocessedsubject49_preprocessedsubject49_preprocessedsubject49_preprocessedsubject49_preprocessedsubject49_preprocessedsubject4_preprocessedsubject4_preprocessedsubject4_preprocessedsubject4_preprocessedsubject4_preprocessedsubject4_preprocessedsubject4_preprocessedsubject4_preprocessedsubject4_preprocessedsubject4_preprocessedsubject4_preprocessedsubject4_preprocessedsubject4_preprocessedsubject4_preprocessedsubject4_preprocessedsubject4_preprocessedsubject4_preprocessedsubject4_preprocessedsubject4_preprocessedsubject4_preprocessedsubject4_preprocessedsubject4_preprocessedsubject4_preprocessedsubject4_preprocessedsubject4_preprocessedsubject4_preprocessedsubject4_preprocessedsubject4_preprocessedsubject4_preprocessedsubject4_preprocessedsubject4_preprocessedsubject4_preprocessedsubject4_preprocessedsubject4_preprocessedsubject4_preprocessedsubject4_preprocessedsubject4_preprocessedsubject4_preprocessedsubject4_preprocessedsubject4_preprocessedsubject4_preprocessedsubject4_preprocessedsubject4_preprocessedsubject4_preprocessedsubject50_preprocessedsubject50_preprocessedsubject50_preprocessedsubject50_preprocessedsubject50_preprocessedsubject50_preprocessedsubject50_preprocessedsubject50_preprocessedsubject50_preprocessedsubject50_preprocessedsubject50_preprocessedsubject50_preprocessedsubject50_preprocessedsubject50_preprocessedsubject50_preprocessedsubject50_preprocessedsubject50_preprocessedsubject50_preprocessedsubject50_preprocessedsubject50_preprocessedsubject50_preprocessedsubject50_preprocessedsubject50_preprocessedsubject50_preprocessedsubject50_preprocessedsubject50_preprocessedsubject50_preprocessedsubject50_preprocessedsubject50_preprocessedsubject50_preprocessedsubject50_preprocessedsubject50_preprocessedsubject50_preprocessedsubject50_preprocessedsubject50_preprocessedsubject50_preprocessedsubject50_preprocessedsubject50_preprocessedsubject50_preprocessedsubject50_preprocessedsubject50_preprocessedsubject50_preprocessedsubject50_preprocessedsubject50_preprocessedsubject50_preprocessedsubject50_preprocessedsubject50_preprocessedsubject50_preprocessedsubject50_preprocessedsubject50_preprocessedsubject50_preprocessedsubject50_preprocessedsubject50_preprocessedsubject50_preprocessedsubject50_preprocessedsubject50_preprocessedsubject50_preprocessedsubject50_preprocessedsubject50_preprocessedsubject50_preprocessedsubject50_preprocessedsubject50_preprocessedsubject50_preprocessedsubject50_preprocessedsubject50_preprocessedsubject51_preprocessedsubject51_preprocessedsubject51_preprocessedsubject51_preprocessedsubject51_preprocessedsubject51_preprocessedsubject51_preprocessedsubject51_preprocessedsubject51_preprocessedsubject51_preprocessedsubject51_preprocessedsubject51_preprocessedsubject51_preprocessedsubject51_preprocessedsubject51_preprocessedsubject51_preprocessedsubject51_preprocessedsubject51_preprocessedsubject51_preprocessedsubject51_preprocessedsubject51_preprocessedsubject51_preprocessedsubject51_preprocessedsubject51_preprocessedsubject51_preprocessedsubject51_preprocessedsubject51_preprocessedsubject51_preprocessedsubject51_preprocessedsubject51_preprocessedsubject51_preprocessedsubject51_preprocessedsubject51_preprocessedsubject51_preprocessedsubject51_preprocessedsubject51_preprocessedsubject51_preprocessedsubject51_preprocessedsubject51_preprocessedsubject51_preprocessedsubject51_preprocessedsubject51_preprocessedsubject51_preprocessedsubject51_preprocessedsubject51_preprocessedsubject51_preprocessedsubject51_preprocessedsubject51_preprocessedsubject51_preprocessedsubject51_preprocessedsubject51_preprocessedsubject51_preprocessedsubject51_preprocessedsubject51_preprocessedsubject51_preprocessedsubject51_preprocessedsubject51_preprocessedsubject51_preprocessedsubject51_preprocessedsubject51_preprocessedsubject51_preprocessedsubject51_preprocessedsubject51_preprocessedsubject51_preprocessedsubject51_preprocessedsubject51_preprocessedsubject51_preprocessedsubject51_preprocessedsubject51_preprocessedsubject51_preprocessedsubject51_preprocessedsubject51_preprocessedsubject51_preprocessedsubject51_preprocessedsubject51_preprocessedsubject51_preprocessedsubject51_preprocessedsubject51_preprocessedsubject51_preprocessedsubject51_preprocessedsubject51_preprocessedsubject51_preprocessedsubject51_preprocessedsubject51_preprocessedsubject51_preprocessedsubject6_preprocessedsubject6_preprocessedsubject6_preprocessedsubject6_preprocessedsubject6_preprocessedsubject6_preprocessedsubject6_preprocessedsubject6_preprocessedsubject6_preprocessedsubject6_preprocessedsubject6_preprocessedsubject6_preprocessedsubject6_preprocessedsubject6_preprocessedsubject6_preprocessedsubject6_preprocessedsubject6_preprocessedsubject6_preprocessedsubject6_preprocessedsubject6_preprocessedsubject6_preprocessedsubject6_preprocessedsubject6_preprocessedsubject6_preprocessedsubject6_preprocessedsubject6_preprocessedsubject6_preprocessedsubject6_preprocessedsubject6_preprocessedsubject6_preprocessedsubject6_preprocessedsubject6_preprocessedsubject6_preprocessedsubject6_preprocessedsubject6_preprocessedsubject6_preprocessedsubject6_preprocessedsubject6_preprocessedsubject6_preprocessedsubject6_preprocessedsubject6_preprocessedsubject6_preprocessedsubject6_preprocessedsubject6_preprocessedsubject6_preprocessedsubject6_preprocessedsubject6_preprocessedsubject6_preprocessedsubject6_preprocessedsubject6_preprocessedsubject6_preprocessedsubject6_preprocessedsubject6_preprocessedsubject6_preprocessedsubject6_preprocessedsubject6_preprocessedsubject6_preprocessedsubject7_preprocessedsubject7_preprocessedsubject7_preprocessedsubject7_preprocessedsubject7_preprocessedsubject7_preprocessedsubject7_preprocessedsubject7_preprocessedsubject7_preprocessedsubject7_preprocessedsubject7_preprocessedsubject7_preprocessedsubject7_preprocessedsubject7_preprocessedsubject7_preprocessedsubject7_preprocessedsubject7_preprocessedsubject7_preprocessedsubject7_preprocessedsubject7_preprocessedsubject7_preprocessedsubject7_preprocessedsubject7_preprocessedsubject7_preprocessedsubject7_preprocessedsubject7_preprocessedsubject7_preprocessedsubject7_preprocessedsubject7_preprocessedsubject7_preprocessedsubject7_preprocessedsubject7_preprocessedsubject7_preprocessedsubject7_preprocessedsubject7_preprocessedsubject7_preprocessedsubject7_preprocessedsubject7_preprocessedsubject7_preprocessedsubject7_preprocessedsubject7_preprocessedsubject7_preprocessedsubject7_preprocessedsubject7_preprocessedsubject7_preprocessedsubject7_preprocessedsubject7_preprocessedsubject7_preprocessedsubject7_preprocessedsubject7_preprocessedsubject8_preprocessedsubject8_preprocessedsubject8_preprocessedsubject8_preprocessedsubject8_preprocessedsubject8_preprocessedsubject8_preprocessedsubject8_preprocessedsubject8_preprocessedsubject8_preprocessedsubject8_preprocessedsubject8_preprocessedsubject8_preprocessedsubject8_preprocessedsubject8_preprocessedsubject8_preprocessedsubject8_preprocessedsubject8_preprocessedsubject8_preprocessedsubject8_preprocessedsubject8_preprocessedsubject8_preprocessedsubject8_preprocessedsubject8_preprocessedsubject8_preprocessedsubject8_preprocessedsubject8_preprocessedsubject8_preprocessedsubject8_preprocessedsubject8_preprocessedsubject8_preprocessedsubject8_preprocessedsubject8_preprocessedsubject8_preprocessedsubject8_preprocessedsubject8_preprocessedsubject8_preprocessedsubject8_preprocessedsubject8_preprocessedsubject8_preprocessedsubject8_preprocessedsubject8_preprocessedsubject8_preprocessedsubject8_preprocessedsubject8_preprocessedsubject8_preprocessedsubject8_preprocessedsubject8_preprocessedsubject8_preprocessedsubject8_preprocessedsubject8_preprocessedsubject8_preprocessedsubject8_preprocessedsubject8_preprocessedsubject8_preprocessedsubject8_preprocessedsubject8_preprocessedsubject8_preprocessedsubject8_preprocessedsubject8_preprocessedsubject8_preprocessedsubject8_preprocessedsubject8_preprocessedsubject8_preprocessedsubject8_preprocessedsubject8_preprocessedsubject8_preprocessedsubject8_preprocessedsubject8_preprocessedsubject8_preprocessedsubject8_preprocessedsubject8_preprocessedsubject8_preprocessedsubject8_preprocessedsubject8_preprocessedsubject8_preprocessedsubject8_preprocessedsubject8_preprocessedsubject8_preprocessedsubject8_preprocessedsubject8_preprocessedsubject8_preprocessedsubject8_preprocessedsubject8_preprocessedsubject8_preprocessedsubject8_preprocessedsubject8_preprocessedsubject8_preprocessedsubject8_preprocessedsubject8_preprocessedsubject8_preprocessedsubject8_preprocessedsubject8_preprocessedsubject8_preprocessedsubject8_preprocessedsubject8_preprocessedsubject8_preprocessedsubject8_preprocessedsubject8_preprocessedsubject8_preprocessedsubject8_preprocessedsubject8_preprocessedsubject8_preprocessedsubject8_preprocessedsubject8_preprocessedsubject8_preprocessedsubject8_preprocessedsubject8_preprocessedsubject8_preprocessedsubject8_preprocessedsubject8_preprocessedsubject8_preprocessedsubject8_preprocessedsubject8_preprocessedsubject8_preprocessedsubject8_preprocessedsubject8_preprocessedsubject8_preprocessedsubject8_preprocessedsubject8_preprocessedsubject8_preprocessedsubject8_preprocessedsubject8_preprocessedsubject8_preprocessedsubject8_preprocessedsubject8_preprocessedsubject8_preprocessedsubject8_preprocessedsubject8_preprocessedsubject8_preprocessedsubject8_preprocessedsubject8_preprocessedsubject8_preprocessedsubject8_preprocessedsubject8_preprocessedsubject8_preprocessedsubject8_preprocessedsubject8_preprocessedsubject8_preprocessedsubject8_preprocessedsubject8_preprocessedsubject8_preprocessedsubject8_preprocessedsubject8_preprocessedsubject8_preprocessedsubject8_preprocessedsubject8_preprocessedsubject9_preprocessedsubject9_preprocessedsubject9_preprocessedsubject9_preprocessedsubject9_preprocessedsubject9_preprocessedsubject9_preprocessedsubject9_preprocessedsubject9_preprocessedsubject9_preprocessedsubject9_preprocessedsubject9_preprocessedsubject9_preprocessedsubject9_preprocessedsubject9_preprocessedsubject9_preprocessedsubject9_preprocessedsubject9_preprocessedsubject9_preprocessedsubject9_preprocessedsubject9_preprocessedsubject9_preprocessedsubject9_preprocessedsubject9_preprocessedsubject9_preprocessedsubject9_preprocessedsubject9_preprocessedsubject9_preprocessedsubject9_preprocessedsubject9_preprocessedsubject9_preprocessedsubject9_preprocessedsubject9_preprocessedsubject9_preprocessedsubject9_preprocessedsubject9_preprocessed' to numeric",
      "\nThe above exception was the direct cause of the following exception:\n",
      "\u001b[1;31mTypeError\u001b[0m                                 Traceback (most recent call last)",
      "Cell \u001b[1;32mIn[38], line 8\u001b[0m\n\u001b[0;32m      5\u001b[0m eeg_features_df \u001b[38;5;241m=\u001b[39m pd\u001b[38;5;241m.\u001b[39mread_csv(file_path)\n\u001b[0;32m      7\u001b[0m \u001b[38;5;66;03m# Group by 'Emotion' and calculate the mean for each feature\u001b[39;00m\n\u001b[1;32m----> 8\u001b[0m emotion_feature_means \u001b[38;5;241m=\u001b[39m eeg_features_df\u001b[38;5;241m.\u001b[39mgroupby(\u001b[38;5;124m'\u001b[39m\u001b[38;5;124mEmotion\u001b[39m\u001b[38;5;124m'\u001b[39m)\u001b[38;5;241m.\u001b[39mmean()\n\u001b[0;32m     10\u001b[0m \u001b[38;5;66;03m# Reset the index to make 'Emotion' a column\u001b[39;00m\n\u001b[0;32m     11\u001b[0m emotion_feature_means\u001b[38;5;241m.\u001b[39mreset_index(inplace\u001b[38;5;241m=\u001b[39m\u001b[38;5;28;01mTrue\u001b[39;00m)\n",
      "File \u001b[1;32m~\\anaconda3\\Lib\\site-packages\\pandas\\core\\groupby\\groupby.py:2452\u001b[0m, in \u001b[0;36mGroupBy.mean\u001b[1;34m(self, numeric_only, engine, engine_kwargs)\u001b[0m\n\u001b[0;32m   2445\u001b[0m     \u001b[38;5;28;01mreturn\u001b[39;00m \u001b[38;5;28mself\u001b[39m\u001b[38;5;241m.\u001b[39m_numba_agg_general(\n\u001b[0;32m   2446\u001b[0m         grouped_mean,\n\u001b[0;32m   2447\u001b[0m         executor\u001b[38;5;241m.\u001b[39mfloat_dtype_mapping,\n\u001b[0;32m   2448\u001b[0m         engine_kwargs,\n\u001b[0;32m   2449\u001b[0m         min_periods\u001b[38;5;241m=\u001b[39m\u001b[38;5;241m0\u001b[39m,\n\u001b[0;32m   2450\u001b[0m     )\n\u001b[0;32m   2451\u001b[0m \u001b[38;5;28;01melse\u001b[39;00m:\n\u001b[1;32m-> 2452\u001b[0m     result \u001b[38;5;241m=\u001b[39m \u001b[38;5;28mself\u001b[39m\u001b[38;5;241m.\u001b[39m_cython_agg_general(\n\u001b[0;32m   2453\u001b[0m         \u001b[38;5;124m\"\u001b[39m\u001b[38;5;124mmean\u001b[39m\u001b[38;5;124m\"\u001b[39m,\n\u001b[0;32m   2454\u001b[0m         alt\u001b[38;5;241m=\u001b[39m\u001b[38;5;28;01mlambda\u001b[39;00m x: Series(x, copy\u001b[38;5;241m=\u001b[39m\u001b[38;5;28;01mFalse\u001b[39;00m)\u001b[38;5;241m.\u001b[39mmean(numeric_only\u001b[38;5;241m=\u001b[39mnumeric_only),\n\u001b[0;32m   2455\u001b[0m         numeric_only\u001b[38;5;241m=\u001b[39mnumeric_only,\n\u001b[0;32m   2456\u001b[0m     )\n\u001b[0;32m   2457\u001b[0m     \u001b[38;5;28;01mreturn\u001b[39;00m result\u001b[38;5;241m.\u001b[39m__finalize__(\u001b[38;5;28mself\u001b[39m\u001b[38;5;241m.\u001b[39mobj, method\u001b[38;5;241m=\u001b[39m\u001b[38;5;124m\"\u001b[39m\u001b[38;5;124mgroupby\u001b[39m\u001b[38;5;124m\"\u001b[39m)\n",
      "File \u001b[1;32m~\\anaconda3\\Lib\\site-packages\\pandas\\core\\groupby\\groupby.py:1998\u001b[0m, in \u001b[0;36mGroupBy._cython_agg_general\u001b[1;34m(self, how, alt, numeric_only, min_count, **kwargs)\u001b[0m\n\u001b[0;32m   1995\u001b[0m     result \u001b[38;5;241m=\u001b[39m \u001b[38;5;28mself\u001b[39m\u001b[38;5;241m.\u001b[39m_agg_py_fallback(how, values, ndim\u001b[38;5;241m=\u001b[39mdata\u001b[38;5;241m.\u001b[39mndim, alt\u001b[38;5;241m=\u001b[39malt)\n\u001b[0;32m   1996\u001b[0m     \u001b[38;5;28;01mreturn\u001b[39;00m result\n\u001b[1;32m-> 1998\u001b[0m new_mgr \u001b[38;5;241m=\u001b[39m data\u001b[38;5;241m.\u001b[39mgrouped_reduce(array_func)\n\u001b[0;32m   1999\u001b[0m res \u001b[38;5;241m=\u001b[39m \u001b[38;5;28mself\u001b[39m\u001b[38;5;241m.\u001b[39m_wrap_agged_manager(new_mgr)\n\u001b[0;32m   2000\u001b[0m \u001b[38;5;28;01mif\u001b[39;00m how \u001b[38;5;129;01min\u001b[39;00m [\u001b[38;5;124m\"\u001b[39m\u001b[38;5;124midxmin\u001b[39m\u001b[38;5;124m\"\u001b[39m, \u001b[38;5;124m\"\u001b[39m\u001b[38;5;124midxmax\u001b[39m\u001b[38;5;124m\"\u001b[39m]:\n",
      "File \u001b[1;32m~\\anaconda3\\Lib\\site-packages\\pandas\\core\\internals\\managers.py:1469\u001b[0m, in \u001b[0;36mBlockManager.grouped_reduce\u001b[1;34m(self, func)\u001b[0m\n\u001b[0;32m   1465\u001b[0m \u001b[38;5;28;01mif\u001b[39;00m blk\u001b[38;5;241m.\u001b[39mis_object:\n\u001b[0;32m   1466\u001b[0m     \u001b[38;5;66;03m# split on object-dtype blocks bc some columns may raise\u001b[39;00m\n\u001b[0;32m   1467\u001b[0m     \u001b[38;5;66;03m#  while others do not.\u001b[39;00m\n\u001b[0;32m   1468\u001b[0m     \u001b[38;5;28;01mfor\u001b[39;00m sb \u001b[38;5;129;01min\u001b[39;00m blk\u001b[38;5;241m.\u001b[39m_split():\n\u001b[1;32m-> 1469\u001b[0m         applied \u001b[38;5;241m=\u001b[39m sb\u001b[38;5;241m.\u001b[39mapply(func)\n\u001b[0;32m   1470\u001b[0m         result_blocks \u001b[38;5;241m=\u001b[39m extend_blocks(applied, result_blocks)\n\u001b[0;32m   1471\u001b[0m \u001b[38;5;28;01melse\u001b[39;00m:\n",
      "File \u001b[1;32m~\\anaconda3\\Lib\\site-packages\\pandas\\core\\internals\\blocks.py:393\u001b[0m, in \u001b[0;36mBlock.apply\u001b[1;34m(self, func, **kwargs)\u001b[0m\n\u001b[0;32m    387\u001b[0m \u001b[38;5;129m@final\u001b[39m\n\u001b[0;32m    388\u001b[0m \u001b[38;5;28;01mdef\u001b[39;00m \u001b[38;5;21mapply\u001b[39m(\u001b[38;5;28mself\u001b[39m, func, \u001b[38;5;241m*\u001b[39m\u001b[38;5;241m*\u001b[39mkwargs) \u001b[38;5;241m-\u001b[39m\u001b[38;5;241m>\u001b[39m \u001b[38;5;28mlist\u001b[39m[Block]:\n\u001b[0;32m    389\u001b[0m \u001b[38;5;250m    \u001b[39m\u001b[38;5;124;03m\"\"\"\u001b[39;00m\n\u001b[0;32m    390\u001b[0m \u001b[38;5;124;03m    apply the function to my values; return a block if we are not\u001b[39;00m\n\u001b[0;32m    391\u001b[0m \u001b[38;5;124;03m    one\u001b[39;00m\n\u001b[0;32m    392\u001b[0m \u001b[38;5;124;03m    \"\"\"\u001b[39;00m\n\u001b[1;32m--> 393\u001b[0m     result \u001b[38;5;241m=\u001b[39m func(\u001b[38;5;28mself\u001b[39m\u001b[38;5;241m.\u001b[39mvalues, \u001b[38;5;241m*\u001b[39m\u001b[38;5;241m*\u001b[39mkwargs)\n\u001b[0;32m    395\u001b[0m     result \u001b[38;5;241m=\u001b[39m maybe_coerce_values(result)\n\u001b[0;32m    396\u001b[0m     \u001b[38;5;28;01mreturn\u001b[39;00m \u001b[38;5;28mself\u001b[39m\u001b[38;5;241m.\u001b[39m_split_op_result(result)\n",
      "File \u001b[1;32m~\\anaconda3\\Lib\\site-packages\\pandas\\core\\groupby\\groupby.py:1995\u001b[0m, in \u001b[0;36mGroupBy._cython_agg_general.<locals>.array_func\u001b[1;34m(values)\u001b[0m\n\u001b[0;32m   1992\u001b[0m     \u001b[38;5;28;01mreturn\u001b[39;00m result\n\u001b[0;32m   1994\u001b[0m \u001b[38;5;28;01massert\u001b[39;00m alt \u001b[38;5;129;01mis\u001b[39;00m \u001b[38;5;129;01mnot\u001b[39;00m \u001b[38;5;28;01mNone\u001b[39;00m\n\u001b[1;32m-> 1995\u001b[0m result \u001b[38;5;241m=\u001b[39m \u001b[38;5;28mself\u001b[39m\u001b[38;5;241m.\u001b[39m_agg_py_fallback(how, values, ndim\u001b[38;5;241m=\u001b[39mdata\u001b[38;5;241m.\u001b[39mndim, alt\u001b[38;5;241m=\u001b[39malt)\n\u001b[0;32m   1996\u001b[0m \u001b[38;5;28;01mreturn\u001b[39;00m result\n",
      "File \u001b[1;32m~\\anaconda3\\Lib\\site-packages\\pandas\\core\\groupby\\groupby.py:1946\u001b[0m, in \u001b[0;36mGroupBy._agg_py_fallback\u001b[1;34m(self, how, values, ndim, alt)\u001b[0m\n\u001b[0;32m   1944\u001b[0m     msg \u001b[38;5;241m=\u001b[39m \u001b[38;5;124mf\u001b[39m\u001b[38;5;124m\"\u001b[39m\u001b[38;5;124magg function failed [how->\u001b[39m\u001b[38;5;132;01m{\u001b[39;00mhow\u001b[38;5;132;01m}\u001b[39;00m\u001b[38;5;124m,dtype->\u001b[39m\u001b[38;5;132;01m{\u001b[39;00mser\u001b[38;5;241m.\u001b[39mdtype\u001b[38;5;132;01m}\u001b[39;00m\u001b[38;5;124m]\u001b[39m\u001b[38;5;124m\"\u001b[39m\n\u001b[0;32m   1945\u001b[0m     \u001b[38;5;66;03m# preserve the kind of exception that raised\u001b[39;00m\n\u001b[1;32m-> 1946\u001b[0m     \u001b[38;5;28;01mraise\u001b[39;00m \u001b[38;5;28mtype\u001b[39m(err)(msg) \u001b[38;5;28;01mfrom\u001b[39;00m \u001b[38;5;21;01merr\u001b[39;00m\n\u001b[0;32m   1948\u001b[0m \u001b[38;5;28;01mif\u001b[39;00m ser\u001b[38;5;241m.\u001b[39mdtype \u001b[38;5;241m==\u001b[39m \u001b[38;5;28mobject\u001b[39m:\n\u001b[0;32m   1949\u001b[0m     res_values \u001b[38;5;241m=\u001b[39m res_values\u001b[38;5;241m.\u001b[39mastype(\u001b[38;5;28mobject\u001b[39m, copy\u001b[38;5;241m=\u001b[39m\u001b[38;5;28;01mFalse\u001b[39;00m)\n",
      "\u001b[1;31mTypeError\u001b[0m: agg function failed [how->mean,dtype->object]"
     ]
    }
   ],
   "source": [
    "import pandas as pd\n",
    "\n",
    "# Load the dataset\n",
    "file_path = 'C:/Users/bibek/Downloads/PROJECT/features.csv'\n",
    "eeg_features_df = pd.read_csv(file_path)\n",
    "\n",
    "# Group by 'Emotion' and calculate the mean for each feature\n",
    "emotion_feature_means = eeg_features_df.groupby('Emotion').mean()\n",
    "\n",
    "# Reset the index to make 'Emotion' a column\n",
    "emotion_feature_means.reset_index(inplace=True)\n",
    "\n",
    "# Save the result to a new CSV file\n",
    "output_file_path = 'C:/Users/bibek/Downloads/PROJECT/emotion_feature_means.csv'\n",
    "emotion_feature_means.to_csv(output_file_path, index=False)\n",
    "\n",
    "print(f\"Combined feature means for each emotion saved to: {output_file_path}\")\n"
   ]
  },
  {
   "cell_type": "code",
   "execution_count": 44,
   "id": "7eb0c9b0-271e-4f65-8c75-82da3ba7d17f",
   "metadata": {},
   "outputs": [
    {
     "ename": "SyntaxError",
     "evalue": "(unicode error) 'unicodeescape' codec can't decode bytes in position 2-3: truncated \\UXXXXXXXX escape (4173987518.py, line 4)",
     "output_type": "error",
     "traceback": [
      "\u001b[1;36m  Cell \u001b[1;32mIn[44], line 4\u001b[1;36m\u001b[0m\n\u001b[1;33m    file_path = 'C:\\Users\\bibek\\Downloads\\PROJECT\\feature.csv'\u001b[0m\n\u001b[1;37m                ^\u001b[0m\n\u001b[1;31mSyntaxError\u001b[0m\u001b[1;31m:\u001b[0m (unicode error) 'unicodeescape' codec can't decode bytes in position 2-3: truncated \\UXXXXXXXX escape\n"
     ]
    }
   ],
   "source": [
    "import pandas as pd\n",
    "\n",
    "# Load the dataset\n",
    "file_path = 'C:\\Users\\bibek\\Downloads\\PROJECT\\feature.csv'\n",
    "eeg_features_df = pd.read_csv(file_path)\n",
    "\n",
    "# Group by 'Emotion' and calculate the mean for each feature\n",
    "emotion_feature_means = eeg_features_df.groupby('Emotion').mean()\n",
    "\n",
    "# Reset the index to make 'Emotion' a column\n",
    "emotion_feature_means.reset_index(inplace=True)\n",
    "\n",
    "# Save the result to a new CSV file\n",
    "output_file_path = 'C:/Users/bibek/Downloads/PROJECT/emotion_feature_means.csv'\n",
    "emotion_feature_means.to_csv(output_file_path, index=False)\n",
    "\n",
    "print(f\"Combined feature means for each emotion saved to: {output_file_path}\")\n"
   ]
  },
  {
   "cell_type": "code",
   "execution_count": 50,
   "id": "e55dc150-fe5b-424a-953d-5d42efcf8e5c",
   "metadata": {},
   "outputs": [
    {
     "ename": "SyntaxError",
     "evalue": "(unicode error) 'unicodeescape' codec can't decode bytes in position 2-3: truncated \\UXXXXXXXX escape (3023995565.py, line 4)",
     "output_type": "error",
     "traceback": [
      "\u001b[1;36m  Cell \u001b[1;32mIn[50], line 4\u001b[1;36m\u001b[0m\n\u001b[1;33m    file_path ='C:\\Users\\bibek\\Downloads\\PROJECT\\feature.csv'\u001b[0m\n\u001b[1;37m               ^\u001b[0m\n\u001b[1;31mSyntaxError\u001b[0m\u001b[1;31m:\u001b[0m (unicode error) 'unicodeescape' codec can't decode bytes in position 2-3: truncated \\UXXXXXXXX escape\n"
     ]
    }
   ],
   "source": []
  },
  {
   "cell_type": "code",
   "execution_count": 70,
   "id": "fb7f4dec-19fd-44b1-8514-e5f636930338",
   "metadata": {},
   "outputs": [
    {
     "ename": "FileNotFoundError",
     "evalue": "[Errno 2] No such file or directory: 'C:\\\\Users\\\\bibek\\\\Downloads\\\\PROJECT\\\\features.csv'",
     "output_type": "error",
     "traceback": [
      "\u001b[1;31m---------------------------------------------------------------------------\u001b[0m",
      "\u001b[1;31mFileNotFoundError\u001b[0m                         Traceback (most recent call last)",
      "Cell \u001b[1;32mIn[70], line 5\u001b[0m\n\u001b[0;32m      3\u001b[0m \u001b[38;5;66;03m# Load the dataset\u001b[39;00m\n\u001b[0;32m      4\u001b[0m file_path \u001b[38;5;241m=\u001b[39m \u001b[38;5;124mr\u001b[39m\u001b[38;5;124m\"\u001b[39m\u001b[38;5;124mC:\u001b[39m\u001b[38;5;124m\\\u001b[39m\u001b[38;5;124mUsers\u001b[39m\u001b[38;5;124m\\\u001b[39m\u001b[38;5;124mbibek\u001b[39m\u001b[38;5;124m\\\u001b[39m\u001b[38;5;124mDownloads\u001b[39m\u001b[38;5;124m\\\u001b[39m\u001b[38;5;124mPROJECT\u001b[39m\u001b[38;5;124m\\\u001b[39m\u001b[38;5;124mfeatures.csv\u001b[39m\u001b[38;5;124m\"\u001b[39m\n\u001b[1;32m----> 5\u001b[0m eeg_features_df \u001b[38;5;241m=\u001b[39m pd\u001b[38;5;241m.\u001b[39mread_csv(file_path)\n\u001b[0;32m      7\u001b[0m \u001b[38;5;66;03m# Group by 'Emotion' and calculate the mean for each feature\u001b[39;00m\n\u001b[0;32m      8\u001b[0m emotion_feature_means \u001b[38;5;241m=\u001b[39m eeg_features_df\u001b[38;5;241m.\u001b[39mgroupby(\u001b[38;5;124m'\u001b[39m\u001b[38;5;124mEmotion\u001b[39m\u001b[38;5;124m'\u001b[39m)\u001b[38;5;241m.\u001b[39mmean()\n",
      "File \u001b[1;32m~\\anaconda3\\Lib\\site-packages\\pandas\\io\\parsers\\readers.py:1026\u001b[0m, in \u001b[0;36mread_csv\u001b[1;34m(filepath_or_buffer, sep, delimiter, header, names, index_col, usecols, dtype, engine, converters, true_values, false_values, skipinitialspace, skiprows, skipfooter, nrows, na_values, keep_default_na, na_filter, verbose, skip_blank_lines, parse_dates, infer_datetime_format, keep_date_col, date_parser, date_format, dayfirst, cache_dates, iterator, chunksize, compression, thousands, decimal, lineterminator, quotechar, quoting, doublequote, escapechar, comment, encoding, encoding_errors, dialect, on_bad_lines, delim_whitespace, low_memory, memory_map, float_precision, storage_options, dtype_backend)\u001b[0m\n\u001b[0;32m   1013\u001b[0m kwds_defaults \u001b[38;5;241m=\u001b[39m _refine_defaults_read(\n\u001b[0;32m   1014\u001b[0m     dialect,\n\u001b[0;32m   1015\u001b[0m     delimiter,\n\u001b[1;32m   (...)\u001b[0m\n\u001b[0;32m   1022\u001b[0m     dtype_backend\u001b[38;5;241m=\u001b[39mdtype_backend,\n\u001b[0;32m   1023\u001b[0m )\n\u001b[0;32m   1024\u001b[0m kwds\u001b[38;5;241m.\u001b[39mupdate(kwds_defaults)\n\u001b[1;32m-> 1026\u001b[0m \u001b[38;5;28;01mreturn\u001b[39;00m _read(filepath_or_buffer, kwds)\n",
      "File \u001b[1;32m~\\anaconda3\\Lib\\site-packages\\pandas\\io\\parsers\\readers.py:620\u001b[0m, in \u001b[0;36m_read\u001b[1;34m(filepath_or_buffer, kwds)\u001b[0m\n\u001b[0;32m    617\u001b[0m _validate_names(kwds\u001b[38;5;241m.\u001b[39mget(\u001b[38;5;124m\"\u001b[39m\u001b[38;5;124mnames\u001b[39m\u001b[38;5;124m\"\u001b[39m, \u001b[38;5;28;01mNone\u001b[39;00m))\n\u001b[0;32m    619\u001b[0m \u001b[38;5;66;03m# Create the parser.\u001b[39;00m\n\u001b[1;32m--> 620\u001b[0m parser \u001b[38;5;241m=\u001b[39m TextFileReader(filepath_or_buffer, \u001b[38;5;241m*\u001b[39m\u001b[38;5;241m*\u001b[39mkwds)\n\u001b[0;32m    622\u001b[0m \u001b[38;5;28;01mif\u001b[39;00m chunksize \u001b[38;5;129;01mor\u001b[39;00m iterator:\n\u001b[0;32m    623\u001b[0m     \u001b[38;5;28;01mreturn\u001b[39;00m parser\n",
      "File \u001b[1;32m~\\anaconda3\\Lib\\site-packages\\pandas\\io\\parsers\\readers.py:1620\u001b[0m, in \u001b[0;36mTextFileReader.__init__\u001b[1;34m(self, f, engine, **kwds)\u001b[0m\n\u001b[0;32m   1617\u001b[0m     \u001b[38;5;28mself\u001b[39m\u001b[38;5;241m.\u001b[39moptions[\u001b[38;5;124m\"\u001b[39m\u001b[38;5;124mhas_index_names\u001b[39m\u001b[38;5;124m\"\u001b[39m] \u001b[38;5;241m=\u001b[39m kwds[\u001b[38;5;124m\"\u001b[39m\u001b[38;5;124mhas_index_names\u001b[39m\u001b[38;5;124m\"\u001b[39m]\n\u001b[0;32m   1619\u001b[0m \u001b[38;5;28mself\u001b[39m\u001b[38;5;241m.\u001b[39mhandles: IOHandles \u001b[38;5;241m|\u001b[39m \u001b[38;5;28;01mNone\u001b[39;00m \u001b[38;5;241m=\u001b[39m \u001b[38;5;28;01mNone\u001b[39;00m\n\u001b[1;32m-> 1620\u001b[0m \u001b[38;5;28mself\u001b[39m\u001b[38;5;241m.\u001b[39m_engine \u001b[38;5;241m=\u001b[39m \u001b[38;5;28mself\u001b[39m\u001b[38;5;241m.\u001b[39m_make_engine(f, \u001b[38;5;28mself\u001b[39m\u001b[38;5;241m.\u001b[39mengine)\n",
      "File \u001b[1;32m~\\anaconda3\\Lib\\site-packages\\pandas\\io\\parsers\\readers.py:1880\u001b[0m, in \u001b[0;36mTextFileReader._make_engine\u001b[1;34m(self, f, engine)\u001b[0m\n\u001b[0;32m   1878\u001b[0m     \u001b[38;5;28;01mif\u001b[39;00m \u001b[38;5;124m\"\u001b[39m\u001b[38;5;124mb\u001b[39m\u001b[38;5;124m\"\u001b[39m \u001b[38;5;129;01mnot\u001b[39;00m \u001b[38;5;129;01min\u001b[39;00m mode:\n\u001b[0;32m   1879\u001b[0m         mode \u001b[38;5;241m+\u001b[39m\u001b[38;5;241m=\u001b[39m \u001b[38;5;124m\"\u001b[39m\u001b[38;5;124mb\u001b[39m\u001b[38;5;124m\"\u001b[39m\n\u001b[1;32m-> 1880\u001b[0m \u001b[38;5;28mself\u001b[39m\u001b[38;5;241m.\u001b[39mhandles \u001b[38;5;241m=\u001b[39m get_handle(\n\u001b[0;32m   1881\u001b[0m     f,\n\u001b[0;32m   1882\u001b[0m     mode,\n\u001b[0;32m   1883\u001b[0m     encoding\u001b[38;5;241m=\u001b[39m\u001b[38;5;28mself\u001b[39m\u001b[38;5;241m.\u001b[39moptions\u001b[38;5;241m.\u001b[39mget(\u001b[38;5;124m\"\u001b[39m\u001b[38;5;124mencoding\u001b[39m\u001b[38;5;124m\"\u001b[39m, \u001b[38;5;28;01mNone\u001b[39;00m),\n\u001b[0;32m   1884\u001b[0m     compression\u001b[38;5;241m=\u001b[39m\u001b[38;5;28mself\u001b[39m\u001b[38;5;241m.\u001b[39moptions\u001b[38;5;241m.\u001b[39mget(\u001b[38;5;124m\"\u001b[39m\u001b[38;5;124mcompression\u001b[39m\u001b[38;5;124m\"\u001b[39m, \u001b[38;5;28;01mNone\u001b[39;00m),\n\u001b[0;32m   1885\u001b[0m     memory_map\u001b[38;5;241m=\u001b[39m\u001b[38;5;28mself\u001b[39m\u001b[38;5;241m.\u001b[39moptions\u001b[38;5;241m.\u001b[39mget(\u001b[38;5;124m\"\u001b[39m\u001b[38;5;124mmemory_map\u001b[39m\u001b[38;5;124m\"\u001b[39m, \u001b[38;5;28;01mFalse\u001b[39;00m),\n\u001b[0;32m   1886\u001b[0m     is_text\u001b[38;5;241m=\u001b[39mis_text,\n\u001b[0;32m   1887\u001b[0m     errors\u001b[38;5;241m=\u001b[39m\u001b[38;5;28mself\u001b[39m\u001b[38;5;241m.\u001b[39moptions\u001b[38;5;241m.\u001b[39mget(\u001b[38;5;124m\"\u001b[39m\u001b[38;5;124mencoding_errors\u001b[39m\u001b[38;5;124m\"\u001b[39m, \u001b[38;5;124m\"\u001b[39m\u001b[38;5;124mstrict\u001b[39m\u001b[38;5;124m\"\u001b[39m),\n\u001b[0;32m   1888\u001b[0m     storage_options\u001b[38;5;241m=\u001b[39m\u001b[38;5;28mself\u001b[39m\u001b[38;5;241m.\u001b[39moptions\u001b[38;5;241m.\u001b[39mget(\u001b[38;5;124m\"\u001b[39m\u001b[38;5;124mstorage_options\u001b[39m\u001b[38;5;124m\"\u001b[39m, \u001b[38;5;28;01mNone\u001b[39;00m),\n\u001b[0;32m   1889\u001b[0m )\n\u001b[0;32m   1890\u001b[0m \u001b[38;5;28;01massert\u001b[39;00m \u001b[38;5;28mself\u001b[39m\u001b[38;5;241m.\u001b[39mhandles \u001b[38;5;129;01mis\u001b[39;00m \u001b[38;5;129;01mnot\u001b[39;00m \u001b[38;5;28;01mNone\u001b[39;00m\n\u001b[0;32m   1891\u001b[0m f \u001b[38;5;241m=\u001b[39m \u001b[38;5;28mself\u001b[39m\u001b[38;5;241m.\u001b[39mhandles\u001b[38;5;241m.\u001b[39mhandle\n",
      "File \u001b[1;32m~\\anaconda3\\Lib\\site-packages\\pandas\\io\\common.py:873\u001b[0m, in \u001b[0;36mget_handle\u001b[1;34m(path_or_buf, mode, encoding, compression, memory_map, is_text, errors, storage_options)\u001b[0m\n\u001b[0;32m    868\u001b[0m \u001b[38;5;28;01melif\u001b[39;00m \u001b[38;5;28misinstance\u001b[39m(handle, \u001b[38;5;28mstr\u001b[39m):\n\u001b[0;32m    869\u001b[0m     \u001b[38;5;66;03m# Check whether the filename is to be opened in binary mode.\u001b[39;00m\n\u001b[0;32m    870\u001b[0m     \u001b[38;5;66;03m# Binary mode does not support 'encoding' and 'newline'.\u001b[39;00m\n\u001b[0;32m    871\u001b[0m     \u001b[38;5;28;01mif\u001b[39;00m ioargs\u001b[38;5;241m.\u001b[39mencoding \u001b[38;5;129;01mand\u001b[39;00m \u001b[38;5;124m\"\u001b[39m\u001b[38;5;124mb\u001b[39m\u001b[38;5;124m\"\u001b[39m \u001b[38;5;129;01mnot\u001b[39;00m \u001b[38;5;129;01min\u001b[39;00m ioargs\u001b[38;5;241m.\u001b[39mmode:\n\u001b[0;32m    872\u001b[0m         \u001b[38;5;66;03m# Encoding\u001b[39;00m\n\u001b[1;32m--> 873\u001b[0m         handle \u001b[38;5;241m=\u001b[39m \u001b[38;5;28mopen\u001b[39m(\n\u001b[0;32m    874\u001b[0m             handle,\n\u001b[0;32m    875\u001b[0m             ioargs\u001b[38;5;241m.\u001b[39mmode,\n\u001b[0;32m    876\u001b[0m             encoding\u001b[38;5;241m=\u001b[39mioargs\u001b[38;5;241m.\u001b[39mencoding,\n\u001b[0;32m    877\u001b[0m             errors\u001b[38;5;241m=\u001b[39merrors,\n\u001b[0;32m    878\u001b[0m             newline\u001b[38;5;241m=\u001b[39m\u001b[38;5;124m\"\u001b[39m\u001b[38;5;124m\"\u001b[39m,\n\u001b[0;32m    879\u001b[0m         )\n\u001b[0;32m    880\u001b[0m     \u001b[38;5;28;01melse\u001b[39;00m:\n\u001b[0;32m    881\u001b[0m         \u001b[38;5;66;03m# Binary mode\u001b[39;00m\n\u001b[0;32m    882\u001b[0m         handle \u001b[38;5;241m=\u001b[39m \u001b[38;5;28mopen\u001b[39m(handle, ioargs\u001b[38;5;241m.\u001b[39mmode)\n",
      "\u001b[1;31mFileNotFoundError\u001b[0m: [Errno 2] No such file or directory: 'C:\\\\Users\\\\bibek\\\\Downloads\\\\PROJECT\\\\features.csv'"
     ]
    }
   ],
   "source": [
    "import pandas as pd\n",
    "\n",
    "# Load the dataset\n",
    "file_path = r\"C:\\Users\\bibek\\Downloads\\PROJECT\\features.csv\"\n",
    "eeg_features_df = pd.read_csv(file_path)\n",
    "\n",
    "# Group by 'Emotion' and calculate the mean for each feature\n",
    "emotion_feature_means = eeg_features_df.groupby('Emotion').mean()\n",
    "\n",
    "# Reset the index to make 'Emotion' a column\n",
    "emotion_feature_means.reset_index(inplace=True)\n",
    "\n",
    "# Save the result to a new CSV file\n",
    "output_file_path = r\"C:\\Users\\bibek\\Downloads\\PROJECT\\emotion_feature_means.csv\"\n",
    "emotion_feature_means.to_csv(output_file_path, index=False)\n",
    "\n",
    "print(f\"Combined feature means for each emotion saved to: {output_file_path}\")\n"
   ]
  },
  {
   "cell_type": "code",
   "execution_count": 81,
   "id": "7c5ffe2e-384c-4949-b3e2-9bf6f7f97f5d",
   "metadata": {},
   "outputs": [
    {
     "name": "stdout",
     "output_type": "stream",
     "text": [
      "File not found: C:\\Users\\bibek\\Downloads\\PROJECT\\feature\\features.csv\n"
     ]
    }
   ],
   "source": [
    "import os\n",
    "import pandas as pd\n",
    "\n",
    "# Define the file path\n",
    "file_path = r\"C:\\Users\\bibek\\Downloads\\PROJECT\\feature\\features.csv\"\n",
    "\n",
    "# Check if the file exists\n",
    "if os.path.exists(file_path):\n",
    "    try:\n",
    "        # Load the dataset\n",
    "        eeg_features_df = pd.read_csv(file_path)\n",
    "        \n",
    "        # Group by 'Emotion' and calculate the mean for each feature\n",
    "        emotion_feature_means = eeg_features_df.groupby('Emotion').mean()\n",
    "        \n",
    "        # Reset the index to make 'Emotion' a column\n",
    "        emotion_feature_means.reset_index(inplace=True)\n",
    "        \n",
    "        # Define the output file path\n",
    "        output_file_path = r\"C:\\Users\\bibek\\Downloads\\PROJECT\\feature\\emotion_feature_means.csv\"\n",
    "        \n",
    "        # Save the result to a new CSV file\n",
    "        emotion_feature_means.to_csv(output_file_path, index=False)\n",
    "        \n",
    "        print(f\"Combined feature means for each emotion saved to: {output_file_path}\")\n",
    "    except Exception as e:\n",
    "        print(f\"An error occurred while processing the file: {e}\")\n",
    "else:\n",
    "    print(f\"File not found: {file_path}\")\n"
   ]
  },
  {
   "cell_type": "code",
   "execution_count": 87,
   "id": "5518780a-e8ba-4976-8c18-6797f848398c",
   "metadata": {},
   "outputs": [
    {
     "name": "stdout",
     "output_type": "stream",
     "text": [
      "An error occurred while processing the file: [Errno 13] Permission denied: 'C:\\\\Users\\\\bibek\\\\Downloads\\\\PROJECT\\\\feature'\n"
     ]
    }
   ],
   "source": [
    "import os\n",
    "import pandas as pd\n",
    "\n",
    "# Define the file path\n",
    "file_path = r\"C:\\Users\\bibek\\Downloads\\PROJECT\\feature\"\n",
    "\n",
    "# Check if the file exists\n",
    "if os.path.exists(file_path):\n",
    "    try:\n",
    "        # Load the dataset\n",
    "        eeg_features_df = pd.read_csv(file_path)\n",
    "        \n",
    "        # Group by 'Emotion' and calculate the mean for each feature\n",
    "        emotion_feature_means = eeg_features_df.groupby('Emotion').mean()\n",
    "        \n",
    "        # Reset the index to make 'Emotion' a column\n",
    "        emotion_feature_means.reset_index(inplace=True)\n",
    "        \n",
    "        # Define the output file path\n",
    "        output_file_path = r\"C:\\Users\\bibek\\Downloads\\PROJECT\\feature\\emotion_feature_means.csv\"\n",
    "        \n",
    "        # Save the result to a new CSV file\n",
    "        emotion_feature_means.to_csv(output_file_path, index=False)\n",
    "        \n",
    "        print(f\"Combined feature means for each emotion saved to: {output_file_path}\")\n",
    "    except Exception as e:\n",
    "        print(f\"An error occurred while processing the file: {e}\")\n",
    "else:\n",
    "    print(f\"File not found: {file_path}\")\n",
    "    "
   ]
  },
  {
   "cell_type": "code",
   "execution_count": 89,
   "id": "9f5dac22-7df2-470e-ba82-0db5614bacf3",
   "metadata": {},
   "outputs": [
    {
     "name": "stdout",
     "output_type": "stream",
     "text": [
      "An error occurred while processing the file: [Errno 13] Permission denied: 'C:\\\\Users\\\\bibek\\\\Downloads\\\\PROJECT\\\\feature'\n"
     ]
    }
   ],
   "source": [
    "import os\n",
    "import pandas as pd\n",
    "\n",
    "# Define the file path\n",
    "file_path = r\"C:\\Users\\bibek\\Downloads\\PROJECT\\feature\"\n",
    "\n",
    "# Check if the file exists\n",
    "if os.path.exists(file_path):\n",
    "    try:\n",
    "        # Load the dataset\n",
    "        eeg_features_df = pd.read_csv(file_path)\n",
    "        \n",
    "        # Group by 'Emotion' and calculate the mean for each feature\n",
    "        emotion_feature_means = eeg_features_df.groupby('Emotion').mean()\n",
    "        \n",
    "        # Reset the index to make 'Emotion' a column\n",
    "        emotion_feature_means.reset_index(inplace=True)\n",
    "        \n",
    "        # Define the output file path\n",
    "        output_file_path = r\"C:\\Users\\bibek\\Downloads\\PROJECT\\feature\\emotion_feature_means.csv\"\n",
    "        \n",
    "        # Save the result to a new CSV file\n",
    "        emotion_feature_means.to_csv(output_file_path, index=False)\n",
    "        \n",
    "        print(f\"Combined feature means for each emotion saved to: {output_file_path}\")\n",
    "    except Exception as e:\n",
    "        print(f\"An error occurred while processing the file: {e}\")\n",
    "else:\n",
    "    print(f\"File not found: {file_path}\")\n",
    "    "
   ]
  },
  {
   "cell_type": "code",
   "execution_count": 91,
   "id": "46089e16-e053-4382-a22e-efc89d721bc7",
   "metadata": {},
   "outputs": [
    {
     "name": "stdout",
     "output_type": "stream",
     "text": [
      "File not found: C:\\Users\\bibek\\Downloads\\PROJECT\\feature\\feature.csv\n"
     ]
    }
   ],
   "source": [
    "import os\n",
    "import pandas as pd\n",
    "\n",
    "# Define the folder location\n",
    "folder_path = r\"C:\\Users\\bibek\\Downloads\\PROJECT\\feature\"\n",
    "file_name = \"features.csv\"  # Specify the file name\n",
    "file_path = os.path.join(folder_path, file_name)  # Combine folder path and file name\n",
    "\n",
    "# Check if the file exists\n",
    "if os.path.exists(file_path):\n",
    "    try:\n",
    "        # Load the dataset\n",
    "        eeg_features_df = pd.read_csv(file_path)\n",
    "        \n",
    "        # Group by 'Emotion' and calculate the mean for each feature\n",
    "        emotion_feature_means = eeg_features_df.groupby('Emotion').mean()\n",
    "        \n",
    "        # Reset the index to make 'Emotion' a column\n",
    "        emotion_feature_means.reset_index(inplace=True)\n",
    "        \n",
    "        # Define the output file path\n",
    "        output_file_name = \"emotion_feature_means.csv\"  # Output file name\n",
    "        output_file_path = os.path.join(folder_path, output_file_name)  # Save in the same folder\n",
    "        \n",
    "        # Save the result to a new CSV file\n",
    "        emotion_feature_means.to_csv(output_file_path, index=False)\n",
    "        \n",
    "        print(f\"Combined feature means for each emotion saved to: {output_file_path}\")\n",
    "    except Exception as e:\n",
    "        print(f\"An error occurred while processing the file: {e}\")\n",
    "else:\n",
    "    print(f\"File not found: {file_path}\")\n"
   ]
  },
  {
   "cell_type": "code",
   "execution_count": 93,
   "id": "0f3b0601-e907-45a1-9294-f017f7ba67fb",
   "metadata": {},
   "outputs": [
    {
     "name": "stdout",
     "output_type": "stream",
     "text": [
      "File not found: C:\\Users\\bibek\\Downloads\\PROJECT\\feature\\features.csv\n"
     ]
    }
   ],
   "source": [
    "import os\n",
    "import pandas as pd\n",
    "\n",
    "# Define the folder location\n",
    "folder_path = r\"C:\\Users\\bibek\\Downloads\\PROJECT\\feature\"\n",
    "file_name = \"features.csv\"  # Specify the file name\n",
    "file_path = os.path.join(folder_path, file_name)  # Combine folder path and file name\n",
    "\n",
    "# Check if the file exists\n",
    "if os.path.exists(file_path):\n",
    "    try:\n",
    "        # Load the dataset\n",
    "        eeg_features_df = pd.read_csv(file_path)\n",
    "        \n",
    "        # Group by 'Emotion' and calculate the mean for each feature\n",
    "        emotion_feature_means = eeg_features_df.groupby('Emotion').mean()\n",
    "        \n",
    "        # Reset the index to make 'Emotion' a column\n",
    "        emotion_feature_means.reset_index(inplace=True)\n",
    "        \n",
    "        # Define the output file path\n",
    "        output_file_name = \"emotion_feature_means.csv\"  # Output file name\n",
    "        output_file_path = os.path.join(folder_path, output_file_name)  # Save in the same folder\n",
    "        \n",
    "        # Save the result to a new CSV file\n",
    "        emotion_feature_means.to_csv(output_file_path, index=False)\n",
    "        \n",
    "        print(f\"Combined feature means for each emotion saved to: {output_file_path}\")\n",
    "    except Exception as e:\n",
    "        print(f\"An error occurred while processing the file: {e}\")\n",
    "else:\n",
    "    print(f\"File not found: {file_path}\")\n"
   ]
  },
  {
   "cell_type": "code",
   "execution_count": 97,
   "id": "9e99abde-8bc5-49c6-ab7b-19e62d09a166",
   "metadata": {},
   "outputs": [
    {
     "name": "stdout",
     "output_type": "stream",
     "text": [
      "Files in directory: ['features.csv']\n",
      "File not found: C:\\Users\\bibek\\Downloads\\PROJECT\\feature\\feature.csv\n"
     ]
    }
   ],
   "source": [
    "import os\n",
    "import pandas as pd\n",
    "\n",
    "# Define the folder location\n",
    "folder_path = r\"C:\\Users\\bibek\\Downloads\\PROJECT\\feature\"\n",
    "file_name = \"feature.csv\"  # Adjust the name based on your file\n",
    "file_path = os.path.join(folder_path, file_name)\n",
    "\n",
    "# Debug: List files in the directory\n",
    "print(\"Files in directory:\", os.listdir(folder_path))\n",
    "\n",
    "# Check if the file exists\n",
    "if os.path.exists(file_path):\n",
    "    try:\n",
    "        # Load the dataset\n",
    "        eeg_features_df = pd.read_csv(file_path)\n",
    "        \n",
    "        # Group by 'Emotion' and calculate the mean for each feature\n",
    "        emotion_feature_means = eeg_features_df.groupby('Emotion').mean()\n",
    "        \n",
    "        # Reset the index to make 'Emotion' a column\n",
    "        emotion_feature_means.reset_index(inplace=True)\n",
    "        \n",
    "        # Define the output file path\n",
    "        output_file_name = \"emotion_feature_means.csv\"\n",
    "        output_file_path = os.path.join(folder_path, output_file_name)\n",
    "        \n",
    "        # Save the result to a new CSV file\n",
    "        emotion_feature_means.to_csv(output_file_path, index=False)\n",
    "        \n",
    "        print(f\"Combined feature means for each emotion saved to: {output_file_path}\")\n",
    "    except Exception as e:\n",
    "        print(f\"An error occurred while processing the file: {e}\")\n",
    "else:\n",
    "    print(f\"File not found: {file_path}\")\n"
   ]
  },
  {
   "cell_type": "code",
   "execution_count": 103,
   "id": "90d88877-3879-4453-a428-978f30d256b1",
   "metadata": {},
   "outputs": [
    {
     "name": "stdout",
     "output_type": "stream",
     "text": [
      "Files in directory: ['feature.csv.csv']\n",
      "File not found: C:\\Users\\bibek\\Downloads\\PROJECT\\feature\\feature.csv\n"
     ]
    }
   ],
   "source": [
    "import os\n",
    "import pandas as pd\n",
    "\n",
    "# Define the folder location\n",
    "folder_path = r\"C:\\Users\\bibek\\Downloads\\PROJECT\\feature\"\n",
    "file_name = \"feature.csv\"  # Adjust the name based on your file\n",
    "file_path = os.path.join(folder_path, file_name)\n",
    "\n",
    "# Debug: List files in the directory\n",
    "print(\"Files in directory:\", os.listdir(folder_path))\n",
    "\n",
    "# Check if the file exists\n",
    "if os.path.exists(file_path):\n",
    "    try:\n",
    "        # Load the dataset\n",
    "        eeg_features_df = pd.read_csv(file_path)\n",
    "        \n",
    "        # Group by 'Emotion' and calculate the mean for each feature\n",
    "        emotion_feature_means = eeg_features_df.groupby('Emotion').mean()\n",
    "        \n",
    "        # Reset the index to make 'Emotion' a column\n",
    "        emotion_feature_means.reset_index(inplace=True)\n",
    "        \n",
    "        # Define the output file path\n",
    "        output_file_name = \"emotion_feature_means.csv\"\n",
    "        output_file_path = os.path.join(folder_path, output_file_name)\n",
    "        \n",
    "        # Save the result to a new CSV file\n",
    "        emotion_feature_means.to_csv(output_file_path, index=False)\n",
    "        \n",
    "        print(f\"Combined feature means for each emotion saved to: {output_file_path}\")\n",
    "    except Exception as e:\n",
    "        print(f\"An error occurred while processing the file: {e}\")\n",
    "else:\n",
    "    print(f\"File not found: {file_path}\")\n",
    "    "
   ]
  },
  {
   "cell_type": "code",
   "execution_count": 105,
   "id": "842249bb-0633-4579-9a93-f15f78708d58",
   "metadata": {},
   "outputs": [
    {
     "name": "stdout",
     "output_type": "stream",
     "text": [
      "File not found: C:\\Users\\bibek\\Downloads\\PROJECT\\feature\\feature.csv\n"
     ]
    }
   ],
   "source": [
    "import os\n",
    "import pandas as pd\n",
    "\n",
    "# Define the folder location\n",
    "folder_path = r\"C:\\Users\\bibek\\Downloads\\PROJECT\\feature\"\n",
    "file_name = \"feature.csv\"\n",
    "file_path = os.path.join(folder_path, file_name)\n",
    "\n",
    "# Check if the file exists\n",
    "if os.path.exists(file_path):\n",
    "    try:\n",
    "        # Load the dataset\n",
    "        eeg_features_df = pd.read_csv(file_path)\n",
    "        \n",
    "        # Debug: Display data types\n",
    "        print(\"Column data types:\\n\", eeg_features_df.dtypes)\n",
    "        \n",
    "        # Select numeric columns only\n",
    "        numeric_columns = eeg_features_df.select_dtypes(include='number').columns\n",
    "        print(\"Numeric columns:\\n\", numeric_columns)\n",
    "        \n",
    "        # Group by 'Emotion' and calculate the mean for each numeric feature\n",
    "        emotion_feature_means = eeg_features_df.groupby('Emotion')[numeric_columns].mean()\n",
    "        \n",
    "        # Reset the index to make 'Emotion' a column\n",
    "        emotion_feature_means.reset_index(inplace=True)\n",
    "        \n",
    "        # Define the output file path\n",
    "        output_file_name = \"emotion_feature_means.csv\"\n",
    "        output_file_path = os.path.join(folder_path, output_file_name)\n",
    "        \n",
    "        # Save the result to a new CSV file\n",
    "        emotion_feature_means.to_csv(output_file_path, index=False)\n",
    "        \n",
    "        print(f\"Combined feature means for each emotion saved to: {output_file_path}\")\n",
    "    except Exception as e:\n",
    "        print(f\"An error occurred while processing the file: {e}\")\n",
    "else:\n",
    "    print(f\"File not found: {file_path}\")\n"
   ]
  },
  {
   "cell_type": "code",
   "execution_count": null,
   "id": "8a6bb9c1-dc6d-4323-b4d5-803b6bf4be72",
   "metadata": {},
   "outputs": [],
   "source": []
  }
 ],
 "metadata": {
  "kernelspec": {
   "display_name": "Python 3 (ipykernel)",
   "language": "python",
   "name": "python3"
  },
  "language_info": {
   "codemirror_mode": {
    "name": "ipython",
    "version": 3
   },
   "file_extension": ".py",
   "mimetype": "text/x-python",
   "name": "python",
   "nbconvert_exporter": "python",
   "pygments_lexer": "ipython3",
   "version": "3.12.4"
  }
 },
 "nbformat": 4,
 "nbformat_minor": 5
}
