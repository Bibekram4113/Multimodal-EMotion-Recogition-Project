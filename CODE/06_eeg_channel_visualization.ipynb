import os
import glob
import pandas as pd
import matplotlib.pyplot as plt

# Define folder path
eeg_folder = r'C:\Users\bibek\Downloads\eeg data2\fear'
output_folder = eeg_folder  # Save output CSV files in the same folder

# Get all text files in the folder
eeg_files = glob.glob(os.path.join(eeg_folder, '*.txt'))

def extract_channel4(file_path):
    """Extracts Channel 4 data from an EEG file, saves as CSV, and visualizes it."""
    try:
        with open(file_path, 'r') as file:
            lines = file.readlines()
        
        # Extract valid data
        data_lines = []
        for line in lines:
            try:
                values = [float(x) for x in line.strip().split('\t')]
                data_lines.append(values)
            except ValueError:
                continue  # Skip non-numeric lines
        
        # Convert to DataFrame
        df = pd.DataFrame(data_lines)
        num_channels = df.shape[1] - 1  # Exclude time column
        column_names = ['Time'] + [f'Channel {i+1}' for i in range(num_channels)]
        df.columns = column_names
        
        # Extract only Channel 4 data
        if 'Channel 4' not in df.columns:
            print(f"Skipping {file_path}: Channel 4 not found")
            return
        
        df_channel4 = df[['Time', 'Channel 4']]
        
        # Save extracted data to CSV
        output_filename = os.path.join(output_folder, os.path.basename(file_path).replace('.txt', '_channel4.csv'))
        df_channel4.to_csv(output_filename, index=False)
        print(f"Saved: {output_filename}")
        
        # Visualization
        plt.figure(figsize=(10, 4))
        plt.plot(df_channel4['Time'], df_channel4['Channel 4'], label='Channel 4', color='b')
        plt.xlabel('Time (s)')
        plt.ylabel('EEG Amplitude')
        plt.title(f"EEG Channel 4 Data: {os.path.basename(file_path)}")
        plt.legend()
        plt.grid(True)
        plt.show()
        
    except Exception as e:
        print(f"Error processing {file_path}: {e}")

# Process all EEG files
for file in eeg_files:
    extract_channel4(file)

print("Processing complete! All Channel 4 data saved and visualized.")

import os
import glob
import pandas as pd
import matplotlib.pyplot as plt
import scipy.signal as signal

# Define folder paths
eeg_folder = r'C:\Users\bibek\Downloads\eeg data2\fear\channel4'
output_folder = eeg_folder  # Save preprocessed CSV files in the same folder

# Get all CSV files in the folder
eeg_files = glob.glob(os.path.join(eeg_folder, '*.csv'))

def preprocess_eeg(file_path):
    """Loads, preprocesses, visualizes, and saves EEG Channel 4 data."""
    try:
        df = pd.read_csv(file_path)
        
        # Ensure valid data
        if 'Time' not in df.columns or 'Channel 4' not in df.columns:
            print(f"Skipping {file_path}: Required columns missing")
            return
        
        # Apply bandpass filtering (0.5-50 Hz)
        fs = 250  # Assuming EEG sampling frequency is 250 Hz
        lowcut, highcut = 0.5, 50.0
        nyquist = 0.5 * fs
        low, high = lowcut / nyquist, highcut / nyquist
        b, a = signal.butter(4, [low, high], btype='band')
        df['Channel 4'] = signal.filtfilt(b, a, df['Channel 4'])
        
        # Save preprocessed data to CSV
        output_filename = os.path.join(output_folder, os.path.basename(file_path).replace('.csv', '_preprocessed.csv'))
        df.to_csv(output_filename, index=False)
        print(f"Saved preprocessed file: {output_filename}")
        
        # Visualization
        plt.figure(figsize=(10, 4))
        plt.plot(df['Time'], df['Channel 4'], label='Preprocessed Channel 4', color='r')
        plt.xlabel('Time (s)')
        plt.ylabel('EEG Amplitude')
        plt.title(f"Preprocessed EEG Channel 4 Data: {os.path.basename(file_path)}")
        plt.legend()
        plt.grid(True)
        plt.show()
        
    except Exception as e:
        print(f"Error processing {file_path}: {e}")

# Process all EEG files
for file in eeg_files:
    preprocess_eeg(file)

print("Processing complete! All Channel 4 data preprocessed and visualized.")

import os
import glob
import pandas as pd
import numpy as np
import scipy.signal as signal
import matplotlib.pyplot as plt
from scipy.stats import skew, kurtosis, entropy

# Define folder paths
eeg_folder = r'C:\Users\bibek\Downloads\eeg data2\fear\preprocessed'
output_file = os.path.join(eeg_folder, 'EEG_features_all_subjects.csv')

# Get all preprocessed EEG CSV files
eeg_files = glob.glob(os.path.join(eeg_folder, '*_preprocessed.csv'))

# Feature extraction function
def extract_features(file_path):
    try:
        df = pd.read_csv(file_path)
        
        # Ensure required columns
        if 'Time' not in df.columns or 'Channel 4' not in df.columns:
            print(f"Skipping {file_path}: Required columns missing")
            return None
        
        signal_data = df['Channel 4'].values
        
        features = {
            'Subject': os.path.basename(file_path),
            'Mean': np.mean(signal_data),
            'Variance': np.var(signal_data),
            'Standard Deviation': np.std(signal_data),
            'RMS': np.sqrt(np.mean(signal_data**2)),
            'Skewness': skew(signal_data),
            'Kurtosis': kurtosis(signal_data),
            'Peak-to-Peak': np.ptp(signal_data),
            'Energy': np.sum(np.square(signal_data)),
            'Zero Crossings': np.sum(np.diff(np.sign(signal_data)) != 0),
            'Shannon Entropy': entropy(np.abs(signal_data)),
            'Hjorth Mobility': np.std(np.diff(signal_data)) / (np.std(signal_data) + 1e-10),
            'Hjorth Complexity': (np.std(np.diff(np.diff(signal_data))) / (np.std(np.diff(signal_data)) + 1e-10))
        }
        
        return features
    except Exception as e:
        print(f"Error processing {file_path}: {e}")
        return None

# Process all files and store features
feature_list = []

for file in eeg_files:
    features = extract_features(file)
    if features:
        feature_list.append(features)

# Convert to DataFrame and save
features_df = pd.DataFrame(feature_list)
features_df.to_csv(output_file, index=False)

print(f"Feature extraction complete! All features saved to {output_file}.")

